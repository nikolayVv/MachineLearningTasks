{
  "nbformat": 4,
  "nbformat_minor": 0,
  "metadata": {
    "colab": {
      "provenance": []
    },
    "kernelspec": {
      "name": "python3",
      "display_name": "Python 3"
    },
    "language_info": {
      "name": "python"
    }
  },
  "cells": [
    {
      "cell_type": "markdown",
      "source": [
        "# Assignment 3: Regularization and gredient descent"
      ],
      "metadata": {
        "id": "s5lRVGHJ3F3Q"
      }
    },
    {
      "cell_type": "markdown",
      "source": [
        "In this assignment we will implement the ridge regularization method using gradient descent and stochastic gradient descent and test it on \"Wine quality\" data."
      ],
      "metadata": {
        "id": "HVa54dsL3gu_"
      }
    },
    {
      "cell_type": "markdown",
      "source": [
        "## Download the \"Communities and Crime\" dataset and preprocess the data"
      ],
      "metadata": {
        "id": "w2VuwBRF30Z3"
      }
    },
    {
      "cell_type": "markdown",
      "source": [
        "We will start by downloading the dataset and loading it into a dataframe. The target value is the last column called **ViolentCrimesPerPop**."
      ],
      "metadata": {
        "id": "-7MVmWQJ4CIH"
      }
    },
    {
      "cell_type": "code",
      "execution_count": 75,
      "metadata": {
        "colab": {
          "base_uri": "https://localhost:8080/",
          "height": 236
        },
        "id": "guQnCS8T3EsF",
        "outputId": "bcaf2c2a-8c02-4f31-a804-fdc175d8d9bb"
      },
      "outputs": [
        {
          "output_type": "execute_result",
          "data": {
            "text/plain": [
              "   state  county  community        communityname  fold  population  \\\n",
              "0      8     NaN        NaN         Lakewoodcity     1        0.19   \n",
              "1     53     NaN        NaN          Tukwilacity     1        0.00   \n",
              "2     24     NaN        NaN         Aberdeentown     1        0.00   \n",
              "3     34     5.0    81440.0  Willingborotownship     1        0.04   \n",
              "4     42    95.0     6096.0    Bethlehemtownship     1        0.01   \n",
              "\n",
              "   householdsize  racepctblack  racePctWhite  racePctAsian  ...  LandArea  \\\n",
              "0           0.33          0.02          0.90          0.12  ...      0.12   \n",
              "1           0.16          0.12          0.74          0.45  ...      0.02   \n",
              "2           0.42          0.49          0.56          0.17  ...      0.01   \n",
              "3           0.77          1.00          0.08          0.12  ...      0.02   \n",
              "4           0.55          0.02          0.95          0.09  ...      0.04   \n",
              "\n",
              "   PopDens  PctUsePubTrans  PolicCars  PolicOperBudg  LemasPctPolicOnPatr  \\\n",
              "0     0.26            0.20       0.06           0.04                  0.9   \n",
              "1     0.12            0.45        NaN            NaN                  NaN   \n",
              "2     0.21            0.02        NaN            NaN                  NaN   \n",
              "3     0.39            0.28        NaN            NaN                  NaN   \n",
              "4     0.09            0.02        NaN            NaN                  NaN   \n",
              "\n",
              "   LemasGangUnitDeploy  LemasPctOfficDrugUn  PolicBudgPerPop  \\\n",
              "0                  0.5                 0.32             0.14   \n",
              "1                  NaN                 0.00              NaN   \n",
              "2                  NaN                 0.00              NaN   \n",
              "3                  NaN                 0.00              NaN   \n",
              "4                  NaN                 0.00              NaN   \n",
              "\n",
              "   ViolentCrimesPerPop  \n",
              "0                 0.20  \n",
              "1                 0.67  \n",
              "2                 0.43  \n",
              "3                 0.12  \n",
              "4                 0.03  \n",
              "\n",
              "[5 rows x 128 columns]"
            ],
            "text/html": [
              "\n",
              "  <div id=\"df-fc0a1ac6-fd08-4f4f-8451-1d3a9edf209a\" class=\"colab-df-container\">\n",
              "    <div>\n",
              "<style scoped>\n",
              "    .dataframe tbody tr th:only-of-type {\n",
              "        vertical-align: middle;\n",
              "    }\n",
              "\n",
              "    .dataframe tbody tr th {\n",
              "        vertical-align: top;\n",
              "    }\n",
              "\n",
              "    .dataframe thead th {\n",
              "        text-align: right;\n",
              "    }\n",
              "</style>\n",
              "<table border=\"1\" class=\"dataframe\">\n",
              "  <thead>\n",
              "    <tr style=\"text-align: right;\">\n",
              "      <th></th>\n",
              "      <th>state</th>\n",
              "      <th>county</th>\n",
              "      <th>community</th>\n",
              "      <th>communityname</th>\n",
              "      <th>fold</th>\n",
              "      <th>population</th>\n",
              "      <th>householdsize</th>\n",
              "      <th>racepctblack</th>\n",
              "      <th>racePctWhite</th>\n",
              "      <th>racePctAsian</th>\n",
              "      <th>...</th>\n",
              "      <th>LandArea</th>\n",
              "      <th>PopDens</th>\n",
              "      <th>PctUsePubTrans</th>\n",
              "      <th>PolicCars</th>\n",
              "      <th>PolicOperBudg</th>\n",
              "      <th>LemasPctPolicOnPatr</th>\n",
              "      <th>LemasGangUnitDeploy</th>\n",
              "      <th>LemasPctOfficDrugUn</th>\n",
              "      <th>PolicBudgPerPop</th>\n",
              "      <th>ViolentCrimesPerPop</th>\n",
              "    </tr>\n",
              "  </thead>\n",
              "  <tbody>\n",
              "    <tr>\n",
              "      <th>0</th>\n",
              "      <td>8</td>\n",
              "      <td>NaN</td>\n",
              "      <td>NaN</td>\n",
              "      <td>Lakewoodcity</td>\n",
              "      <td>1</td>\n",
              "      <td>0.19</td>\n",
              "      <td>0.33</td>\n",
              "      <td>0.02</td>\n",
              "      <td>0.90</td>\n",
              "      <td>0.12</td>\n",
              "      <td>...</td>\n",
              "      <td>0.12</td>\n",
              "      <td>0.26</td>\n",
              "      <td>0.20</td>\n",
              "      <td>0.06</td>\n",
              "      <td>0.04</td>\n",
              "      <td>0.9</td>\n",
              "      <td>0.5</td>\n",
              "      <td>0.32</td>\n",
              "      <td>0.14</td>\n",
              "      <td>0.20</td>\n",
              "    </tr>\n",
              "    <tr>\n",
              "      <th>1</th>\n",
              "      <td>53</td>\n",
              "      <td>NaN</td>\n",
              "      <td>NaN</td>\n",
              "      <td>Tukwilacity</td>\n",
              "      <td>1</td>\n",
              "      <td>0.00</td>\n",
              "      <td>0.16</td>\n",
              "      <td>0.12</td>\n",
              "      <td>0.74</td>\n",
              "      <td>0.45</td>\n",
              "      <td>...</td>\n",
              "      <td>0.02</td>\n",
              "      <td>0.12</td>\n",
              "      <td>0.45</td>\n",
              "      <td>NaN</td>\n",
              "      <td>NaN</td>\n",
              "      <td>NaN</td>\n",
              "      <td>NaN</td>\n",
              "      <td>0.00</td>\n",
              "      <td>NaN</td>\n",
              "      <td>0.67</td>\n",
              "    </tr>\n",
              "    <tr>\n",
              "      <th>2</th>\n",
              "      <td>24</td>\n",
              "      <td>NaN</td>\n",
              "      <td>NaN</td>\n",
              "      <td>Aberdeentown</td>\n",
              "      <td>1</td>\n",
              "      <td>0.00</td>\n",
              "      <td>0.42</td>\n",
              "      <td>0.49</td>\n",
              "      <td>0.56</td>\n",
              "      <td>0.17</td>\n",
              "      <td>...</td>\n",
              "      <td>0.01</td>\n",
              "      <td>0.21</td>\n",
              "      <td>0.02</td>\n",
              "      <td>NaN</td>\n",
              "      <td>NaN</td>\n",
              "      <td>NaN</td>\n",
              "      <td>NaN</td>\n",
              "      <td>0.00</td>\n",
              "      <td>NaN</td>\n",
              "      <td>0.43</td>\n",
              "    </tr>\n",
              "    <tr>\n",
              "      <th>3</th>\n",
              "      <td>34</td>\n",
              "      <td>5.0</td>\n",
              "      <td>81440.0</td>\n",
              "      <td>Willingborotownship</td>\n",
              "      <td>1</td>\n",
              "      <td>0.04</td>\n",
              "      <td>0.77</td>\n",
              "      <td>1.00</td>\n",
              "      <td>0.08</td>\n",
              "      <td>0.12</td>\n",
              "      <td>...</td>\n",
              "      <td>0.02</td>\n",
              "      <td>0.39</td>\n",
              "      <td>0.28</td>\n",
              "      <td>NaN</td>\n",
              "      <td>NaN</td>\n",
              "      <td>NaN</td>\n",
              "      <td>NaN</td>\n",
              "      <td>0.00</td>\n",
              "      <td>NaN</td>\n",
              "      <td>0.12</td>\n",
              "    </tr>\n",
              "    <tr>\n",
              "      <th>4</th>\n",
              "      <td>42</td>\n",
              "      <td>95.0</td>\n",
              "      <td>6096.0</td>\n",
              "      <td>Bethlehemtownship</td>\n",
              "      <td>1</td>\n",
              "      <td>0.01</td>\n",
              "      <td>0.55</td>\n",
              "      <td>0.02</td>\n",
              "      <td>0.95</td>\n",
              "      <td>0.09</td>\n",
              "      <td>...</td>\n",
              "      <td>0.04</td>\n",
              "      <td>0.09</td>\n",
              "      <td>0.02</td>\n",
              "      <td>NaN</td>\n",
              "      <td>NaN</td>\n",
              "      <td>NaN</td>\n",
              "      <td>NaN</td>\n",
              "      <td>0.00</td>\n",
              "      <td>NaN</td>\n",
              "      <td>0.03</td>\n",
              "    </tr>\n",
              "  </tbody>\n",
              "</table>\n",
              "<p>5 rows × 128 columns</p>\n",
              "</div>\n",
              "    <div class=\"colab-df-buttons\">\n",
              "\n",
              "  <div class=\"colab-df-container\">\n",
              "    <button class=\"colab-df-convert\" onclick=\"convertToInteractive('df-fc0a1ac6-fd08-4f4f-8451-1d3a9edf209a')\"\n",
              "            title=\"Convert this dataframe to an interactive table.\"\n",
              "            style=\"display:none;\">\n",
              "\n",
              "  <svg xmlns=\"http://www.w3.org/2000/svg\" height=\"24px\" viewBox=\"0 -960 960 960\">\n",
              "    <path d=\"M120-120v-720h720v720H120Zm60-500h600v-160H180v160Zm220 220h160v-160H400v160Zm0 220h160v-160H400v160ZM180-400h160v-160H180v160Zm440 0h160v-160H620v160ZM180-180h160v-160H180v160Zm440 0h160v-160H620v160Z\"/>\n",
              "  </svg>\n",
              "    </button>\n",
              "\n",
              "  <style>\n",
              "    .colab-df-container {\n",
              "      display:flex;\n",
              "      gap: 12px;\n",
              "    }\n",
              "\n",
              "    .colab-df-convert {\n",
              "      background-color: #E8F0FE;\n",
              "      border: none;\n",
              "      border-radius: 50%;\n",
              "      cursor: pointer;\n",
              "      display: none;\n",
              "      fill: #1967D2;\n",
              "      height: 32px;\n",
              "      padding: 0 0 0 0;\n",
              "      width: 32px;\n",
              "    }\n",
              "\n",
              "    .colab-df-convert:hover {\n",
              "      background-color: #E2EBFA;\n",
              "      box-shadow: 0px 1px 2px rgba(60, 64, 67, 0.3), 0px 1px 3px 1px rgba(60, 64, 67, 0.15);\n",
              "      fill: #174EA6;\n",
              "    }\n",
              "\n",
              "    .colab-df-buttons div {\n",
              "      margin-bottom: 4px;\n",
              "    }\n",
              "\n",
              "    [theme=dark] .colab-df-convert {\n",
              "      background-color: #3B4455;\n",
              "      fill: #D2E3FC;\n",
              "    }\n",
              "\n",
              "    [theme=dark] .colab-df-convert:hover {\n",
              "      background-color: #434B5C;\n",
              "      box-shadow: 0px 1px 3px 1px rgba(0, 0, 0, 0.15);\n",
              "      filter: drop-shadow(0px 1px 2px rgba(0, 0, 0, 0.3));\n",
              "      fill: #FFFFFF;\n",
              "    }\n",
              "  </style>\n",
              "\n",
              "    <script>\n",
              "      const buttonEl =\n",
              "        document.querySelector('#df-fc0a1ac6-fd08-4f4f-8451-1d3a9edf209a button.colab-df-convert');\n",
              "      buttonEl.style.display =\n",
              "        google.colab.kernel.accessAllowed ? 'block' : 'none';\n",
              "\n",
              "      async function convertToInteractive(key) {\n",
              "        const element = document.querySelector('#df-fc0a1ac6-fd08-4f4f-8451-1d3a9edf209a');\n",
              "        const dataTable =\n",
              "          await google.colab.kernel.invokeFunction('convertToInteractive',\n",
              "                                                    [key], {});\n",
              "        if (!dataTable) return;\n",
              "\n",
              "        const docLinkHtml = 'Like what you see? Visit the ' +\n",
              "          '<a target=\"_blank\" href=https://colab.research.google.com/notebooks/data_table.ipynb>data table notebook</a>'\n",
              "          + ' to learn more about interactive tables.';\n",
              "        element.innerHTML = '';\n",
              "        dataTable['output_type'] = 'display_data';\n",
              "        await google.colab.output.renderOutput(dataTable, element);\n",
              "        const docLink = document.createElement('div');\n",
              "        docLink.innerHTML = docLinkHtml;\n",
              "        element.appendChild(docLink);\n",
              "      }\n",
              "    </script>\n",
              "  </div>\n",
              "\n",
              "\n",
              "<div id=\"df-e5b8aed1-16a8-47d8-93b0-bc3286861c65\">\n",
              "  <button class=\"colab-df-quickchart\" onclick=\"quickchart('df-e5b8aed1-16a8-47d8-93b0-bc3286861c65')\"\n",
              "            title=\"Suggest charts\"\n",
              "            style=\"display:none;\">\n",
              "\n",
              "<svg xmlns=\"http://www.w3.org/2000/svg\" height=\"24px\"viewBox=\"0 0 24 24\"\n",
              "     width=\"24px\">\n",
              "    <g>\n",
              "        <path d=\"M19 3H5c-1.1 0-2 .9-2 2v14c0 1.1.9 2 2 2h14c1.1 0 2-.9 2-2V5c0-1.1-.9-2-2-2zM9 17H7v-7h2v7zm4 0h-2V7h2v10zm4 0h-2v-4h2v4z\"/>\n",
              "    </g>\n",
              "</svg>\n",
              "  </button>\n",
              "\n",
              "<style>\n",
              "  .colab-df-quickchart {\n",
              "      --bg-color: #E8F0FE;\n",
              "      --fill-color: #1967D2;\n",
              "      --hover-bg-color: #E2EBFA;\n",
              "      --hover-fill-color: #174EA6;\n",
              "      --disabled-fill-color: #AAA;\n",
              "      --disabled-bg-color: #DDD;\n",
              "  }\n",
              "\n",
              "  [theme=dark] .colab-df-quickchart {\n",
              "      --bg-color: #3B4455;\n",
              "      --fill-color: #D2E3FC;\n",
              "      --hover-bg-color: #434B5C;\n",
              "      --hover-fill-color: #FFFFFF;\n",
              "      --disabled-bg-color: #3B4455;\n",
              "      --disabled-fill-color: #666;\n",
              "  }\n",
              "\n",
              "  .colab-df-quickchart {\n",
              "    background-color: var(--bg-color);\n",
              "    border: none;\n",
              "    border-radius: 50%;\n",
              "    cursor: pointer;\n",
              "    display: none;\n",
              "    fill: var(--fill-color);\n",
              "    height: 32px;\n",
              "    padding: 0;\n",
              "    width: 32px;\n",
              "  }\n",
              "\n",
              "  .colab-df-quickchart:hover {\n",
              "    background-color: var(--hover-bg-color);\n",
              "    box-shadow: 0 1px 2px rgba(60, 64, 67, 0.3), 0 1px 3px 1px rgba(60, 64, 67, 0.15);\n",
              "    fill: var(--button-hover-fill-color);\n",
              "  }\n",
              "\n",
              "  .colab-df-quickchart-complete:disabled,\n",
              "  .colab-df-quickchart-complete:disabled:hover {\n",
              "    background-color: var(--disabled-bg-color);\n",
              "    fill: var(--disabled-fill-color);\n",
              "    box-shadow: none;\n",
              "  }\n",
              "\n",
              "  .colab-df-spinner {\n",
              "    border: 2px solid var(--fill-color);\n",
              "    border-color: transparent;\n",
              "    border-bottom-color: var(--fill-color);\n",
              "    animation:\n",
              "      spin 1s steps(1) infinite;\n",
              "  }\n",
              "\n",
              "  @keyframes spin {\n",
              "    0% {\n",
              "      border-color: transparent;\n",
              "      border-bottom-color: var(--fill-color);\n",
              "      border-left-color: var(--fill-color);\n",
              "    }\n",
              "    20% {\n",
              "      border-color: transparent;\n",
              "      border-left-color: var(--fill-color);\n",
              "      border-top-color: var(--fill-color);\n",
              "    }\n",
              "    30% {\n",
              "      border-color: transparent;\n",
              "      border-left-color: var(--fill-color);\n",
              "      border-top-color: var(--fill-color);\n",
              "      border-right-color: var(--fill-color);\n",
              "    }\n",
              "    40% {\n",
              "      border-color: transparent;\n",
              "      border-right-color: var(--fill-color);\n",
              "      border-top-color: var(--fill-color);\n",
              "    }\n",
              "    60% {\n",
              "      border-color: transparent;\n",
              "      border-right-color: var(--fill-color);\n",
              "    }\n",
              "    80% {\n",
              "      border-color: transparent;\n",
              "      border-right-color: var(--fill-color);\n",
              "      border-bottom-color: var(--fill-color);\n",
              "    }\n",
              "    90% {\n",
              "      border-color: transparent;\n",
              "      border-bottom-color: var(--fill-color);\n",
              "    }\n",
              "  }\n",
              "</style>\n",
              "\n",
              "  <script>\n",
              "    async function quickchart(key) {\n",
              "      const quickchartButtonEl =\n",
              "        document.querySelector('#' + key + ' button');\n",
              "      quickchartButtonEl.disabled = true;  // To prevent multiple clicks.\n",
              "      quickchartButtonEl.classList.add('colab-df-spinner');\n",
              "      try {\n",
              "        const charts = await google.colab.kernel.invokeFunction(\n",
              "            'suggestCharts', [key], {});\n",
              "      } catch (error) {\n",
              "        console.error('Error during call to suggestCharts:', error);\n",
              "      }\n",
              "      quickchartButtonEl.classList.remove('colab-df-spinner');\n",
              "      quickchartButtonEl.classList.add('colab-df-quickchart-complete');\n",
              "    }\n",
              "    (() => {\n",
              "      let quickchartButtonEl =\n",
              "        document.querySelector('#df-e5b8aed1-16a8-47d8-93b0-bc3286861c65 button');\n",
              "      quickchartButtonEl.style.display =\n",
              "        google.colab.kernel.accessAllowed ? 'block' : 'none';\n",
              "    })();\n",
              "  </script>\n",
              "</div>\n",
              "    </div>\n",
              "  </div>\n"
            ]
          },
          "metadata": {},
          "execution_count": 75
        }
      ],
      "source": [
        "import pandas as pd\n",
        "\n",
        "with open(\"data/communities.names\") as f:\n",
        "    columns = [l.split(\" \")[1] for l in f.readlines() if l.startswith(\"@attribute\")]\n",
        "\n",
        "communities_crime = pd.read_csv('data/communities.data', header=None, names=columns, na_values='?')\n",
        "communities_crime.head()"
      ]
    },
    {
      "cell_type": "markdown",
      "source": [
        "Now we have to remove the attributes state, county, community, community name, and fold, which are columns from 1 to 5."
      ],
      "metadata": {
        "id": "rC1Lz3ex4GYm"
      }
    },
    {
      "cell_type": "code",
      "source": [
        "communities_crime = communities_crime.drop(columns=[\"state\", \"county\", \"community\", \"communityname\", \"fold\"])\n",
        "communities_crime.head()"
      ],
      "metadata": {
        "colab": {
          "base_uri": "https://localhost:8080/",
          "height": 256
        },
        "id": "YID9z8Bv4C4X",
        "outputId": "545ac6c5-052e-4935-c440-95b23bfe3ed6"
      },
      "execution_count": 76,
      "outputs": [
        {
          "output_type": "execute_result",
          "data": {
            "text/plain": [
              "   population  householdsize  racepctblack  racePctWhite  racePctAsian  \\\n",
              "0        0.19           0.33          0.02          0.90          0.12   \n",
              "1        0.00           0.16          0.12          0.74          0.45   \n",
              "2        0.00           0.42          0.49          0.56          0.17   \n",
              "3        0.04           0.77          1.00          0.08          0.12   \n",
              "4        0.01           0.55          0.02          0.95          0.09   \n",
              "\n",
              "   racePctHisp  agePct12t21  agePct12t29  agePct16t24  agePct65up  ...  \\\n",
              "0         0.17         0.34         0.47         0.29        0.32  ...   \n",
              "1         0.07         0.26         0.59         0.35        0.27  ...   \n",
              "2         0.04         0.39         0.47         0.28        0.32  ...   \n",
              "3         0.10         0.51         0.50         0.34        0.21  ...   \n",
              "4         0.05         0.38         0.38         0.23        0.36  ...   \n",
              "\n",
              "   LandArea  PopDens  PctUsePubTrans  PolicCars  PolicOperBudg  \\\n",
              "0      0.12     0.26            0.20       0.06           0.04   \n",
              "1      0.02     0.12            0.45        NaN            NaN   \n",
              "2      0.01     0.21            0.02        NaN            NaN   \n",
              "3      0.02     0.39            0.28        NaN            NaN   \n",
              "4      0.04     0.09            0.02        NaN            NaN   \n",
              "\n",
              "   LemasPctPolicOnPatr  LemasGangUnitDeploy  LemasPctOfficDrugUn  \\\n",
              "0                  0.9                  0.5                 0.32   \n",
              "1                  NaN                  NaN                 0.00   \n",
              "2                  NaN                  NaN                 0.00   \n",
              "3                  NaN                  NaN                 0.00   \n",
              "4                  NaN                  NaN                 0.00   \n",
              "\n",
              "   PolicBudgPerPop  ViolentCrimesPerPop  \n",
              "0             0.14                 0.20  \n",
              "1              NaN                 0.67  \n",
              "2              NaN                 0.43  \n",
              "3              NaN                 0.12  \n",
              "4              NaN                 0.03  \n",
              "\n",
              "[5 rows x 123 columns]"
            ],
            "text/html": [
              "\n",
              "  <div id=\"df-65e3d829-6b88-4fb1-b1e1-335b7cb001f1\" class=\"colab-df-container\">\n",
              "    <div>\n",
              "<style scoped>\n",
              "    .dataframe tbody tr th:only-of-type {\n",
              "        vertical-align: middle;\n",
              "    }\n",
              "\n",
              "    .dataframe tbody tr th {\n",
              "        vertical-align: top;\n",
              "    }\n",
              "\n",
              "    .dataframe thead th {\n",
              "        text-align: right;\n",
              "    }\n",
              "</style>\n",
              "<table border=\"1\" class=\"dataframe\">\n",
              "  <thead>\n",
              "    <tr style=\"text-align: right;\">\n",
              "      <th></th>\n",
              "      <th>population</th>\n",
              "      <th>householdsize</th>\n",
              "      <th>racepctblack</th>\n",
              "      <th>racePctWhite</th>\n",
              "      <th>racePctAsian</th>\n",
              "      <th>racePctHisp</th>\n",
              "      <th>agePct12t21</th>\n",
              "      <th>agePct12t29</th>\n",
              "      <th>agePct16t24</th>\n",
              "      <th>agePct65up</th>\n",
              "      <th>...</th>\n",
              "      <th>LandArea</th>\n",
              "      <th>PopDens</th>\n",
              "      <th>PctUsePubTrans</th>\n",
              "      <th>PolicCars</th>\n",
              "      <th>PolicOperBudg</th>\n",
              "      <th>LemasPctPolicOnPatr</th>\n",
              "      <th>LemasGangUnitDeploy</th>\n",
              "      <th>LemasPctOfficDrugUn</th>\n",
              "      <th>PolicBudgPerPop</th>\n",
              "      <th>ViolentCrimesPerPop</th>\n",
              "    </tr>\n",
              "  </thead>\n",
              "  <tbody>\n",
              "    <tr>\n",
              "      <th>0</th>\n",
              "      <td>0.19</td>\n",
              "      <td>0.33</td>\n",
              "      <td>0.02</td>\n",
              "      <td>0.90</td>\n",
              "      <td>0.12</td>\n",
              "      <td>0.17</td>\n",
              "      <td>0.34</td>\n",
              "      <td>0.47</td>\n",
              "      <td>0.29</td>\n",
              "      <td>0.32</td>\n",
              "      <td>...</td>\n",
              "      <td>0.12</td>\n",
              "      <td>0.26</td>\n",
              "      <td>0.20</td>\n",
              "      <td>0.06</td>\n",
              "      <td>0.04</td>\n",
              "      <td>0.9</td>\n",
              "      <td>0.5</td>\n",
              "      <td>0.32</td>\n",
              "      <td>0.14</td>\n",
              "      <td>0.20</td>\n",
              "    </tr>\n",
              "    <tr>\n",
              "      <th>1</th>\n",
              "      <td>0.00</td>\n",
              "      <td>0.16</td>\n",
              "      <td>0.12</td>\n",
              "      <td>0.74</td>\n",
              "      <td>0.45</td>\n",
              "      <td>0.07</td>\n",
              "      <td>0.26</td>\n",
              "      <td>0.59</td>\n",
              "      <td>0.35</td>\n",
              "      <td>0.27</td>\n",
              "      <td>...</td>\n",
              "      <td>0.02</td>\n",
              "      <td>0.12</td>\n",
              "      <td>0.45</td>\n",
              "      <td>NaN</td>\n",
              "      <td>NaN</td>\n",
              "      <td>NaN</td>\n",
              "      <td>NaN</td>\n",
              "      <td>0.00</td>\n",
              "      <td>NaN</td>\n",
              "      <td>0.67</td>\n",
              "    </tr>\n",
              "    <tr>\n",
              "      <th>2</th>\n",
              "      <td>0.00</td>\n",
              "      <td>0.42</td>\n",
              "      <td>0.49</td>\n",
              "      <td>0.56</td>\n",
              "      <td>0.17</td>\n",
              "      <td>0.04</td>\n",
              "      <td>0.39</td>\n",
              "      <td>0.47</td>\n",
              "      <td>0.28</td>\n",
              "      <td>0.32</td>\n",
              "      <td>...</td>\n",
              "      <td>0.01</td>\n",
              "      <td>0.21</td>\n",
              "      <td>0.02</td>\n",
              "      <td>NaN</td>\n",
              "      <td>NaN</td>\n",
              "      <td>NaN</td>\n",
              "      <td>NaN</td>\n",
              "      <td>0.00</td>\n",
              "      <td>NaN</td>\n",
              "      <td>0.43</td>\n",
              "    </tr>\n",
              "    <tr>\n",
              "      <th>3</th>\n",
              "      <td>0.04</td>\n",
              "      <td>0.77</td>\n",
              "      <td>1.00</td>\n",
              "      <td>0.08</td>\n",
              "      <td>0.12</td>\n",
              "      <td>0.10</td>\n",
              "      <td>0.51</td>\n",
              "      <td>0.50</td>\n",
              "      <td>0.34</td>\n",
              "      <td>0.21</td>\n",
              "      <td>...</td>\n",
              "      <td>0.02</td>\n",
              "      <td>0.39</td>\n",
              "      <td>0.28</td>\n",
              "      <td>NaN</td>\n",
              "      <td>NaN</td>\n",
              "      <td>NaN</td>\n",
              "      <td>NaN</td>\n",
              "      <td>0.00</td>\n",
              "      <td>NaN</td>\n",
              "      <td>0.12</td>\n",
              "    </tr>\n",
              "    <tr>\n",
              "      <th>4</th>\n",
              "      <td>0.01</td>\n",
              "      <td>0.55</td>\n",
              "      <td>0.02</td>\n",
              "      <td>0.95</td>\n",
              "      <td>0.09</td>\n",
              "      <td>0.05</td>\n",
              "      <td>0.38</td>\n",
              "      <td>0.38</td>\n",
              "      <td>0.23</td>\n",
              "      <td>0.36</td>\n",
              "      <td>...</td>\n",
              "      <td>0.04</td>\n",
              "      <td>0.09</td>\n",
              "      <td>0.02</td>\n",
              "      <td>NaN</td>\n",
              "      <td>NaN</td>\n",
              "      <td>NaN</td>\n",
              "      <td>NaN</td>\n",
              "      <td>0.00</td>\n",
              "      <td>NaN</td>\n",
              "      <td>0.03</td>\n",
              "    </tr>\n",
              "  </tbody>\n",
              "</table>\n",
              "<p>5 rows × 123 columns</p>\n",
              "</div>\n",
              "    <div class=\"colab-df-buttons\">\n",
              "\n",
              "  <div class=\"colab-df-container\">\n",
              "    <button class=\"colab-df-convert\" onclick=\"convertToInteractive('df-65e3d829-6b88-4fb1-b1e1-335b7cb001f1')\"\n",
              "            title=\"Convert this dataframe to an interactive table.\"\n",
              "            style=\"display:none;\">\n",
              "\n",
              "  <svg xmlns=\"http://www.w3.org/2000/svg\" height=\"24px\" viewBox=\"0 -960 960 960\">\n",
              "    <path d=\"M120-120v-720h720v720H120Zm60-500h600v-160H180v160Zm220 220h160v-160H400v160Zm0 220h160v-160H400v160ZM180-400h160v-160H180v160Zm440 0h160v-160H620v160ZM180-180h160v-160H180v160Zm440 0h160v-160H620v160Z\"/>\n",
              "  </svg>\n",
              "    </button>\n",
              "\n",
              "  <style>\n",
              "    .colab-df-container {\n",
              "      display:flex;\n",
              "      gap: 12px;\n",
              "    }\n",
              "\n",
              "    .colab-df-convert {\n",
              "      background-color: #E8F0FE;\n",
              "      border: none;\n",
              "      border-radius: 50%;\n",
              "      cursor: pointer;\n",
              "      display: none;\n",
              "      fill: #1967D2;\n",
              "      height: 32px;\n",
              "      padding: 0 0 0 0;\n",
              "      width: 32px;\n",
              "    }\n",
              "\n",
              "    .colab-df-convert:hover {\n",
              "      background-color: #E2EBFA;\n",
              "      box-shadow: 0px 1px 2px rgba(60, 64, 67, 0.3), 0px 1px 3px 1px rgba(60, 64, 67, 0.15);\n",
              "      fill: #174EA6;\n",
              "    }\n",
              "\n",
              "    .colab-df-buttons div {\n",
              "      margin-bottom: 4px;\n",
              "    }\n",
              "\n",
              "    [theme=dark] .colab-df-convert {\n",
              "      background-color: #3B4455;\n",
              "      fill: #D2E3FC;\n",
              "    }\n",
              "\n",
              "    [theme=dark] .colab-df-convert:hover {\n",
              "      background-color: #434B5C;\n",
              "      box-shadow: 0px 1px 3px 1px rgba(0, 0, 0, 0.15);\n",
              "      filter: drop-shadow(0px 1px 2px rgba(0, 0, 0, 0.3));\n",
              "      fill: #FFFFFF;\n",
              "    }\n",
              "  </style>\n",
              "\n",
              "    <script>\n",
              "      const buttonEl =\n",
              "        document.querySelector('#df-65e3d829-6b88-4fb1-b1e1-335b7cb001f1 button.colab-df-convert');\n",
              "      buttonEl.style.display =\n",
              "        google.colab.kernel.accessAllowed ? 'block' : 'none';\n",
              "\n",
              "      async function convertToInteractive(key) {\n",
              "        const element = document.querySelector('#df-65e3d829-6b88-4fb1-b1e1-335b7cb001f1');\n",
              "        const dataTable =\n",
              "          await google.colab.kernel.invokeFunction('convertToInteractive',\n",
              "                                                    [key], {});\n",
              "        if (!dataTable) return;\n",
              "\n",
              "        const docLinkHtml = 'Like what you see? Visit the ' +\n",
              "          '<a target=\"_blank\" href=https://colab.research.google.com/notebooks/data_table.ipynb>data table notebook</a>'\n",
              "          + ' to learn more about interactive tables.';\n",
              "        element.innerHTML = '';\n",
              "        dataTable['output_type'] = 'display_data';\n",
              "        await google.colab.output.renderOutput(dataTable, element);\n",
              "        const docLink = document.createElement('div');\n",
              "        docLink.innerHTML = docLinkHtml;\n",
              "        element.appendChild(docLink);\n",
              "      }\n",
              "    </script>\n",
              "  </div>\n",
              "\n",
              "\n",
              "<div id=\"df-44bdf79f-0e18-4eed-b5ef-be4012ca2cb3\">\n",
              "  <button class=\"colab-df-quickchart\" onclick=\"quickchart('df-44bdf79f-0e18-4eed-b5ef-be4012ca2cb3')\"\n",
              "            title=\"Suggest charts\"\n",
              "            style=\"display:none;\">\n",
              "\n",
              "<svg xmlns=\"http://www.w3.org/2000/svg\" height=\"24px\"viewBox=\"0 0 24 24\"\n",
              "     width=\"24px\">\n",
              "    <g>\n",
              "        <path d=\"M19 3H5c-1.1 0-2 .9-2 2v14c0 1.1.9 2 2 2h14c1.1 0 2-.9 2-2V5c0-1.1-.9-2-2-2zM9 17H7v-7h2v7zm4 0h-2V7h2v10zm4 0h-2v-4h2v4z\"/>\n",
              "    </g>\n",
              "</svg>\n",
              "  </button>\n",
              "\n",
              "<style>\n",
              "  .colab-df-quickchart {\n",
              "      --bg-color: #E8F0FE;\n",
              "      --fill-color: #1967D2;\n",
              "      --hover-bg-color: #E2EBFA;\n",
              "      --hover-fill-color: #174EA6;\n",
              "      --disabled-fill-color: #AAA;\n",
              "      --disabled-bg-color: #DDD;\n",
              "  }\n",
              "\n",
              "  [theme=dark] .colab-df-quickchart {\n",
              "      --bg-color: #3B4455;\n",
              "      --fill-color: #D2E3FC;\n",
              "      --hover-bg-color: #434B5C;\n",
              "      --hover-fill-color: #FFFFFF;\n",
              "      --disabled-bg-color: #3B4455;\n",
              "      --disabled-fill-color: #666;\n",
              "  }\n",
              "\n",
              "  .colab-df-quickchart {\n",
              "    background-color: var(--bg-color);\n",
              "    border: none;\n",
              "    border-radius: 50%;\n",
              "    cursor: pointer;\n",
              "    display: none;\n",
              "    fill: var(--fill-color);\n",
              "    height: 32px;\n",
              "    padding: 0;\n",
              "    width: 32px;\n",
              "  }\n",
              "\n",
              "  .colab-df-quickchart:hover {\n",
              "    background-color: var(--hover-bg-color);\n",
              "    box-shadow: 0 1px 2px rgba(60, 64, 67, 0.3), 0 1px 3px 1px rgba(60, 64, 67, 0.15);\n",
              "    fill: var(--button-hover-fill-color);\n",
              "  }\n",
              "\n",
              "  .colab-df-quickchart-complete:disabled,\n",
              "  .colab-df-quickchart-complete:disabled:hover {\n",
              "    background-color: var(--disabled-bg-color);\n",
              "    fill: var(--disabled-fill-color);\n",
              "    box-shadow: none;\n",
              "  }\n",
              "\n",
              "  .colab-df-spinner {\n",
              "    border: 2px solid var(--fill-color);\n",
              "    border-color: transparent;\n",
              "    border-bottom-color: var(--fill-color);\n",
              "    animation:\n",
              "      spin 1s steps(1) infinite;\n",
              "  }\n",
              "\n",
              "  @keyframes spin {\n",
              "    0% {\n",
              "      border-color: transparent;\n",
              "      border-bottom-color: var(--fill-color);\n",
              "      border-left-color: var(--fill-color);\n",
              "    }\n",
              "    20% {\n",
              "      border-color: transparent;\n",
              "      border-left-color: var(--fill-color);\n",
              "      border-top-color: var(--fill-color);\n",
              "    }\n",
              "    30% {\n",
              "      border-color: transparent;\n",
              "      border-left-color: var(--fill-color);\n",
              "      border-top-color: var(--fill-color);\n",
              "      border-right-color: var(--fill-color);\n",
              "    }\n",
              "    40% {\n",
              "      border-color: transparent;\n",
              "      border-right-color: var(--fill-color);\n",
              "      border-top-color: var(--fill-color);\n",
              "    }\n",
              "    60% {\n",
              "      border-color: transparent;\n",
              "      border-right-color: var(--fill-color);\n",
              "    }\n",
              "    80% {\n",
              "      border-color: transparent;\n",
              "      border-right-color: var(--fill-color);\n",
              "      border-bottom-color: var(--fill-color);\n",
              "    }\n",
              "    90% {\n",
              "      border-color: transparent;\n",
              "      border-bottom-color: var(--fill-color);\n",
              "    }\n",
              "  }\n",
              "</style>\n",
              "\n",
              "  <script>\n",
              "    async function quickchart(key) {\n",
              "      const quickchartButtonEl =\n",
              "        document.querySelector('#' + key + ' button');\n",
              "      quickchartButtonEl.disabled = true;  // To prevent multiple clicks.\n",
              "      quickchartButtonEl.classList.add('colab-df-spinner');\n",
              "      try {\n",
              "        const charts = await google.colab.kernel.invokeFunction(\n",
              "            'suggestCharts', [key], {});\n",
              "      } catch (error) {\n",
              "        console.error('Error during call to suggestCharts:', error);\n",
              "      }\n",
              "      quickchartButtonEl.classList.remove('colab-df-spinner');\n",
              "      quickchartButtonEl.classList.add('colab-df-quickchart-complete');\n",
              "    }\n",
              "    (() => {\n",
              "      let quickchartButtonEl =\n",
              "        document.querySelector('#df-44bdf79f-0e18-4eed-b5ef-be4012ca2cb3 button');\n",
              "      quickchartButtonEl.style.display =\n",
              "        google.colab.kernel.accessAllowed ? 'block' : 'none';\n",
              "    })();\n",
              "  </script>\n",
              "</div>\n",
              "    </div>\n",
              "  </div>\n"
            ]
          },
          "metadata": {},
          "execution_count": 76
        }
      ]
    },
    {
      "cell_type": "markdown",
      "source": [
        "Now let's take care of the missing values."
      ],
      "metadata": {
        "id": "RclXIuSy4lp2"
      }
    },
    {
      "cell_type": "code",
      "source": [
        "missing_ratio = communities_crime.isnull().mean()\n",
        "missing_ratio = missing_ratio[missing_ratio > 0]\n",
        "missing_ratio"
      ],
      "metadata": {
        "colab": {
          "base_uri": "https://localhost:8080/"
        },
        "id": "vdBR-uhI4Zb2",
        "outputId": "847bfbc4-2ec4-40d8-c71e-a0e084a8bb17"
      },
      "execution_count": 77,
      "outputs": [
        {
          "output_type": "execute_result",
          "data": {
            "text/plain": [
              "OtherPerCap             0.000502\n",
              "LemasSwornFT            0.840020\n",
              "LemasSwFTPerPop         0.840020\n",
              "LemasSwFTFieldOps       0.840020\n",
              "LemasSwFTFieldPerPop    0.840020\n",
              "LemasTotalReq           0.840020\n",
              "LemasTotReqPerPop       0.840020\n",
              "PolicReqPerOffic        0.840020\n",
              "PolicPerPop             0.840020\n",
              "RacialMatchCommPol      0.840020\n",
              "PctPolicWhite           0.840020\n",
              "PctPolicBlack           0.840020\n",
              "PctPolicHisp            0.840020\n",
              "PctPolicAsian           0.840020\n",
              "PctPolicMinor           0.840020\n",
              "OfficAssgnDrugUnits     0.840020\n",
              "NumKindsDrugsSeiz       0.840020\n",
              "PolicAveOTWorked        0.840020\n",
              "PolicCars               0.840020\n",
              "PolicOperBudg           0.840020\n",
              "LemasPctPolicOnPatr     0.840020\n",
              "LemasGangUnitDeploy     0.840020\n",
              "PolicBudgPerPop         0.840020\n",
              "dtype: float64"
            ]
          },
          "metadata": {},
          "execution_count": 77
        }
      ]
    },
    {
      "cell_type": "markdown",
      "source": [
        "Now we know that 23 attributes contain missing values.\n",
        "1. Since for 22 of the columns have more than 80% of the data missing, it is better to drop the columns, because imputing values would not be so informative.\n",
        "2. One of the columns called **OtherPepCap** is missing only one value, which means that we can impute some value in that row."
      ],
      "metadata": {
        "id": "_f5F60B54yuO"
      }
    },
    {
      "cell_type": "code",
      "source": [
        "# Drop the columns, which have more than 80% missing data\n",
        "threshold = 0.8\n",
        "columns_to_drop = missing_ratio[missing_ratio > threshold].index\n",
        "communities_crime.drop(columns_to_drop, axis=1, inplace=True)"
      ],
      "metadata": {
        "id": "bUEMWh5t4qZO"
      },
      "execution_count": 78,
      "outputs": []
    },
    {
      "cell_type": "code",
      "source": [
        "# We will impute the column's value in the missing column with the mean of the other values of this column\n",
        "mean_value = communities_crime['OtherPerCap'].mean().round(2)\n",
        "communities_crime['OtherPerCap'] = communities_crime['OtherPerCap'].fillna(mean_value)"
      ],
      "metadata": {
        "id": "Zfptvdm_45H2"
      },
      "execution_count": 79,
      "outputs": []
    },
    {
      "cell_type": "markdown",
      "source": [
        "The last think we have to do is to divide the dataset into dependent and independant features."
      ],
      "metadata": {
        "id": "QZvwoQsu5BMW"
      }
    },
    {
      "cell_type": "code",
      "source": [
        "X = communities_crime.iloc[:, :-1].values\n",
        "y = communities_crime.iloc[:, -1].values"
      ],
      "metadata": {
        "id": "EB1dj28T491O"
      },
      "execution_count": 80,
      "outputs": []
    },
    {
      "cell_type": "code",
      "source": [
        "X"
      ],
      "metadata": {
        "colab": {
          "base_uri": "https://localhost:8080/"
        },
        "id": "RLZERRhn5DSO",
        "outputId": "b6f8b58b-8d2d-42a5-953a-8a772f854c01"
      },
      "execution_count": 81,
      "outputs": [
        {
          "output_type": "execute_result",
          "data": {
            "text/plain": [
              "array([[0.19, 0.33, 0.02, ..., 0.26, 0.2 , 0.32],\n",
              "       [0.  , 0.16, 0.12, ..., 0.12, 0.45, 0.  ],\n",
              "       [0.  , 0.42, 0.49, ..., 0.21, 0.02, 0.  ],\n",
              "       ...,\n",
              "       [0.16, 0.37, 0.25, ..., 0.32, 0.18, 0.91],\n",
              "       [0.08, 0.51, 0.06, ..., 0.38, 0.33, 0.22],\n",
              "       [0.2 , 0.78, 0.14, ..., 0.3 , 0.05, 1.  ]])"
            ]
          },
          "metadata": {},
          "execution_count": 81
        }
      ]
    },
    {
      "cell_type": "code",
      "source": [
        "y"
      ],
      "metadata": {
        "colab": {
          "base_uri": "https://localhost:8080/"
        },
        "id": "bckVz_l55Eee",
        "outputId": "8c48ba18-d454-4253-d720-bc58433e6e7b"
      },
      "execution_count": 82,
      "outputs": [
        {
          "output_type": "execute_result",
          "data": {
            "text/plain": [
              "array([0.2 , 0.67, 0.43, ..., 0.23, 0.19, 0.48])"
            ]
          },
          "metadata": {},
          "execution_count": 82
        }
      ]
    },
    {
      "cell_type": "markdown",
      "source": [
        "In the last step we will split the data into training and test sets."
      ],
      "metadata": {
        "id": "B4og2CQA5Ib3"
      }
    },
    {
      "cell_type": "code",
      "source": [
        "from sklearn.model_selection import train_test_split\n",
        "\n",
        "X_train, X_test, y_train, y_test = train_test_split(X, y, test_size=0.5, random_state=42)"
      ],
      "metadata": {
        "id": "7gTQq9GW5F48"
      },
      "execution_count": 83,
      "outputs": []
    },
    {
      "cell_type": "code",
      "source": [
        "X_train[:1]"
      ],
      "metadata": {
        "colab": {
          "base_uri": "https://localhost:8080/"
        },
        "id": "ZPiUTowz7-2P",
        "outputId": "b6baba67-b6bc-495a-b68e-8b50cd5ebe62"
      },
      "execution_count": 84,
      "outputs": [
        {
          "output_type": "execute_result",
          "data": {
            "text/plain": [
              "array([[0.03, 0.99, 0.13, 0.21, 1.  , 0.44, 0.56, 0.46, 0.31, 0.08, 0.05,\n",
              "        1.  , 0.87, 0.89, 0.34, 0.58, 0.07, 0.18, 0.12, 0.75, 0.47, 0.52,\n",
              "        0.56, 0.3 , 0.38, 0.42, 0.51, 0.01, 0.09, 0.16, 0.19, 0.57, 0.23,\n",
              "        0.74, 0.39, 0.37, 0.18, 0.65, 0.16, 0.4 , 0.18, 0.17, 0.98, 0.93,\n",
              "        0.89, 0.95, 0.92, 0.66, 0.62, 0.  , 0.08, 0.07, 0.27, 0.39, 0.5 ,\n",
              "        0.58, 0.67, 0.83, 0.98, 1.  , 0.16, 0.47, 0.66, 0.77, 1.  , 1.  ,\n",
              "        1.  , 0.92, 0.44, 0.15, 0.5 , 0.01, 0.91, 0.93, 0.03, 0.39, 0.9 ,\n",
              "        0.03, 0.13, 0.88, 0.89, 0.88, 0.84, 0.95, 1.  , 0.97, 0.65, 0.97,\n",
              "        0.31, 0.  , 0.  , 1.  , 0.45, 0.35, 0.78, 0.71, 0.02, 0.27, 0.09,\n",
              "        0.  ]])"
            ]
          },
          "metadata": {},
          "execution_count": 84
        }
      ]
    },
    {
      "cell_type": "code",
      "source": [
        "y_train[:5]"
      ],
      "metadata": {
        "colab": {
          "base_uri": "https://localhost:8080/"
        },
        "id": "do0jqWbn8Fzw",
        "outputId": "c09f9929-8115-45a6-9da7-629ee09c675f"
      },
      "execution_count": 85,
      "outputs": [
        {
          "output_type": "execute_result",
          "data": {
            "text/plain": [
              "array([0.2 , 0.07, 0.04, 0.24, 0.54])"
            ]
          },
          "metadata": {},
          "execution_count": 85
        }
      ]
    },
    {
      "cell_type": "code",
      "source": [
        "X_test[:1]"
      ],
      "metadata": {
        "colab": {
          "base_uri": "https://localhost:8080/"
        },
        "id": "3kfxD9uV8AjH",
        "outputId": "9fab5cdc-3351-41ee-ce95-7c92da212f7d"
      },
      "execution_count": 86,
      "outputs": [
        {
          "output_type": "execute_result",
          "data": {
            "text/plain": [
              "array([[0.06, 0.46, 0.02, 0.88, 0.2 , 0.2 , 0.36, 0.41, 0.22, 0.34, 0.07,\n",
              "        1.  , 0.47, 0.6 , 0.12, 0.54, 0.37, 0.34, 0.51, 0.47, 0.42, 0.4 ,\n",
              "        0.95, 0.21, 0.42, 0.4 , 0.5 , 0.03, 0.17, 0.14, 0.2 , 0.38, 0.29,\n",
              "        0.57, 0.23, 0.32, 0.27, 0.49, 0.57, 0.28, 0.61, 0.62, 0.46, 0.65,\n",
              "        0.68, 0.72, 0.55, 0.52, 0.57, 0.01, 0.14, 0.02, 0.25, 0.34, 0.36,\n",
              "        0.44, 0.11, 0.13, 0.13, 0.15, 0.84, 0.12, 0.19, 0.19, 0.49, 0.51,\n",
              "        0.45, 0.6 , 0.17, 0.45, 0.5 , 0.06, 0.74, 0.59, 0.12, 0.2 , 0.83,\n",
              "        0.16, 0.18, 0.36, 0.4 , 0.41, 0.45, 0.49, 0.58, 0.5 , 0.64, 0.66,\n",
              "        0.19, 0.08, 0.03, 0.19, 0.56, 0.27, 0.16, 0.65, 0.09, 0.12, 0.05,\n",
              "        0.  ]])"
            ]
          },
          "metadata": {},
          "execution_count": 86
        }
      ]
    },
    {
      "cell_type": "code",
      "source": [
        "y_test[:5]"
      ],
      "metadata": {
        "colab": {
          "base_uri": "https://localhost:8080/"
        },
        "id": "tiVhWgId8EJP",
        "outputId": "31f16e5f-e740-4bfc-87da-7c4044979fbf"
      },
      "execution_count": 87,
      "outputs": [
        {
          "output_type": "execute_result",
          "data": {
            "text/plain": [
              "array([0.22, 0.04, 0.1 , 0.08, 0.04])"
            ]
          },
          "metadata": {},
          "execution_count": 87
        }
      ]
    },
    {
      "cell_type": "markdown",
      "source": [
        "## Fit models using ridge and lasso regression"
      ],
      "metadata": {
        "id": "8KZ6JUIp5Qq3"
      }
    },
    {
      "cell_type": "markdown",
      "source": [
        "We will use the Scikit-learn functions for ridge and lasso to fit the models. We will also try different values of the regularization parameter and evaluate its effect, which will help us choose the optimal one."
      ],
      "metadata": {
        "id": "KBzyHQyx5ZZe"
      }
    },
    {
      "cell_type": "code",
      "source": [
        "!pip install tqdm"
      ],
      "metadata": {
        "colab": {
          "base_uri": "https://localhost:8080/"
        },
        "id": "t05o__bJQiVv",
        "outputId": "dac8f31b-ebf4-4ca8-cb6a-9b6673db542d"
      },
      "execution_count": 88,
      "outputs": [
        {
          "output_type": "stream",
          "name": "stdout",
          "text": [
            "Requirement already satisfied: tqdm in /usr/local/lib/python3.10/dist-packages (4.66.1)\n"
          ]
        }
      ]
    },
    {
      "cell_type": "code",
      "source": [
        "from tqdm import tqdm\n",
        "import numpy as np"
      ],
      "metadata": {
        "id": "qck9hJ0QQd8x"
      },
      "execution_count": 89,
      "outputs": []
    },
    {
      "cell_type": "code",
      "source": [
        "# Define a set of regularization levels to consider\n",
        "reg_lvls = np.logspace(-4, 4, 100)"
      ],
      "metadata": {
        "id": "IfIU0XNgAwsx"
      },
      "execution_count": 159,
      "outputs": []
    },
    {
      "cell_type": "markdown",
      "source": [
        "*First* we will start with the **ridge** regression."
      ],
      "metadata": {
        "id": "JA3hZoGCeju0"
      }
    },
    {
      "cell_type": "code",
      "source": [
        "from sklearn.linear_model import Ridge\n",
        "\n",
        "# Define the best score that we want to maximize or minimize\n",
        "best_score_mse, best_score_mae, best_score_rse, best_score_r2  = None, None, None, None\n",
        "best_param_mse, best_param_mae, best_param_rse, best_param_r2  = {}, {}, {}, {}\n",
        "scores_mse_ridge, scores_mae_ridge, scores_rse_ridge, scores_r2_ridge = [], [], [], []\n",
        "\n",
        "for reg in tqdm(reg_lvls, desc='Regularization levels'):\n",
        "  # Initialize the RidgeRegressionGD with current set of hyperparameters\n",
        "  model = Ridge(alpha=reg, max_iter=1000)\n",
        "\n",
        "  # Fit the model on training data\n",
        "  model.fit(X_train, y_train)\n",
        "\n",
        "  # Predict on test data\n",
        "  y_pred = model.predict(X_test)\n",
        "\n",
        "  # Calculate the MSE\n",
        "  mse = np.square(np.subtract(y_test, y_pred)).mean()\n",
        "  # Calculate the MAE\n",
        "  mae = np.abs(np.subtract(y_test, y_pred)).mean()\n",
        "  # Calculate the RSE\n",
        "  rss = np.square(np.subtract(y_test, y_pred)).sum()\n",
        "  rse = np.sqrt(rss / (len(y_test) - 2))\n",
        "  # Calculate the R^2\n",
        "  tss = np.square(np.subtract(y_test, y_test.mean())).sum()\n",
        "  r2 = 1 - np.divide(rss, tss)\n",
        "\n",
        "  scores_mse_ridge.append(mse)\n",
        "  scores_mae_ridge.append(mae)\n",
        "  scores_rse_ridge.append(rse)\n",
        "  scores_r2_ridge.append(r2)\n",
        "\n",
        "  # If the score is better, update the best score and parameters\n",
        "  if best_score_mse is None or mse < best_score_mse:\n",
        "      best_score_mse = mse\n",
        "      best_params_mse = {'reg_lvl': reg}\n",
        "  if best_score_mae is None or mae < best_score_mae:\n",
        "      best_score_mae = mae\n",
        "      best_params_mae = {'reg_lvl': reg}\n",
        "  if best_score_rse is None or rse < best_score_rse:\n",
        "      best_score_rse = rse\n",
        "      best_params_rse = {'reg_lvl': reg}\n",
        "  if best_score_r2 is None or r2 > best_score_r2:\n",
        "      best_score_r2 = r2\n",
        "      best_params_r2 = {'reg_lvl': reg}\n",
        "\n",
        "\n",
        "# After the grid search\n",
        "print()\n",
        "print(f\"Best Parameters (MSE): {best_params_mse}\")\n",
        "print(f\"Best Score (MSE): {best_score_mse}\")\n",
        "print(f\"Best Parameters (MAE): {best_params_mae}\")\n",
        "print(f\"Best Score (MAE): {best_score_mae}\")\n",
        "print(f\"Best Parameters (RSE): {best_params_rse}\")\n",
        "print(f\"Best Score (RSE): {best_score_rse}\")\n",
        "print(f\"Best Parameters (R2): {best_params_r2}\")\n",
        "print(f\"Best Score (R2): {best_score_r2}\")"
      ],
      "metadata": {
        "colab": {
          "base_uri": "https://localhost:8080/"
        },
        "id": "S9GT5U3I5RFo",
        "outputId": "fb620b5a-8552-4026-b9b5-e5612eb52065"
      },
      "execution_count": 91,
      "outputs": [
        {
          "output_type": "stream",
          "name": "stderr",
          "text": [
            "Regularization levels: 100%|██████████| 100/100 [00:00<00:00, 178.16it/s]"
          ]
        },
        {
          "output_type": "stream",
          "name": "stdout",
          "text": [
            "\n",
            "Best Parameters (MSE): {'reg_lvl': 7.054802310718645}\n",
            "Best Score (MSE): 0.018937272134723723\n",
            "Best Parameters (MAE): {'reg_lvl': 10.235310218990268}\n",
            "Best Score (MAE): 0.09767283599676999\n",
            "Best Parameters (RSE): {'reg_lvl': 7.054802310718645}\n",
            "Best Score (RSE): 0.13775099637874216\n",
            "Best Parameters (R2): {'reg_lvl': 7.054802310718645}\n",
            "Best Score (R2): 0.6488631743143651\n"
          ]
        },
        {
          "output_type": "stream",
          "name": "stderr",
          "text": [
            "\n"
          ]
        }
      ]
    },
    {
      "cell_type": "markdown",
      "source": [
        "Let's repeat the process for the **lasso** regression."
      ],
      "metadata": {
        "id": "BK0jtvd__Yx-"
      }
    },
    {
      "cell_type": "code",
      "source": [
        "from sklearn.linear_model import Lasso\n",
        "\n",
        "# Define the best score that we want to maximize or minimize\n",
        "best_score_mse, best_score_mae, best_score_rse, best_score_r2  = None, None, None, None\n",
        "best_param_mse, best_param_mae, best_param_rse, best_param_r2  = {}, {}, {}, {}\n",
        "scores_mse_lasso, scores_mae_lasso, scores_rse_lasso, scores_r2_lasso = [], [], [], []\n",
        "\n",
        "for reg in tqdm(reg_lvls, desc='Regularization levels'):\n",
        "  # Initialize the RidgeRegressionGD with current set of hyperparameters\n",
        "  model = Lasso(alpha=reg, max_iter=1000)\n",
        "\n",
        "  # Fit the model on training data\n",
        "  model.fit(X_train, y_train)\n",
        "\n",
        "  # Predict on test data\n",
        "  y_pred = model.predict(X_test)\n",
        "\n",
        "  # Calculate the MSE\n",
        "  mse = np.square(np.subtract(y_test, y_pred)).mean()\n",
        "  # Calculate the MAE\n",
        "  mae = np.abs(np.subtract(y_test, y_pred)).mean()\n",
        "  # Calculate the RSE\n",
        "  rss = np.square(np.subtract(y_test, y_pred)).sum()\n",
        "  rse = np.sqrt(rss / (len(y_test) - 2))\n",
        "  # Calculate the R^2\n",
        "  tss = np.square(np.subtract(y_test, y_test.mean())).sum()\n",
        "  r2 = 1 - np.divide(rss, tss)\n",
        "\n",
        "  scores_mse_lasso.append(mse)\n",
        "  scores_mae_lasso.append(mae)\n",
        "  scores_rse_lasso.append(rse)\n",
        "  scores_r2_lasso.append(r2)\n",
        "\n",
        "  # If the score is better, update the best score and parameters\n",
        "  if best_score_mse is None or mse < best_score_mse:\n",
        "      best_score_mse = mse\n",
        "      best_params_mse = {'reg_lvl': reg}\n",
        "  if best_score_mae is None or mae < best_score_mae:\n",
        "      best_score_mae = mae\n",
        "      best_params_mae = {'reg_lvl': reg}\n",
        "  if best_score_rse is None or rse < best_score_rse:\n",
        "      best_score_rse = rse\n",
        "      best_params_rse = {'reg_lvl': reg}\n",
        "  if best_score_r2 is None or r2 > best_score_r2:\n",
        "      best_score_r2 = r2\n",
        "      best_params_r2 = {'reg_lvl': reg}\n",
        "\n",
        "\n",
        "# After the grid search\n",
        "print()\n",
        "print(f\"Best Parameters (MSE): {best_params_mse}\")\n",
        "print(f\"Best Score (MSE): {best_score_mse}\")\n",
        "print(f\"Best Parameters (MAE): {best_params_mae}\")\n",
        "print(f\"Best Score (MAE): {best_score_mae}\")\n",
        "print(f\"Best Parameters (RSE): {best_params_rse}\")\n",
        "print(f\"Best Score (RSE): {best_score_rse}\")\n",
        "print(f\"Best Parameters (R2): {best_params_r2}\")\n",
        "print(f\"Best Score (R2): {best_score_r2}\")"
      ],
      "metadata": {
        "colab": {
          "base_uri": "https://localhost:8080/"
        },
        "id": "m8Q-XIW9_dz_",
        "outputId": "d6ed33b5-a261-4858-ab30-8779495bb077"
      },
      "execution_count": 92,
      "outputs": [
        {
          "output_type": "stream",
          "name": "stderr",
          "text": [
            "Regularization levels: 100%|██████████| 100/100 [00:02<00:00, 48.38it/s]"
          ]
        },
        {
          "output_type": "stream",
          "name": "stdout",
          "text": [
            "\n",
            "Best Parameters (MSE): {'reg_lvl': 0.0011233240329780276}\n",
            "Best Score (MSE): 0.01890204822089377\n",
            "Best Parameters (MAE): {'reg_lvl': 0.0013530477745798076}\n",
            "Best Score (MAE): 0.09597747516254276\n",
            "Best Parameters (RSE): {'reg_lvl': 0.0011233240329780276}\n",
            "Best Score (RSE): 0.13762282618689908\n",
            "Best Parameters (R2): {'reg_lvl': 0.0011233240329780276}\n",
            "Best Score (R2): 0.6495162997065802\n"
          ]
        },
        {
          "output_type": "stream",
          "name": "stderr",
          "text": [
            "\n"
          ]
        }
      ]
    },
    {
      "cell_type": "markdown",
      "source": [
        "Now let's visualize scores from both regressions."
      ],
      "metadata": {
        "id": "UUiKm95_lLKl"
      }
    },
    {
      "cell_type": "code",
      "source": [
        "import matplotlib.pyplot as plt"
      ],
      "metadata": {
        "id": "f75xF1-9lS0d"
      },
      "execution_count": 93,
      "outputs": []
    },
    {
      "cell_type": "code",
      "source": [
        "reg_lvls_array = np.array(reg_lvls)\n",
        "\n",
        "fig, axs = plt.subplots(4, 1, figsize=(10, 15), sharex=True)\n",
        "\n",
        "# Plot each score on its own subplot with appropriate y-axis limits\n",
        "axs[0].plot(reg_lvls_array, scores_mse_lasso, color='blue', label='MSE Lasso')\n",
        "axs[0].plot(reg_lvls_array, scores_mse_ridge, color='red', label='MSE Ridge')\n",
        "axs[0].set_title('Mean Squared Error')\n",
        "axs[0].set_ylabel('MSE')\n",
        "axs[0].legend()\n",
        "axs[0].grid(True)\n",
        "\n",
        "axs[1].plot(reg_lvls_array, scores_mae_lasso, color='blue', label='MAE Lasso')\n",
        "axs[1].plot(reg_lvls_array, scores_mae_ridge, color='red', label='MAE Ridge')\n",
        "axs[1].set_title('Mean Absolute Error')\n",
        "axs[1].set_ylabel('MAE')\n",
        "axs[1].legend()\n",
        "axs[1].grid(True)\n",
        "\n",
        "axs[2].plot(reg_lvls_array, scores_rse_lasso, color='blue', label='RSE Lasso')\n",
        "axs[2].plot(reg_lvls_array, scores_rse_ridge, color='red', label='RSE Ridge')\n",
        "axs[2].set_title('Root Squared Error')\n",
        "axs[2].set_ylabel('RSE')\n",
        "axs[2].legend()\n",
        "axs[2].grid(True)\n",
        "\n",
        "axs[3].plot(reg_lvls_array, scores_r2_lasso, color='blue', label='R^2 Lasso')\n",
        "axs[3].plot(reg_lvls_array, scores_r2_ridge, color='red', label='R^2 Ridge')\n",
        "axs[3].set_title('R-squared')\n",
        "axs[3].set_ylabel('R^2')\n",
        "axs[3].legend()\n",
        "axs[3].grid(True)\n",
        "\n",
        "# Set the x-axis to a logarithmic scale\n",
        "for ax in axs:\n",
        "    ax.set_xscale('log')\n",
        "\n",
        "# Label the x-axis\n",
        "axs[-1].set_xlabel('Regularization Level')\n",
        "\n",
        "# Show the plot\n",
        "plt.tight_layout()  # Adjusts the plots to fit into the figure area.\n",
        "plt.show()"
      ],
      "metadata": {
        "colab": {
          "base_uri": "https://localhost:8080/",
          "height": 1000
        },
        "id": "KeCSK6PXhk4c",
        "outputId": "38b9d077-16ee-4e3d-abb7-93692558a018"
      },
      "execution_count": 94,
      "outputs": [
        {
          "output_type": "display_data",
          "data": {
            "text/plain": [
              "<Figure size 1000x1500 with 4 Axes>"
            ],
            "image/png": "[encoded data removed]"
          },
          "metadata": {}
        }
      ]
    },
    {
      "cell_type": "markdown",
      "source": [
        "There is a visible difference between both methods. As we can see the score when using Lasso becomes worse earlier compared to Ridge. When using Ridge we obtain the best score when using bigger Regularization level. Anyway for both of them the metrics reach their best with increasing the regularization level and then only become worse. The best regularization level for **Lasso** seems to be 0.001, while for **Ridge** it is 7.055."
      ],
      "metadata": {
        "id": "m3NHVM3RmWBH"
      }
    },
    {
      "cell_type": "markdown",
      "source": [
        "Now let's construct both best models and compare them."
      ],
      "metadata": {
        "id": "Q6uYaaOimX-l"
      }
    },
    {
      "cell_type": "code",
      "source": [
        "best_ridge_model = Ridge(alpha=7.055, max_iter=1000)\n",
        "best_ridge_model.fit(X_train, y_train)"
      ],
      "metadata": {
        "colab": {
          "base_uri": "https://localhost:8080/",
          "height": 75
        },
        "id": "LR4OlJWWmeE9",
        "outputId": "c41241d4-49e6-4619-c133-c2d012a07ca7"
      },
      "execution_count": 98,
      "outputs": [
        {
          "output_type": "execute_result",
          "data": {
            "text/plain": [
              "Ridge(alpha=7.055, max_iter=1000)"
            ],
            "text/html": [
              "<style>#sk-container-id-5 {color: black;background-color: white;}#sk-container-id-5 pre{padding: 0;}#sk-container-id-5 div.sk-toggleable {background-color: white;}#sk-container-id-5 label.sk-toggleable__label {cursor: pointer;display: block;width: 100%;margin-bottom: 0;padding: 0.3em;box-sizing: border-box;text-align: center;}#sk-container-id-5 label.sk-toggleable__label-arrow:before {content: \"▸\";float: left;margin-right: 0.25em;color: #696969;}#sk-container-id-5 label.sk-toggleable__label-arrow:hover:before {color: black;}#sk-container-id-5 div.sk-estimator:hover label.sk-toggleable__label-arrow:before {color: black;}#sk-container-id-5 div.sk-toggleable__content {max-height: 0;max-width: 0;overflow: hidden;text-align: left;background-color: #f0f8ff;}#sk-container-id-5 div.sk-toggleable__content pre {margin: 0.2em;color: black;border-radius: 0.25em;background-color: #f0f8ff;}#sk-container-id-5 input.sk-toggleable__control:checked~div.sk-toggleable__content {max-height: 200px;max-width: 100%;overflow: auto;}#sk-container-id-5 input.sk-toggleable__control:checked~label.sk-toggleable__label-arrow:before {content: \"▾\";}#sk-container-id-5 div.sk-estimator input.sk-toggleable__control:checked~label.sk-toggleable__label {background-color: #d4ebff;}#sk-container-id-5 div.sk-label input.sk-toggleable__control:checked~label.sk-toggleable__label {background-color: #d4ebff;}#sk-container-id-5 input.sk-hidden--visually {border: 0;clip: rect(1px 1px 1px 1px);clip: rect(1px, 1px, 1px, 1px);height: 1px;margin: -1px;overflow: hidden;padding: 0;position: absolute;width: 1px;}#sk-container-id-5 div.sk-estimator {font-family: monospace;background-color: #f0f8ff;border: 1px dotted black;border-radius: 0.25em;box-sizing: border-box;margin-bottom: 0.5em;}#sk-container-id-5 div.sk-estimator:hover {background-color: #d4ebff;}#sk-container-id-5 div.sk-parallel-item::after {content: \"\";width: 100%;border-bottom: 1px solid gray;flex-grow: 1;}#sk-container-id-5 div.sk-label:hover label.sk-toggleable__label {background-color: #d4ebff;}#sk-container-id-5 div.sk-serial::before {content: \"\";position: absolute;border-left: 1px solid gray;box-sizing: border-box;top: 0;bottom: 0;left: 50%;z-index: 0;}#sk-container-id-5 div.sk-serial {display: flex;flex-direction: column;align-items: center;background-color: white;padding-right: 0.2em;padding-left: 0.2em;position: relative;}#sk-container-id-5 div.sk-item {position: relative;z-index: 1;}#sk-container-id-5 div.sk-parallel {display: flex;align-items: stretch;justify-content: center;background-color: white;position: relative;}#sk-container-id-5 div.sk-item::before, #sk-container-id-5 div.sk-parallel-item::before {content: \"\";position: absolute;border-left: 1px solid gray;box-sizing: border-box;top: 0;bottom: 0;left: 50%;z-index: -1;}#sk-container-id-5 div.sk-parallel-item {display: flex;flex-direction: column;z-index: 1;position: relative;background-color: white;}#sk-container-id-5 div.sk-parallel-item:first-child::after {align-self: flex-end;width: 50%;}#sk-container-id-5 div.sk-parallel-item:last-child::after {align-self: flex-start;width: 50%;}#sk-container-id-5 div.sk-parallel-item:only-child::after {width: 0;}#sk-container-id-5 div.sk-dashed-wrapped {border: 1px dashed gray;margin: 0 0.4em 0.5em 0.4em;box-sizing: border-box;padding-bottom: 0.4em;background-color: white;}#sk-container-id-5 div.sk-label label {font-family: monospace;font-weight: bold;display: inline-block;line-height: 1.2em;}#sk-container-id-5 div.sk-label-container {text-align: center;}#sk-container-id-5 div.sk-container {/* jupyter's `normalize.less` sets `[hidden] { display: none; }` but bootstrap.min.css set `[hidden] { display: none !important; }` so we also need the `!important` here to be able to override the default hidden behavior on the sphinx rendered scikit-learn.org. See: https://github.com/scikit-learn/scikit-learn/issues/21755 */display: inline-block !important;position: relative;}#sk-container-id-5 div.sk-text-repr-fallback {display: none;}</style><div id=\"sk-container-id-5\" class=\"sk-top-container\"><div class=\"sk-text-repr-fallback\"><pre>Ridge(alpha=7.055, max_iter=1000)</pre><b>In a Jupyter environment, please rerun this cell to show the HTML representation or trust the notebook. <br />On GitHub, the HTML representation is unable to render, please try loading this page with nbviewer.org.</b></div><div class=\"sk-container\" hidden><div class=\"sk-item\"><div class=\"sk-estimator sk-toggleable\"><input class=\"sk-toggleable__control sk-hidden--visually\" id=\"sk-estimator-id-5\" type=\"checkbox\" checked><label for=\"sk-estimator-id-5\" class=\"sk-toggleable__label sk-toggleable__label-arrow\">Ridge</label><div class=\"sk-toggleable__content\"><pre>Ridge(alpha=7.055, max_iter=1000)</pre></div></div></div></div></div>"
            ]
          },
          "metadata": {},
          "execution_count": 98
        }
      ]
    },
    {
      "cell_type": "code",
      "source": [
        "best_lasso_model = Lasso(alpha=0.001, max_iter=1000)\n",
        "best_lasso_model.fit(X_train, y_train)"
      ],
      "metadata": {
        "colab": {
          "base_uri": "https://localhost:8080/",
          "height": 75
        },
        "id": "yWld9p5qhlRo",
        "outputId": "5f85cad9-d47f-44d2-a3dc-71b6a799e2fc"
      },
      "execution_count": 99,
      "outputs": [
        {
          "output_type": "execute_result",
          "data": {
            "text/plain": [
              "Lasso(alpha=0.001)"
            ],
            "text/html": [
              "<style>#sk-container-id-6 {color: black;background-color: white;}#sk-container-id-6 pre{padding: 0;}#sk-container-id-6 div.sk-toggleable {background-color: white;}#sk-container-id-6 label.sk-toggleable__label {cursor: pointer;display: block;width: 100%;margin-bottom: 0;padding: 0.3em;box-sizing: border-box;text-align: center;}#sk-container-id-6 label.sk-toggleable__label-arrow:before {content: \"▸\";float: left;margin-right: 0.25em;color: #696969;}#sk-container-id-6 label.sk-toggleable__label-arrow:hover:before {color: black;}#sk-container-id-6 div.sk-estimator:hover label.sk-toggleable__label-arrow:before {color: black;}#sk-container-id-6 div.sk-toggleable__content {max-height: 0;max-width: 0;overflow: hidden;text-align: left;background-color: #f0f8ff;}#sk-container-id-6 div.sk-toggleable__content pre {margin: 0.2em;color: black;border-radius: 0.25em;background-color: #f0f8ff;}#sk-container-id-6 input.sk-toggleable__control:checked~div.sk-toggleable__content {max-height: 200px;max-width: 100%;overflow: auto;}#sk-container-id-6 input.sk-toggleable__control:checked~label.sk-toggleable__label-arrow:before {content: \"▾\";}#sk-container-id-6 div.sk-estimator input.sk-toggleable__control:checked~label.sk-toggleable__label {background-color: #d4ebff;}#sk-container-id-6 div.sk-label input.sk-toggleable__control:checked~label.sk-toggleable__label {background-color: #d4ebff;}#sk-container-id-6 input.sk-hidden--visually {border: 0;clip: rect(1px 1px 1px 1px);clip: rect(1px, 1px, 1px, 1px);height: 1px;margin: -1px;overflow: hidden;padding: 0;position: absolute;width: 1px;}#sk-container-id-6 div.sk-estimator {font-family: monospace;background-color: #f0f8ff;border: 1px dotted black;border-radius: 0.25em;box-sizing: border-box;margin-bottom: 0.5em;}#sk-container-id-6 div.sk-estimator:hover {background-color: #d4ebff;}#sk-container-id-6 div.sk-parallel-item::after {content: \"\";width: 100%;border-bottom: 1px solid gray;flex-grow: 1;}#sk-container-id-6 div.sk-label:hover label.sk-toggleable__label {background-color: #d4ebff;}#sk-container-id-6 div.sk-serial::before {content: \"\";position: absolute;border-left: 1px solid gray;box-sizing: border-box;top: 0;bottom: 0;left: 50%;z-index: 0;}#sk-container-id-6 div.sk-serial {display: flex;flex-direction: column;align-items: center;background-color: white;padding-right: 0.2em;padding-left: 0.2em;position: relative;}#sk-container-id-6 div.sk-item {position: relative;z-index: 1;}#sk-container-id-6 div.sk-parallel {display: flex;align-items: stretch;justify-content: center;background-color: white;position: relative;}#sk-container-id-6 div.sk-item::before, #sk-container-id-6 div.sk-parallel-item::before {content: \"\";position: absolute;border-left: 1px solid gray;box-sizing: border-box;top: 0;bottom: 0;left: 50%;z-index: -1;}#sk-container-id-6 div.sk-parallel-item {display: flex;flex-direction: column;z-index: 1;position: relative;background-color: white;}#sk-container-id-6 div.sk-parallel-item:first-child::after {align-self: flex-end;width: 50%;}#sk-container-id-6 div.sk-parallel-item:last-child::after {align-self: flex-start;width: 50%;}#sk-container-id-6 div.sk-parallel-item:only-child::after {width: 0;}#sk-container-id-6 div.sk-dashed-wrapped {border: 1px dashed gray;margin: 0 0.4em 0.5em 0.4em;box-sizing: border-box;padding-bottom: 0.4em;background-color: white;}#sk-container-id-6 div.sk-label label {font-family: monospace;font-weight: bold;display: inline-block;line-height: 1.2em;}#sk-container-id-6 div.sk-label-container {text-align: center;}#sk-container-id-6 div.sk-container {/* jupyter's `normalize.less` sets `[hidden] { display: none; }` but bootstrap.min.css set `[hidden] { display: none !important; }` so we also need the `!important` here to be able to override the default hidden behavior on the sphinx rendered scikit-learn.org. See: https://github.com/scikit-learn/scikit-learn/issues/21755 */display: inline-block !important;position: relative;}#sk-container-id-6 div.sk-text-repr-fallback {display: none;}</style><div id=\"sk-container-id-6\" class=\"sk-top-container\"><div class=\"sk-text-repr-fallback\"><pre>Lasso(alpha=0.001)</pre><b>In a Jupyter environment, please rerun this cell to show the HTML representation or trust the notebook. <br />On GitHub, the HTML representation is unable to render, please try loading this page with nbviewer.org.</b></div><div class=\"sk-container\" hidden><div class=\"sk-item\"><div class=\"sk-estimator sk-toggleable\"><input class=\"sk-toggleable__control sk-hidden--visually\" id=\"sk-estimator-id-6\" type=\"checkbox\" checked><label for=\"sk-estimator-id-6\" class=\"sk-toggleable__label sk-toggleable__label-arrow\">Lasso</label><div class=\"sk-toggleable__content\"><pre>Lasso(alpha=0.001)</pre></div></div></div></div></div>"
            ]
          },
          "metadata": {},
          "execution_count": 99
        }
      ]
    },
    {
      "cell_type": "markdown",
      "source": [
        "Now lets also evaluate both best models on the test set."
      ],
      "metadata": {
        "id": "x7YTwiwhBOJX"
      }
    },
    {
      "cell_type": "code",
      "source": [
        "from sklearn.metrics import mean_squared_error\n",
        "\n",
        "# Predict and evaluate Ridge regression\n",
        "ridge_predictions = best_ridge_model.predict(X_test)\n",
        "ridge_mse = np.square(np.subtract(y_test, ridge_predictions)).mean()\n",
        "ridge_mae = np.abs(np.subtract(y_test, ridge_predictions)).mean()\n",
        "rss = np.square(np.subtract(y_test, ridge_predictions)).sum()\n",
        "ridge_rse = np.sqrt(rss / (len(y_test) - 2))\n",
        "tss = np.square(np.subtract(y_test, y_test.mean())).sum()\n",
        "ridge_r2 = 1 - np.divide(rss, tss)\n",
        "\n",
        "# Predict and evaluate Lasso regression\n",
        "lasso_predictions = best_lasso_model.predict(X_test)\n",
        "lasso_mse = np.square(np.subtract(y_test, lasso_predictions)).mean()\n",
        "lasso_mae = np.abs(np.subtract(y_test, lasso_predictions)).mean()\n",
        "rss = np.square(np.subtract(y_test, lasso_predictions)).sum()\n",
        "lasso_rse = np.sqrt(rss / (len(y_test) - 2))\n",
        "tss = np.square(np.subtract(y_test, y_test.mean())).sum()\n",
        "lasso_r2 = 1 - np.divide(rss, tss)\n",
        "\n",
        "print(f'Ridge Regression Test MSE: {ridge_mse}')\n",
        "print(f'Lasso Regression Test MSE: {lasso_mse}')\n",
        "print()\n",
        "print(f'Ridge Regression Test MAE: {ridge_mae}')\n",
        "print(f'Ridge Regression Test MAE: {lasso_mae}')\n",
        "print()\n",
        "print(f'Ridge Regression Test RSE: {ridge_rse}')\n",
        "print(f'Ridge Regression Test RSE: {lasso_rse}')\n",
        "print()\n",
        "print(f'Ridge Regression Test R2: {ridge_r2}')\n",
        "print(f'Ridge Regression Test R2: {lasso_r2}')"
      ],
      "metadata": {
        "id": "VIx31CIHBV5n",
        "outputId": "54f3d0a0-4008-41c9-e898-6802665be6fd",
        "colab": {
          "base_uri": "https://localhost:8080/"
        }
      },
      "execution_count": 102,
      "outputs": [
        {
          "output_type": "stream",
          "name": "stdout",
          "text": [
            "Ridge Regression Test MSE: 0.01893727215355137\n",
            "Lasso Regression Test MSE: 0.018916354128449355\n",
            "\n",
            "Ridge Regression Test MAE: 0.0977226117561336\n",
            "Ridge Regression Test MAE: 0.09634153296172883\n",
            "\n",
            "Ridge Regression Test RSE: 0.13775099644721894\n",
            "Ridge Regression Test RSE: 0.1376748958627465\n",
            "\n",
            "Ridge Regression Test R2: 0.6488631739652609\n",
            "Ridge Regression Test R2: 0.6492510381138923\n"
          ]
        }
      ]
    },
    {
      "cell_type": "code",
      "source": [
        "metrics = ['MSE', 'MAE', 'RSE', 'R^2']\n",
        "ridge_scores = [ridge_mse, ridge_mae, ridge_rse, ridge_r2]\n",
        "lasso_scores = [lasso_mse, lasso_mae, lasso_rse, lasso_r2]\n",
        "\n",
        "# Set position of bar on X axis\n",
        "bar_width = 0.2\n",
        "r1 = np.arange(len(metrics))\n",
        "r2 = [x + bar_width for x in r1]\n",
        "r3 = [x + bar_width for x in r2]\n",
        "\n",
        "# Plot the figure\n",
        "plt.figure(figsize=(12, 6))\n",
        "\n",
        "# Draw the plot\n",
        "plt.bar(r1, ridge_scores, color='blue', width=bar_width, edgecolor='grey', label='Ridge Regression')\n",
        "plt.bar(r2, lasso_scores, color='red', width=bar_width, edgecolor='grey', label='Lasso Regression')\n",
        "\n",
        "# Add xticks on the middle of the group bars\n",
        "plt.xlabel('Metrics', fontweight='bold', fontsize=14)\n",
        "plt.xticks([r + bar_width for r in range(len(metrics))], metrics, fontsize=12)\n",
        "\n",
        "# Adding the scores on top of the bars\n",
        "for i in range(len(ridge_scores)):\n",
        "    plt.text(r1[i], ridge_scores[i] + 0.01, f'{ridge_scores[i]:.3f}', ha='center', va='center', fontsize=8, fontweight='bold')\n",
        "    plt.text(r2[i], lasso_scores[i] + 0.01, f'{lasso_scores[i]:.3f}', ha='center', va='center', fontsize=8, fontweight='bold')\n",
        "\n",
        "# Adjust the y-axis limit\n",
        "plt.ylim(0, 1)\n",
        "\n",
        "# Add title and legend\n",
        "plt.title('Comparison of Ridge and Lasso Regression Metrics', fontweight='bold', fontsize=16)\n",
        "plt.legend(fontsize=12)\n",
        "\n",
        "# Show the plot\n",
        "plt.tight_layout()\n",
        "plt.show()"
      ],
      "metadata": {
        "colab": {
          "base_uri": "https://localhost:8080/",
          "height": 607
        },
        "id": "IIjUWrpPiqOW",
        "outputId": "a9d4f66f-a35d-4378-8d54-b38094afd3b6"
      },
      "execution_count": 103,
      "outputs": [
        {
          "output_type": "display_data",
          "data": {
            "text/plain": [
              "<Figure size 1200x600 with 1 Axes>"
            ],
            "image/png": "[encoded data removed]"
          },
          "metadata": {}
        }
      ]
    },
    {
      "cell_type": "markdown",
      "source": [
        "We can see that eventhough the models use different learning rates they have similar evaluation metric scores for each metric."
      ],
      "metadata": {
        "id": "OBcsmaQUosJd"
      }
    },
    {
      "cell_type": "markdown",
      "source": [
        "## Comparing the selected attributes"
      ],
      "metadata": {
        "id": "ZPbNsXyI589X"
      }
    },
    {
      "cell_type": "markdown",
      "source": [
        "We will compare the attributes selected retrieved with foward feature selection and cross validation versus the ones retrieved with lasso."
      ],
      "metadata": {
        "id": "JjEk2KKW6LTO"
      }
    },
    {
      "cell_type": "code",
      "source": [
        "feature_names = communities_crime.iloc[:, :-1].columns\n",
        "lasso_coef = best_lasso_model.coef_\n",
        "\n",
        "lasso_selected_features = [feature for feature, coef in zip(feature_names, lasso_coef) if coef != 0]\n",
        "\n",
        "print(f\"Selected {len(lasso_selected_features)} attributes by Lasso regression:\")\n",
        "print(lasso_selected_features)"
      ],
      "metadata": {
        "id": "oSC9bWNo6HI6",
        "colab": {
          "base_uri": "https://localhost:8080/"
        },
        "outputId": "31e2af43-cdc6-40f8-d98a-a9b17e0f3399"
      },
      "execution_count": 104,
      "outputs": [
        {
          "output_type": "stream",
          "name": "stdout",
          "text": [
            "Selected 23 attributes by Lasso regression:\n",
            "['racepctblack', 'racePctWhite', 'pctUrban', 'pctWWage', 'pctWInvInc', 'AsianPerCap', 'PctEmplManu', 'MalePctDivorce', 'PctKids2Par', 'PctYoungKids2Par', 'PctWorkMom', 'PctIlleg', 'PctPersDenseHous', 'PctHousLess3BR', 'HousVacant', 'PctHousOccup', 'PctVacantBoarded', 'PctHousNoPhone', 'MedRentPctHousInc', 'MedOwnCostPctIncNoMtg', 'NumStreet', 'PctForeignBorn', 'PctSameCity85']\n"
          ]
        }
      ]
    },
    {
      "cell_type": "markdown",
      "source": [
        "Let's import the attributes extracted by the best forward selection from the previous assignment and compare the results with the extracted attributes with lasso."
      ],
      "metadata": {
        "id": "ALyaw8cZZmgF"
      }
    },
    {
      "cell_type": "code",
      "source": [
        "forward_selection_features_idxs = [2, 3, 7, 8, 9, 10, 11, 12, 13, 14, 15, 18, 19, 21, 22, 23, 25, 28, 29, 33, 35, 38, 39, 41, 44, 48, 50, 62, 64, 66, 67, 68, 71, 73, 74, 75, 79, 80, 82, 84, 85, 86, 88, 90, 99]\n",
        "forward_selection_features = list(communities_crime.iloc[:, forward_selection_features_idxs].columns)\n",
        "\n",
        "print(f\"Selected {len(forward_selection_features)} attributes by Forward selection:\")\n",
        "print(forward_selection_features)"
      ],
      "metadata": {
        "id": "_ZLYewJfpBXF",
        "colab": {
          "base_uri": "https://localhost:8080/"
        },
        "outputId": "d656f6c3-3647-4411-c6ba-37c0f5fb6ff8"
      },
      "execution_count": 105,
      "outputs": [
        {
          "output_type": "stream",
          "name": "stdout",
          "text": [
            "Selected 45 attributes by Forward selection:\n",
            "['racepctblack', 'racePctWhite', 'agePct12t29', 'agePct16t24', 'agePct65up', 'numbUrban', 'pctUrban', 'medIncome', 'pctWWage', 'pctWFarmSelf', 'pctWInvInc', 'pctWRetire', 'medFamInc', 'whitePerCap', 'blackPerCap', 'indianPerCap', 'OtherPerCap', 'PctPopUnderPov', 'PctLess9thGrade', 'PctEmploy', 'PctEmplProfServ', 'MalePctDivorce', 'MalePctNevMarr', 'TotalPctDiv', 'PctKids2Par', 'PctWorkMom', 'PctIlleg', 'PctLargHouseFam', 'PersPerOccupHous', 'PersPerRentOccHous', 'PctPersOwnOccup', 'PctPersDenseHous', 'HousVacant', 'PctHousOwnOcc', 'PctVacantBoarded', 'PctVacMore6Mos', 'OwnOccLowQuart', 'OwnOccMedVal', 'RentLowQ', 'RentHighQ', 'MedRent', 'MedRentPctHousInc', 'MedOwnCostPctIncNoMtg', 'NumStreet', 'LemasPctOfficDrugUn']\n"
          ]
        }
      ]
    },
    {
      "cell_type": "markdown",
      "source": [
        "We can see that with forward selection we have extracted 2 times more attributes. Let's compare the scores from both lasso and linear regression with these selected attributes."
      ],
      "metadata": {
        "id": "nr6i1PcxS6rN"
      }
    },
    {
      "cell_type": "code",
      "source": [
        "from sklearn.linear_model import LinearRegression"
      ],
      "metadata": {
        "id": "5NxGi9BsTvWz"
      },
      "execution_count": 106,
      "outputs": []
    },
    {
      "cell_type": "code",
      "source": [
        "best_linear_model = LinearRegression().fit(X_train[:, forward_selection_features_idxs], y_train)\n",
        "linear_predictions = best_linear_model.predict(X_test[:, forward_selection_features_idxs])\n",
        "\n",
        "linear_mse = np.square(np.subtract(y_test, linear_predictions)).mean()\n",
        "linear_mae = np.abs(np.subtract(y_test, linear_predictions)).mean()\n",
        "rss = np.square(np.subtract(y_test, linear_predictions)).sum()\n",
        "linear_rse = np.sqrt(rss / (len(y_test) - 2))\n",
        "tss = np.square(np.subtract(y_test, y_test.mean())).sum()\n",
        "linear_r2 = 1 - np.divide(rss, tss)"
      ],
      "metadata": {
        "id": "EUxMkHmCZ6BD"
      },
      "execution_count": 108,
      "outputs": []
    },
    {
      "cell_type": "markdown",
      "source": [
        "Let's first see, which are the attributes that are available in both models and compare their coefficients"
      ],
      "metadata": {
        "id": "1ebTmHm1U0Cg"
      }
    },
    {
      "cell_type": "code",
      "source": [
        "data = [{\"Feature\": feature, \"Lasso coeff\": coef, \"Linear coeff\": best_linear_model.coef_[forward_selection_features.index(feature)]} for feature, coef in zip(feature_names, lasso_coef) if feature in forward_selection_features]\n",
        "df = pd.DataFrame(data)"
      ],
      "metadata": {
        "id": "MeoYfZzHU-YG"
      },
      "execution_count": 109,
      "outputs": []
    },
    {
      "cell_type": "code",
      "source": [
        "df_lasso = df[(df == 0).any(axis=1)]\n",
        "len(df_lasso), df_lasso"
      ],
      "metadata": {
        "colab": {
          "base_uri": "https://localhost:8080/"
        },
        "id": "Q01EIW0FZyK5",
        "outputId": "9d0fbc47-b524-41e0-a17a-2c2853fddd3f"
      },
      "execution_count": 110,
      "outputs": [
        {
          "output_type": "execute_result",
          "data": {
            "text/plain": [
              "(30,\n",
              "                 Feature  Lasso coeff  Linear coeff\n",
              " 2           agePct12t29         -0.0     -0.302048\n",
              " 3           agePct16t24         -0.0      0.009206\n",
              " 4            agePct65up          0.0      0.131526\n",
              " 5             numbUrban          0.0     -0.270684\n",
              " 7             medIncome         -0.0     -0.158637\n",
              " 9          pctWFarmSelf          0.0      0.035483\n",
              " 11           pctWRetire         -0.0     -0.120681\n",
              " 12            medFamInc         -0.0      0.346672\n",
              " 13          whitePerCap         -0.0     -0.224351\n",
              " 14          blackPerCap         -0.0     -0.048688\n",
              " 15         indianPerCap         -0.0     -0.035345\n",
              " 16          OtherPerCap          0.0      0.031516\n",
              " 17       PctPopUnderPov          0.0     -0.118619\n",
              " 18      PctLess9thGrade          0.0     -0.065017\n",
              " 19            PctEmploy         -0.0      0.166700\n",
              " 20      PctEmplProfServ         -0.0      0.030070\n",
              " 22       MalePctNevMarr          0.0      0.218656\n",
              " 23          TotalPctDiv          0.0     -0.319641\n",
              " 27      PctLargHouseFam          0.0     -0.148428\n",
              " 28     PersPerOccupHous         -0.0      0.317469\n",
              " 29   PersPerRentOccHous         -0.0     -0.242148\n",
              " 30      PctPersOwnOccup         -0.0     -0.698012\n",
              " 33        PctHousOwnOcc         -0.0      0.590387\n",
              " 35       PctVacMore6Mos         -0.0     -0.037205\n",
              " 36       OwnOccLowQuart          0.0     -0.365117\n",
              " 37         OwnOccMedVal          0.0      0.311397\n",
              " 38             RentLowQ         -0.0     -0.222950\n",
              " 39            RentHighQ          0.0      0.006877\n",
              " 40              MedRent          0.0      0.250815\n",
              " 44  LemasPctOfficDrugUn          0.0      0.006112)"
            ]
          },
          "metadata": {},
          "execution_count": 110
        }
      ]
    },
    {
      "cell_type": "markdown",
      "source": [
        "These are the 30 attributes from the forward selection, which were not extracted with lasso. As we can see some of them had pretty big coefficients such as **PctPersOwnOccup**, **PctHousOwnOccup**, etc."
      ],
      "metadata": {
        "id": "yhYp9tJ6mdFi"
      }
    },
    {
      "cell_type": "code",
      "source": [
        "df_both = df[(df != 0).all(axis=1)]\n",
        "len(df_both), df_both"
      ],
      "metadata": {
        "colab": {
          "base_uri": "https://localhost:8080/"
        },
        "id": "bAK4X16uYiw0",
        "outputId": "7f489a0e-80a4-4352-ce03-3f1b7c66ba40"
      },
      "execution_count": 111,
      "outputs": [
        {
          "output_type": "execute_result",
          "data": {
            "text/plain": [
              "(15,\n",
              "                   Feature  Lasso coeff  Linear coeff\n",
              " 0            racepctblack     0.127238      0.174640\n",
              " 1            racePctWhite    -0.081075     -0.093441\n",
              " 6                pctUrban     0.041062      0.056736\n",
              " 8                pctWWage    -0.019159     -0.141096\n",
              " 10             pctWInvInc    -0.115543     -0.310458\n",
              " 21         MalePctDivorce     0.125157      0.377920\n",
              " 24            PctKids2Par    -0.107754     -0.271507\n",
              " 25             PctWorkMom    -0.030585     -0.135671\n",
              " 26               PctIlleg     0.192771      0.092640\n",
              " 31       PctPersDenseHous     0.029308      0.177949\n",
              " 32             HousVacant     0.083237      0.281274\n",
              " 34       PctVacantBoarded     0.073459      0.093908\n",
              " 41      MedRentPctHousInc     0.015698      0.042553\n",
              " 42  MedOwnCostPctIncNoMtg    -0.050739     -0.130159\n",
              " 43              NumStreet     0.139187      0.267357)"
            ]
          },
          "metadata": {},
          "execution_count": 111
        }
      ]
    },
    {
      "cell_type": "markdown",
      "source": [
        "For the 15 attributes that were extracted from both methods, we can see that there is bigger difference in some of the coefficients such as **pctWWage**, **MalePctDivorce**, **PctIlleg**, **NumStreet**, etc., but most of them are closer to each other and all of them have the same sign in both models. While for the ones that were not chosen with lasso we can see that most of them have small value, but some have also pretty big, such as **MedRent**, **PctPersOwnOccup**, **PctHousOwnOcc**, etc. Let's see how this changes the evaluation scores."
      ],
      "metadata": {
        "id": "6Dn37WVkU-lm"
      }
    },
    {
      "cell_type": "code",
      "source": [
        "metrics = ['MSE', 'MAE', 'RSE', 'R^2']\n",
        "linear_scores = [linear_mse, linear_mae, linear_rse, linear_r2]\n",
        "lasso_scores = [lasso_mse, lasso_mae, lasso_rse, lasso_r2]\n",
        "\n",
        "# Set position of bar on X axis\n",
        "bar_width = 0.2\n",
        "r1 = np.arange(len(metrics))\n",
        "r2 = [x + bar_width for x in r1]\n",
        "r3 = [x + bar_width for x in r2]\n",
        "\n",
        "# Plot the figure\n",
        "plt.figure(figsize=(12, 6))\n",
        "\n",
        "# Draw the plot\n",
        "plt.bar(r1, linear_scores, color='blue', width=bar_width, edgecolor='grey', label='Linear Regression')\n",
        "plt.bar(r2, lasso_scores, color='red', width=bar_width, edgecolor='grey', label='Lasso Regression')\n",
        "\n",
        "# Add xticks on the middle of the group bars\n",
        "plt.xlabel('Metrics', fontweight='bold', fontsize=14)\n",
        "plt.xticks([r + bar_width for r in range(len(metrics))], metrics, fontsize=12)\n",
        "\n",
        "# Adding the scores on top of the bars\n",
        "for i in range(len(linear_scores)):\n",
        "    plt.text(r1[i], linear_scores[i] + 0.01, f'{linear_scores[i]:.3f}', ha='center', va='center', fontsize=8, fontweight='bold')\n",
        "    plt.text(r2[i], lasso_scores[i] + 0.01, f'{lasso_scores[i]:.3f}', ha='center', va='center', fontsize=8, fontweight='bold')\n",
        "\n",
        "# Adjust the y-axis limit\n",
        "plt.ylim(0, 1)\n",
        "\n",
        "# Add title and legend\n",
        "plt.title('Comparison of Linear and Lasso Regression Metrics', fontweight='bold', fontsize=16)\n",
        "plt.legend(fontsize=12)\n",
        "\n",
        "# Show the plot\n",
        "plt.tight_layout()\n",
        "plt.show()"
      ],
      "metadata": {
        "colab": {
          "base_uri": "https://localhost:8080/",
          "height": 607
        },
        "id": "QNSYWHZ4YPS6",
        "outputId": "433fc65e-3e5e-4946-808b-e67c9de02d8e"
      },
      "execution_count": 112,
      "outputs": [
        {
          "output_type": "display_data",
          "data": {
            "text/plain": [
              "<Figure size 1200x600 with 1 Axes>"
            ],
            "image/png": "[encoded data removed]"
          },
          "metadata": {}
        }
      ]
    },
    {
      "cell_type": "markdown",
      "source": [
        "From the plot it becomes clear that Lasso scores are very slightly lower than the Linear regression scores, but the difference is very small. This means that we can get pretty much the same scores with two times less attributes."
      ],
      "metadata": {
        "id": "QWHBEqliVCV3"
      }
    },
    {
      "cell_type": "markdown",
      "source": [
        "## Download the \"Wine quality\" dataset and preprocess the data"
      ],
      "metadata": {
        "id": "R6ubZbtJ6Tum"
      }
    },
    {
      "cell_type": "markdown",
      "source": [
        "We will choose only the white wine data and prepare the data for modelling. We will be doing regression of the **wine quality grades**, which is the last column."
      ],
      "metadata": {
        "id": "CyxMBoMA6bPW"
      }
    },
    {
      "cell_type": "code",
      "source": [
        "import pandas as pd"
      ],
      "metadata": {
        "id": "QybuLvtO6azZ"
      },
      "execution_count": 113,
      "outputs": []
    },
    {
      "cell_type": "code",
      "source": [
        "wine_quality_white = pd.read_csv('data/winequality-white.csv', delimiter=';')\n",
        "wine_quality_white.head()"
      ],
      "metadata": {
        "colab": {
          "base_uri": "https://localhost:8080/",
          "height": 206
        },
        "id": "x5FdJ_LmSp2S",
        "outputId": "a9869bdd-42e0-4072-8211-a714df1b3e7e"
      },
      "execution_count": 114,
      "outputs": [
        {
          "output_type": "execute_result",
          "data": {
            "text/plain": [
              "   fixed acidity  volatile acidity  citric acid  residual sugar  chlorides  \\\n",
              "0            7.0              0.27         0.36            20.7      0.045   \n",
              "1            6.3              0.30         0.34             1.6      0.049   \n",
              "2            8.1              0.28         0.40             6.9      0.050   \n",
              "3            7.2              0.23         0.32             8.5      0.058   \n",
              "4            7.2              0.23         0.32             8.5      0.058   \n",
              "\n",
              "   free sulfur dioxide  total sulfur dioxide  density    pH  sulphates  \\\n",
              "0                 45.0                 170.0   1.0010  3.00       0.45   \n",
              "1                 14.0                 132.0   0.9940  3.30       0.49   \n",
              "2                 30.0                  97.0   0.9951  3.26       0.44   \n",
              "3                 47.0                 186.0   0.9956  3.19       0.40   \n",
              "4                 47.0                 186.0   0.9956  3.19       0.40   \n",
              "\n",
              "   alcohol  quality  \n",
              "0      8.8        6  \n",
              "1      9.5        6  \n",
              "2     10.1        6  \n",
              "3      9.9        6  \n",
              "4      9.9        6  "
            ],
            "text/html": [
              "\n",
              "  <div id=\"df-5cf7c7bf-dc6a-46f7-8d47-4adeec20fbf9\" class=\"colab-df-container\">\n",
              "    <div>\n",
              "<style scoped>\n",
              "    .dataframe tbody tr th:only-of-type {\n",
              "        vertical-align: middle;\n",
              "    }\n",
              "\n",
              "    .dataframe tbody tr th {\n",
              "        vertical-align: top;\n",
              "    }\n",
              "\n",
              "    .dataframe thead th {\n",
              "        text-align: right;\n",
              "    }\n",
              "</style>\n",
              "<table border=\"1\" class=\"dataframe\">\n",
              "  <thead>\n",
              "    <tr style=\"text-align: right;\">\n",
              "      <th></th>\n",
              "      <th>fixed acidity</th>\n",
              "      <th>volatile acidity</th>\n",
              "      <th>citric acid</th>\n",
              "      <th>residual sugar</th>\n",
              "      <th>chlorides</th>\n",
              "      <th>free sulfur dioxide</th>\n",
              "      <th>total sulfur dioxide</th>\n",
              "      <th>density</th>\n",
              "      <th>pH</th>\n",
              "      <th>sulphates</th>\n",
              "      <th>alcohol</th>\n",
              "      <th>quality</th>\n",
              "    </tr>\n",
              "  </thead>\n",
              "  <tbody>\n",
              "    <tr>\n",
              "      <th>0</th>\n",
              "      <td>7.0</td>\n",
              "      <td>0.27</td>\n",
              "      <td>0.36</td>\n",
              "      <td>20.7</td>\n",
              "      <td>0.045</td>\n",
              "      <td>45.0</td>\n",
              "      <td>170.0</td>\n",
              "      <td>1.0010</td>\n",
              "      <td>3.00</td>\n",
              "      <td>0.45</td>\n",
              "      <td>8.8</td>\n",
              "      <td>6</td>\n",
              "    </tr>\n",
              "    <tr>\n",
              "      <th>1</th>\n",
              "      <td>6.3</td>\n",
              "      <td>0.30</td>\n",
              "      <td>0.34</td>\n",
              "      <td>1.6</td>\n",
              "      <td>0.049</td>\n",
              "      <td>14.0</td>\n",
              "      <td>132.0</td>\n",
              "      <td>0.9940</td>\n",
              "      <td>3.30</td>\n",
              "      <td>0.49</td>\n",
              "      <td>9.5</td>\n",
              "      <td>6</td>\n",
              "    </tr>\n",
              "    <tr>\n",
              "      <th>2</th>\n",
              "      <td>8.1</td>\n",
              "      <td>0.28</td>\n",
              "      <td>0.40</td>\n",
              "      <td>6.9</td>\n",
              "      <td>0.050</td>\n",
              "      <td>30.0</td>\n",
              "      <td>97.0</td>\n",
              "      <td>0.9951</td>\n",
              "      <td>3.26</td>\n",
              "      <td>0.44</td>\n",
              "      <td>10.1</td>\n",
              "      <td>6</td>\n",
              "    </tr>\n",
              "    <tr>\n",
              "      <th>3</th>\n",
              "      <td>7.2</td>\n",
              "      <td>0.23</td>\n",
              "      <td>0.32</td>\n",
              "      <td>8.5</td>\n",
              "      <td>0.058</td>\n",
              "      <td>47.0</td>\n",
              "      <td>186.0</td>\n",
              "      <td>0.9956</td>\n",
              "      <td>3.19</td>\n",
              "      <td>0.40</td>\n",
              "      <td>9.9</td>\n",
              "      <td>6</td>\n",
              "    </tr>\n",
              "    <tr>\n",
              "      <th>4</th>\n",
              "      <td>7.2</td>\n",
              "      <td>0.23</td>\n",
              "      <td>0.32</td>\n",
              "      <td>8.5</td>\n",
              "      <td>0.058</td>\n",
              "      <td>47.0</td>\n",
              "      <td>186.0</td>\n",
              "      <td>0.9956</td>\n",
              "      <td>3.19</td>\n",
              "      <td>0.40</td>\n",
              "      <td>9.9</td>\n",
              "      <td>6</td>\n",
              "    </tr>\n",
              "  </tbody>\n",
              "</table>\n",
              "</div>\n",
              "    <div class=\"colab-df-buttons\">\n",
              "\n",
              "  <div class=\"colab-df-container\">\n",
              "    <button class=\"colab-df-convert\" onclick=\"convertToInteractive('df-5cf7c7bf-dc6a-46f7-8d47-4adeec20fbf9')\"\n",
              "            title=\"Convert this dataframe to an interactive table.\"\n",
              "            style=\"display:none;\">\n",
              "\n",
              "  <svg xmlns=\"http://www.w3.org/2000/svg\" height=\"24px\" viewBox=\"0 -960 960 960\">\n",
              "    <path d=\"M120-120v-720h720v720H120Zm60-500h600v-160H180v160Zm220 220h160v-160H400v160Zm0 220h160v-160H400v160ZM180-400h160v-160H180v160Zm440 0h160v-160H620v160ZM180-180h160v-160H180v160Zm440 0h160v-160H620v160Z\"/>\n",
              "  </svg>\n",
              "    </button>\n",
              "\n",
              "  <style>\n",
              "    .colab-df-container {\n",
              "      display:flex;\n",
              "      gap: 12px;\n",
              "    }\n",
              "\n",
              "    .colab-df-convert {\n",
              "      background-color: #E8F0FE;\n",
              "      border: none;\n",
              "      border-radius: 50%;\n",
              "      cursor: pointer;\n",
              "      display: none;\n",
              "      fill: #1967D2;\n",
              "      height: 32px;\n",
              "      padding: 0 0 0 0;\n",
              "      width: 32px;\n",
              "    }\n",
              "\n",
              "    .colab-df-convert:hover {\n",
              "      background-color: #E2EBFA;\n",
              "      box-shadow: 0px 1px 2px rgba(60, 64, 67, 0.3), 0px 1px 3px 1px rgba(60, 64, 67, 0.15);\n",
              "      fill: #174EA6;\n",
              "    }\n",
              "\n",
              "    .colab-df-buttons div {\n",
              "      margin-bottom: 4px;\n",
              "    }\n",
              "\n",
              "    [theme=dark] .colab-df-convert {\n",
              "      background-color: #3B4455;\n",
              "      fill: #D2E3FC;\n",
              "    }\n",
              "\n",
              "    [theme=dark] .colab-df-convert:hover {\n",
              "      background-color: #434B5C;\n",
              "      box-shadow: 0px 1px 3px 1px rgba(0, 0, 0, 0.15);\n",
              "      filter: drop-shadow(0px 1px 2px rgba(0, 0, 0, 0.3));\n",
              "      fill: #FFFFFF;\n",
              "    }\n",
              "  </style>\n",
              "\n",
              "    <script>\n",
              "      const buttonEl =\n",
              "        document.querySelector('#df-5cf7c7bf-dc6a-46f7-8d47-4adeec20fbf9 button.colab-df-convert');\n",
              "      buttonEl.style.display =\n",
              "        google.colab.kernel.accessAllowed ? 'block' : 'none';\n",
              "\n",
              "      async function convertToInteractive(key) {\n",
              "        const element = document.querySelector('#df-5cf7c7bf-dc6a-46f7-8d47-4adeec20fbf9');\n",
              "        const dataTable =\n",
              "          await google.colab.kernel.invokeFunction('convertToInteractive',\n",
              "                                                    [key], {});\n",
              "        if (!dataTable) return;\n",
              "\n",
              "        const docLinkHtml = 'Like what you see? Visit the ' +\n",
              "          '<a target=\"_blank\" href=https://colab.research.google.com/notebooks/data_table.ipynb>data table notebook</a>'\n",
              "          + ' to learn more about interactive tables.';\n",
              "        element.innerHTML = '';\n",
              "        dataTable['output_type'] = 'display_data';\n",
              "        await google.colab.output.renderOutput(dataTable, element);\n",
              "        const docLink = document.createElement('div');\n",
              "        docLink.innerHTML = docLinkHtml;\n",
              "        element.appendChild(docLink);\n",
              "      }\n",
              "    </script>\n",
              "  </div>\n",
              "\n",
              "\n",
              "<div id=\"df-0662202d-e9fa-46d9-9606-3463bb807999\">\n",
              "  <button class=\"colab-df-quickchart\" onclick=\"quickchart('df-0662202d-e9fa-46d9-9606-3463bb807999')\"\n",
              "            title=\"Suggest charts\"\n",
              "            style=\"display:none;\">\n",
              "\n",
              "<svg xmlns=\"http://www.w3.org/2000/svg\" height=\"24px\"viewBox=\"0 0 24 24\"\n",
              "     width=\"24px\">\n",
              "    <g>\n",
              "        <path d=\"M19 3H5c-1.1 0-2 .9-2 2v14c0 1.1.9 2 2 2h14c1.1 0 2-.9 2-2V5c0-1.1-.9-2-2-2zM9 17H7v-7h2v7zm4 0h-2V7h2v10zm4 0h-2v-4h2v4z\"/>\n",
              "    </g>\n",
              "</svg>\n",
              "  </button>\n",
              "\n",
              "<style>\n",
              "  .colab-df-quickchart {\n",
              "      --bg-color: #E8F0FE;\n",
              "      --fill-color: #1967D2;\n",
              "      --hover-bg-color: #E2EBFA;\n",
              "      --hover-fill-color: #174EA6;\n",
              "      --disabled-fill-color: #AAA;\n",
              "      --disabled-bg-color: #DDD;\n",
              "  }\n",
              "\n",
              "  [theme=dark] .colab-df-quickchart {\n",
              "      --bg-color: #3B4455;\n",
              "      --fill-color: #D2E3FC;\n",
              "      --hover-bg-color: #434B5C;\n",
              "      --hover-fill-color: #FFFFFF;\n",
              "      --disabled-bg-color: #3B4455;\n",
              "      --disabled-fill-color: #666;\n",
              "  }\n",
              "\n",
              "  .colab-df-quickchart {\n",
              "    background-color: var(--bg-color);\n",
              "    border: none;\n",
              "    border-radius: 50%;\n",
              "    cursor: pointer;\n",
              "    display: none;\n",
              "    fill: var(--fill-color);\n",
              "    height: 32px;\n",
              "    padding: 0;\n",
              "    width: 32px;\n",
              "  }\n",
              "\n",
              "  .colab-df-quickchart:hover {\n",
              "    background-color: var(--hover-bg-color);\n",
              "    box-shadow: 0 1px 2px rgba(60, 64, 67, 0.3), 0 1px 3px 1px rgba(60, 64, 67, 0.15);\n",
              "    fill: var(--button-hover-fill-color);\n",
              "  }\n",
              "\n",
              "  .colab-df-quickchart-complete:disabled,\n",
              "  .colab-df-quickchart-complete:disabled:hover {\n",
              "    background-color: var(--disabled-bg-color);\n",
              "    fill: var(--disabled-fill-color);\n",
              "    box-shadow: none;\n",
              "  }\n",
              "\n",
              "  .colab-df-spinner {\n",
              "    border: 2px solid var(--fill-color);\n",
              "    border-color: transparent;\n",
              "    border-bottom-color: var(--fill-color);\n",
              "    animation:\n",
              "      spin 1s steps(1) infinite;\n",
              "  }\n",
              "\n",
              "  @keyframes spin {\n",
              "    0% {\n",
              "      border-color: transparent;\n",
              "      border-bottom-color: var(--fill-color);\n",
              "      border-left-color: var(--fill-color);\n",
              "    }\n",
              "    20% {\n",
              "      border-color: transparent;\n",
              "      border-left-color: var(--fill-color);\n",
              "      border-top-color: var(--fill-color);\n",
              "    }\n",
              "    30% {\n",
              "      border-color: transparent;\n",
              "      border-left-color: var(--fill-color);\n",
              "      border-top-color: var(--fill-color);\n",
              "      border-right-color: var(--fill-color);\n",
              "    }\n",
              "    40% {\n",
              "      border-color: transparent;\n",
              "      border-right-color: var(--fill-color);\n",
              "      border-top-color: var(--fill-color);\n",
              "    }\n",
              "    60% {\n",
              "      border-color: transparent;\n",
              "      border-right-color: var(--fill-color);\n",
              "    }\n",
              "    80% {\n",
              "      border-color: transparent;\n",
              "      border-right-color: var(--fill-color);\n",
              "      border-bottom-color: var(--fill-color);\n",
              "    }\n",
              "    90% {\n",
              "      border-color: transparent;\n",
              "      border-bottom-color: var(--fill-color);\n",
              "    }\n",
              "  }\n",
              "</style>\n",
              "\n",
              "  <script>\n",
              "    async function quickchart(key) {\n",
              "      const quickchartButtonEl =\n",
              "        document.querySelector('#' + key + ' button');\n",
              "      quickchartButtonEl.disabled = true;  // To prevent multiple clicks.\n",
              "      quickchartButtonEl.classList.add('colab-df-spinner');\n",
              "      try {\n",
              "        const charts = await google.colab.kernel.invokeFunction(\n",
              "            'suggestCharts', [key], {});\n",
              "      } catch (error) {\n",
              "        console.error('Error during call to suggestCharts:', error);\n",
              "      }\n",
              "      quickchartButtonEl.classList.remove('colab-df-spinner');\n",
              "      quickchartButtonEl.classList.add('colab-df-quickchart-complete');\n",
              "    }\n",
              "    (() => {\n",
              "      let quickchartButtonEl =\n",
              "        document.querySelector('#df-0662202d-e9fa-46d9-9606-3463bb807999 button');\n",
              "      quickchartButtonEl.style.display =\n",
              "        google.colab.kernel.accessAllowed ? 'block' : 'none';\n",
              "    })();\n",
              "  </script>\n",
              "</div>\n",
              "    </div>\n",
              "  </div>\n"
            ]
          },
          "metadata": {},
          "execution_count": 114
        }
      ]
    },
    {
      "cell_type": "markdown",
      "source": [
        "Since there is no missing data the only thing left to prepare the data for modeling is to split it."
      ],
      "metadata": {
        "id": "D0Tp9jTacb9Q"
      }
    },
    {
      "cell_type": "code",
      "source": [
        "X = wine_quality_white.iloc[:, :-1].values\n",
        "y = wine_quality_white.iloc[:, -1].values"
      ],
      "metadata": {
        "id": "2y3mF_31cpmH"
      },
      "execution_count": 115,
      "outputs": []
    },
    {
      "cell_type": "code",
      "source": [
        "X"
      ],
      "metadata": {
        "colab": {
          "base_uri": "https://localhost:8080/"
        },
        "id": "EjphpCL6cxKY",
        "outputId": "3cdd5a62-eaa7-40c8-b2c2-424eabd3a8c8"
      },
      "execution_count": 116,
      "outputs": [
        {
          "output_type": "execute_result",
          "data": {
            "text/plain": [
              "array([[ 7.  ,  0.27,  0.36, ...,  3.  ,  0.45,  8.8 ],\n",
              "       [ 6.3 ,  0.3 ,  0.34, ...,  3.3 ,  0.49,  9.5 ],\n",
              "       [ 8.1 ,  0.28,  0.4 , ...,  3.26,  0.44, 10.1 ],\n",
              "       ...,\n",
              "       [ 6.5 ,  0.24,  0.19, ...,  2.99,  0.46,  9.4 ],\n",
              "       [ 5.5 ,  0.29,  0.3 , ...,  3.34,  0.38, 12.8 ],\n",
              "       [ 6.  ,  0.21,  0.38, ...,  3.26,  0.32, 11.8 ]])"
            ]
          },
          "metadata": {},
          "execution_count": 116
        }
      ]
    },
    {
      "cell_type": "code",
      "source": [
        "y"
      ],
      "metadata": {
        "colab": {
          "base_uri": "https://localhost:8080/"
        },
        "id": "wjNM0kFjcyco",
        "outputId": "7878ceb2-662c-41a1-8d1e-f07161829458"
      },
      "execution_count": 117,
      "outputs": [
        {
          "output_type": "execute_result",
          "data": {
            "text/plain": [
              "array([6, 6, 6, ..., 6, 7, 6])"
            ]
          },
          "metadata": {},
          "execution_count": 117
        }
      ]
    },
    {
      "cell_type": "code",
      "source": [
        "X_train, X_test, y_train, y_test = train_test_split(X, y, test_size=0.5, random_state=42)"
      ],
      "metadata": {
        "id": "4xGBDJEDdGHZ"
      },
      "execution_count": 118,
      "outputs": []
    },
    {
      "cell_type": "markdown",
      "source": [
        "## Implementing ridge regression"
      ],
      "metadata": {
        "id": "qW9vIibB6sNm"
      }
    },
    {
      "cell_type": "markdown",
      "source": [
        "We will implement ridge regression with gradient descent and stochastic gradient descent from scratch."
      ],
      "metadata": {
        "id": "IBsTt_2i6vX2"
      }
    },
    {
      "cell_type": "markdown",
      "source": [
        "Let's first start with the ridge regression with GD."
      ],
      "metadata": {
        "id": "sk5HbkVkif2H"
      }
    },
    {
      "cell_type": "code",
      "source": [
        "class RidgeRegressionGD:\n",
        "  def __init__(self, learning_rate=0.01, n_iterations=1000, reg_lvl=0, tolerance=1e-6):\n",
        "    self.learning_rate = learning_rate\n",
        "    self.n_iterations = n_iterations\n",
        "    self.reg_lvl = reg_lvl\n",
        "    self.tolerance = tolerance\n",
        "    self.coefficients = None\n",
        "    self.means = None\n",
        "    self.stds = None\n",
        "\n",
        "\n",
        "  def fit(self, X, y):\n",
        "    # Standardize the data\n",
        "    self.means = np.mean(X, axis=0)\n",
        "    self.stds = np.std(X, axis=0)\n",
        "    X = np.divide(np.subtract(X, self.means), self.stds)\n",
        "\n",
        "    rows, cols = X.shape\n",
        "    self.coefficients = np.zeros(cols + 1)\n",
        "    X_mat = np.ones((rows, cols + 1))\n",
        "    X_mat[:, 1:] = X\n",
        "    last_cost = None\n",
        "\n",
        "    for index in range(self.n_iterations):\n",
        "      y_pred = X_mat.dot(self.coefficients)\n",
        "      residuals = y - y_pred\n",
        "      gradients = (-2 * X_mat.T.dot(residuals) + 2 * self.reg_lvl * np.hstack((0, self.coefficients[1:]))) / rows\n",
        "      self.coefficients -= self.learning_rate * gradients\n",
        "\n",
        "      y_pred = X_mat.dot(self.coefficients)\n",
        "      curr_cost = np.square(np.subtract(y, y_pred)).sum()\n",
        "\n",
        "      if last_cost is not None and abs(last_cost - curr_cost) < self.tolerance:\n",
        "        print(f\"Convergence at step {index + 1}: {abs(last_cost - curr_cost)}\")\n",
        "        break\n",
        "\n",
        "      last_cost = curr_cost\n",
        "\n",
        "  def predict(self, X):\n",
        "    # Check if the model is already trained (coefficients are calculated)\n",
        "    if self.coefficients is None:\n",
        "      raise ValueError(\"Model has not been trained yet. Call the function 'fit()' first.\")\n",
        "\n",
        "    # Transform the features into a matrix\n",
        "    X = np.divide(np.subtract(X, self.means), self.stds)\n",
        "    rows, cols = X.shape\n",
        "    X_mat = np.ones((rows, cols + 1))\n",
        "    X_mat[:, 1:] = X\n",
        "\n",
        "    # Calculate the predictions\n",
        "    return X_mat.dot(self.coefficients)\n",
        "\n",
        "\n",
        "  def evaluate(self, y_true, y_pred):\n",
        "    # Calculate the MSE\n",
        "    mse = np.square(np.subtract(y_true, y_pred)).mean()\n",
        "    # Calculate the MAE\n",
        "    mae = np.abs(np.subtract(y_true, y_pred)).mean()\n",
        "    # Calculate the RSE\n",
        "    rss = np.square(np.subtract(y_true, y_pred)).sum()\n",
        "    rse = np.sqrt(rss / (len(y_true) - 2))\n",
        "    # Calculate the R^2\n",
        "    tss = np.square(np.subtract(y_true, y_true.mean())).sum()\n",
        "    r2_score = 1 - np.divide(rss, tss)\n",
        "\n",
        "    return mse, mae, rse, r2_score"
      ],
      "metadata": {
        "id": "MNx02amh6u8O"
      },
      "execution_count": 145,
      "outputs": []
    },
    {
      "cell_type": "markdown",
      "source": [
        "Now let's do the same with SGD."
      ],
      "metadata": {
        "id": "QpL7NxpikqMP"
      }
    },
    {
      "cell_type": "code",
      "source": [
        "class RidgeRegressionSGD:\n",
        "  def __init__(self, learning_rate=0.01, n_epochs=50, reg_lvl=0, tolerance=1e-6):\n",
        "    self.learning_rate = learning_rate\n",
        "    self.n_epochs = n_epochs\n",
        "    self.reg_lvl = reg_lvl\n",
        "    self.tolerance = tolerance\n",
        "    self.coefficients = None\n",
        "    self.means = None\n",
        "    self.stds = None\n",
        "\n",
        "\n",
        "  def fit(self, X, y):\n",
        "    # Standardize the data\n",
        "    self.means = np.mean(X, axis=0)\n",
        "    self.stds = np.std(X, axis=0)\n",
        "    X = np.divide(np.subtract(X, self.means), self.stds)\n",
        "\n",
        "    rows, cols = X.shape\n",
        "    self.coefficients = np.zeros(cols + 1)\n",
        "    X_mat = np.ones((rows, cols + 1))\n",
        "    X_mat[:, 1:] = X\n",
        "    last_cost = None\n",
        "    convergence = False\n",
        "\n",
        "    for epoch in range(self.n_epochs):\n",
        "      # Shuffle the dataset\n",
        "      np.random.seed(epoch)\n",
        "      indices = np.arange(rows)\n",
        "      np.random.shuffle(indices)\n",
        "\n",
        "      for index in indices:\n",
        "        # Extract sample\n",
        "        X_random = X_mat[index:index+1]\n",
        "        y_random = y[index:index+1]\n",
        "\n",
        "        # Calculate the gradients\n",
        "        y_pred = X_random.dot(self.coefficients)\n",
        "        residuals = y_random - y_pred\n",
        "        gradients = -2 * X_random.T.dot(residuals) + 2 * self.reg_lvl * np.hstack((0, self.coefficients[1:]))\n",
        "        self.coefficients -= self.learning_rate * gradients\n",
        "\n",
        "        y_pred = X_random.dot(self.coefficients)\n",
        "        curr_cost = np.square(np.subtract(y_random, y_pred)).sum()\n",
        "\n",
        "        if last_cost != None and abs(last_cost - curr_cost) < self.tolerance:\n",
        "          print(f\"Convergence at epoch {epoch + 1} and sample {index + 1}: {abs(last_cost - curr_cost)}\")\n",
        "          convergence = True\n",
        "          break\n",
        "\n",
        "        last_cost = curr_cost\n",
        "\n",
        "      if convergence:\n",
        "        break\n",
        "\n",
        "\n",
        "  def predict(self, X):\n",
        "    # Check if the model is already trained (coefficients are calculated)\n",
        "    if self.coefficients is None:\n",
        "      raise ValueError(\"Model has not been trained yet. Call the function 'fit()' first.\")\n",
        "\n",
        "    # Transform the features into a matrix\n",
        "    X = np.divide(np.subtract(X, self.means), self.stds)\n",
        "    rows, cols = X.shape\n",
        "    X_mat = np.ones((rows, cols + 1))\n",
        "    X_mat[:, 1:] = X\n",
        "\n",
        "    # Calculate the predictions\n",
        "    return X_mat.dot(self.coefficients)\n",
        "\n",
        "\n",
        "  def evaluate(self, y_true, y_pred):\n",
        "    # Calculate the MSE\n",
        "    mse = np.square(np.subtract(y_true, y_pred)).mean()\n",
        "    # Calculate the MAE\n",
        "    mae = np.abs(np.subtract(y_true, y_pred)).mean()\n",
        "    # Calculate the RSE\n",
        "    rss = np.square(np.subtract(y_true, y_pred)).sum()\n",
        "    rse = np.sqrt(rss / (len(y_true) - 2))\n",
        "    # Calculate the R^2\n",
        "    tss = np.square(np.subtract(y_true, y_true.mean())).sum()\n",
        "    r2_score = 1 - np.divide(rss, tss)\n",
        "\n",
        "    return mse, mae, rse, r2_score"
      ],
      "metadata": {
        "id": "xqbzpq6GklB5"
      },
      "execution_count": 180,
      "outputs": []
    },
    {
      "cell_type": "markdown",
      "source": [
        "## Testing the ridge regression"
      ],
      "metadata": {
        "id": "ze2me_wS697w"
      }
    },
    {
      "cell_type": "markdown",
      "source": [
        "We will test the implementations on the \"Wine quality\" data and we will test different learning rates and try to find the optimal one. We will also compare the time to convergence and the results of the two gradient descents we have implemented."
      ],
      "metadata": {
        "id": "OjcOvDQW7CMO"
      }
    },
    {
      "cell_type": "markdown",
      "source": [
        "First let's look at the GD ridge regression."
      ],
      "metadata": {
        "id": "k2mdHg_K0fUg"
      }
    },
    {
      "cell_type": "markdown",
      "source": [
        "We already found out that the"
      ],
      "metadata": {
        "id": "PCxGdIDJwrBZ"
      }
    },
    {
      "cell_type": "code",
      "source": [
        "learning_rates = [0.001, 0.003, 0.006, 0.01, 0.03, 0.06, 0.1, 0.3, 0.6, 1]\n",
        "reg_lvls = [0.001, 0.003, 0.006, 0.01, 0.03, 0.06, 0.1, 0.3, 0.6, 1]"
      ],
      "metadata": {
        "id": "IDl7HXz_uBVJ"
      },
      "execution_count": 182,
      "outputs": []
    },
    {
      "cell_type": "code",
      "source": [
        "# Define the best score that we want to maximize or minimize\n",
        "best_score_mse, best_score_mae, best_score_rse, best_score_r2  = None, None, None, None\n",
        "best_params_mse, best_params_mae, best_params_rse, best_params_r2  = {}, {}, {}, {}\n",
        "scores_mse, scores_mae, scores_rse, scores_r2  = [], [], [], []\n",
        "\n",
        "for lr in tqdm(learning_rates, desc='Learning Rates'):\n",
        "  for reg in reg_lvls:\n",
        "    # Initialize the RidgeRegressionGD with current set of hyperparameters\n",
        "    model = RidgeRegressionGD(learning_rate=lr, n_iterations=1000, reg_lvl=reg)\n",
        "\n",
        "    # Fit the model on training data\n",
        "    model.fit(X_train, y_train)\n",
        "\n",
        "    # Predict on test data\n",
        "    y_pred = model.predict(X_test)\n",
        "\n",
        "    # Evaluate the model using MSE\n",
        "    mse, mae, rse, r2 = model.evaluate(y_test, y_pred)\n",
        "\n",
        "    scores_mse.append(mse)\n",
        "    scores_mae.append(mae)\n",
        "    scores_rse.append(rse)\n",
        "    scores_r2.append(r2)\n",
        "\n",
        "    # If the score is better, update the best score and parameters\n",
        "    if best_score_mse is None or mse < best_score_mse:\n",
        "        best_score_mse = mse\n",
        "        best_params_mse = {'learning_rate': lr, 'reg_lvl': reg}\n",
        "    if best_score_mae is None or mae < best_score_mae:\n",
        "        best_score_mae = mae\n",
        "        best_params_mae = {'learning_rate': lr, 'reg_lvl': reg}\n",
        "    if best_score_rse is None or rse < best_score_rse:\n",
        "        best_score_rse = rse\n",
        "        best_params_rse = {'learning_rate': lr, 'reg_lvl': reg}\n",
        "    if best_score_r2 is None or r2 > best_score_r2:\n",
        "        best_score_r2 = r2\n",
        "        best_params_r2 = {'learning_rate': lr, 'reg_lvl': reg}\n",
        "\n",
        "\n",
        "# After the grid search\n",
        "print()\n",
        "print(f\"Best Parameters (MSE): {best_params_mse}\")\n",
        "print(f\"Best Score (MSE): {best_score_mse}\")\n",
        "print(f\"Best Parameters (MAE): {best_params_mae}\")\n",
        "print(f\"Best Score (MAE): {best_score_mae}\")\n",
        "print(f\"Best Parameters (RSE): {best_params_rse}\")\n",
        "print(f\"Best Score (RSE): {best_score_rse}\")\n",
        "print(f\"Best Parameters (R2): {best_params_r2}\")\n",
        "print(f\"Best Score (R2): {best_score_r2}\")"
      ],
      "metadata": {
        "id": "49TZI3aq6r08",
        "colab": {
          "base_uri": "https://localhost:8080/"
        },
        "outputId": "3ea7cc8d-7269-4ea4-9327-fa717f4bf684"
      },
      "execution_count": 183,
      "outputs": [
        {
          "output_type": "stream",
          "name": "stderr",
          "text": [
            "Learning Rates:  70%|███████   | 7/10 [00:10<00:03,  1.13s/it]"
          ]
        },
        {
          "output_type": "stream",
          "name": "stdout",
          "text": [
            "Convergence at step 403: 9.759419299371075e-07\n",
            "Convergence at step 403: 9.907321327773388e-07\n",
            "Convergence at step 404: 9.828904694586527e-07\n",
            "Convergence at step 405: 9.824411790759768e-07\n",
            "Convergence at step 410: 9.799218787520658e-07\n"
          ]
        },
        {
          "output_type": "stream",
          "name": "stderr",
          "text": [
            "\rLearning Rates:  80%|████████  | 8/10 [00:10<00:01,  1.09it/s]"
          ]
        },
        {
          "output_type": "stream",
          "name": "stdout",
          "text": [
            "Convergence at step 417: 9.86525719781639e-07\n",
            "Convergence at step 426: 9.940495147020556e-07\n",
            "Convergence at step 464: 9.959571798390243e-07\n",
            "Convergence at step 500: 9.851316917774966e-07\n",
            "Convergence at step 527: 9.908094398269895e-07\n"
          ]
        },
        {
          "output_type": "stream",
          "name": "stderr",
          "text": [
            "/usr/local/lib/python3.10/dist-packages/numpy/core/_methods.py:48: RuntimeWarning: overflow encountered in reduce\n",
            "  return umr_sum(a, axis, dtype, out, keepdims, initial, where)\n",
            "<ipython-input-145-58d87aa94ea4>:33: RuntimeWarning: invalid value encountered in double_scalars\n",
            "  if last_cost is not None and abs(last_cost - curr_cost) < self.tolerance:\n",
            "<ipython-input-145-58d87aa94ea4>:31: RuntimeWarning: overflow encountered in square\n",
            "  curr_cost = np.square(np.subtract(y, y_pred)).sum()\n",
            "<ipython-input-145-58d87aa94ea4>:27: RuntimeWarning: overflow encountered in multiply\n",
            "  gradients = (-2 * X_mat.T.dot(residuals) + 2 * self.reg_lvl * np.hstack((0, self.coefficients[1:]))) / rows\n",
            "Learning Rates: 100%|██████████| 10/10 [00:12<00:00,  1.26s/it]"
          ]
        },
        {
          "output_type": "stream",
          "name": "stdout",
          "text": [
            "\n",
            "Best Parameters (MSE): {'learning_rate': 0.3, 'reg_lvl': 0.001}\n",
            "Best Score (MSE): 0.5677137621024503\n",
            "Best Parameters (MAE): {'learning_rate': 0.3, 'reg_lvl': 0.001}\n",
            "Best Score (MAE): 0.5862351460636402\n",
            "Best Parameters (RSE): {'learning_rate': 0.3, 'reg_lvl': 0.001}\n",
            "Best Score (RSE): 0.7537756762335088\n",
            "Best Parameters (R2): {'learning_rate': 0.3, 'reg_lvl': 0.001}\n",
            "Best Score (R2): 0.2631400816777041\n"
          ]
        },
        {
          "output_type": "stream",
          "name": "stderr",
          "text": [
            "\n"
          ]
        }
      ]
    },
    {
      "cell_type": "code",
      "source": [
        "import seaborn as sns"
      ],
      "metadata": {
        "id": "-s4lGya-3NYl"
      },
      "execution_count": 184,
      "outputs": []
    },
    {
      "cell_type": "code",
      "source": [
        "# Reshape scores to a matrix form\n",
        "scores_mse_matrix = np.array(scores_mse).reshape(len(learning_rates), len(reg_lvls))\n",
        "scores_mae_matrix = np.array(scores_mae).reshape(len(learning_rates), len(reg_lvls))\n",
        "scores_rse_matrix = np.array(scores_rse).reshape(len(learning_rates), len(reg_lvls))\n",
        "scores_r2_matrix = np.array(scores_r2).reshape(len(learning_rates), len(reg_lvls))\n",
        "\n",
        "scores_matrices = [scores_mse_matrix, scores_mae_matrix, scores_rse_matrix, scores_r2_matrix]\n",
        "score_titles = ['MSE', 'MAE', 'RSE', 'R2']\n",
        "# Plotting\n",
        "fig, axes = plt.subplots(2, 2, figsize=(12, 12))\n",
        "fig.suptitle('Grid GD Search Scores', fontsize=16)\n",
        "\n",
        "# Iterate over your axes and set the properties\n",
        "for i, ax in enumerate(axes.flatten()):\n",
        "    vmin = np.percentile(scores_matrices[i], 5)\n",
        "    vmax = np.percentile(scores_matrices[i], 95)\n",
        "    sns.heatmap(scores_matrices[i], ax=ax, annot=False, cmap='viridis', vmin=vmin, vmax=vmax, yticklabels=learning_rates)\n",
        "    ax.set_title(score_titles[i])\n",
        "    ax.set_xlabel('Regularization Level')\n",
        "    ax.set_ylabel('Learning Rate')\n",
        "    ax.set_xticklabels(reg_lvls, rotation=45, ha='right')\n",
        "\n",
        "plt.tight_layout()\n",
        "plt.show()"
      ],
      "metadata": {
        "colab": {
          "base_uri": "https://localhost:8080/",
          "height": 1000
        },
        "id": "lbw5hDVBzdqp",
        "outputId": "8bd1b5d5-ace6-4c5a-a1a4-6f3a485fa1a2"
      },
      "execution_count": 186,
      "outputs": [
        {
          "output_type": "display_data",
          "data": {
            "text/plain": [
              "<Figure size 1200x1200 with 8 Axes>"
            ],
            "image/png": "[encoded data removed]"
          },
          "metadata": {}
        }
      ]
    },
    {
      "cell_type": "markdown",
      "source": [
        "As we can see for learning rate bigger than 0.6 the GD doesn't work right. We can see that for MSE, MAE, and RSE all learning rates return pretty much similar results for all regularization levels, while for the R2 the learning rate of 0.001 gives pretty bad results for each regularization level. Anyway, the best results seem to be for **learning rate** 0.3 and **regularization level** 0.001. Now let's train a model for these values and see what coefficients and scores we get."
      ],
      "metadata": {
        "id": "0WbifSd0JYYY"
      }
    },
    {
      "cell_type": "code",
      "source": [
        "regression_gd = RidgeRegressionGD(learning_rate=0.3, n_iterations=1000, reg_lvl=0.001)\n",
        "regression_gd.fit(X_train, y_train)"
      ],
      "metadata": {
        "colab": {
          "base_uri": "https://localhost:8080/"
        },
        "id": "TuTASPtPIC76",
        "outputId": "fcd23b20-b842-4f8b-ad64-43e2f5b11f0c"
      },
      "execution_count": 187,
      "outputs": [
        {
          "output_type": "stream",
          "name": "stdout",
          "text": [
            "Convergence at step 403: 9.759419299371075e-07\n"
          ]
        }
      ]
    },
    {
      "cell_type": "code",
      "source": [
        "y_pred_gd = regression_gd.predict(X_test)\n",
        "y_pred_gd"
      ],
      "metadata": {
        "colab": {
          "base_uri": "https://localhost:8080/"
        },
        "id": "lhvOkjdkICuZ",
        "outputId": "8aadd340-72f0-4ccc-bfd2-c2883a3fd875"
      },
      "execution_count": 188,
      "outputs": [
        {
          "output_type": "execute_result",
          "data": {
            "text/plain": [
              "array([6.35740375, 6.43361734, 6.39531587, ..., 6.70686157, 6.15042026,\n",
              "       6.72752606])"
            ]
          },
          "metadata": {},
          "execution_count": 188
        }
      ]
    },
    {
      "cell_type": "code",
      "source": [
        "y_test"
      ],
      "metadata": {
        "colab": {
          "base_uri": "https://localhost:8080/"
        },
        "id": "PBPFTzqXKfFy",
        "outputId": "91dfc75c-0cae-484e-e2be-e0017894316a"
      },
      "execution_count": 189,
      "outputs": [
        {
          "output_type": "execute_result",
          "data": {
            "text/plain": [
              "array([7, 8, 8, ..., 7, 6, 7])"
            ]
          },
          "metadata": {},
          "execution_count": 189
        }
      ]
    },
    {
      "cell_type": "code",
      "source": [
        "mse_gd, mae_gd, rse_gd, r2_gd = regression_gd.evaluate(y_test, y_pred_gd)\n",
        "\n",
        "print(\"Linear Regression Evaluation Results:\")\n",
        "print(\"Mean Squared Error (MSE): \", mse_gd)\n",
        "print(\"Mean Absolute Error (MAE): \", mae_gd)\n",
        "print(\"Residual Standard Error (RSE): \", rse_gd)\n",
        "print(\"R-Squared Score (R^2): \", r2_gd)"
      ],
      "metadata": {
        "colab": {
          "base_uri": "https://localhost:8080/"
        },
        "id": "SHQnDIl01D7g",
        "outputId": "556d4a34-5ff1-4109-eb64-b72a681e10c5"
      },
      "execution_count": 190,
      "outputs": [
        {
          "output_type": "stream",
          "name": "stdout",
          "text": [
            "Linear Regression Evaluation Results:\n",
            "Mean Squared Error (MSE):  0.5677137621024503\n",
            "Mean Absolute Error (MAE):  0.5862351460636402\n",
            "Residual Standard Error (RSE):  0.7537756762335088\n",
            "R-Squared Score (R^2):  0.2631400816777041\n"
          ]
        }
      ]
    },
    {
      "cell_type": "markdown",
      "source": [
        "As we can see these are the results that we get for all 4 evaluation metrics. In this case we have convergence at step 403, since we are using the default tolerance. Let's see how the results will change for different tolerances."
      ],
      "metadata": {
        "id": "gM_xUtzMKxDy"
      }
    },
    {
      "cell_type": "code",
      "source": [
        "tolerances = [0, 1e-1, 1e-2, 1e-3, 1e-4, 1e-5, 1e-6, 1e-7, 1e-8, 1e-9, 1e-10]\n",
        "\n",
        "for tol in tolerances:\n",
        "  print(f\"Linear Regression Evaluation Results for tolerance {tol}:\")\n",
        "  # Initialize the RidgeRegressionGD with current set of hyperparameters\n",
        "  model = RidgeRegressionGD(learning_rate=0.3, n_iterations=1000, reg_lvl=0.001, tolerance=tol)\n",
        "\n",
        "  # Fit the model on training data\n",
        "  model.fit(X_train, y_train)\n",
        "\n",
        "  # Predict on test data\n",
        "  y_pred = model.predict(X_test)\n",
        "\n",
        "  # Evaluate the model using MSE\n",
        "  mse, mae, rse, r2 = model.evaluate(y_test, y_pred)\n",
        "\n",
        "  print(f\"Coefficients: {model.coefficients}:\")\n",
        "  print(\"Mean Squared Error (MSE): \", mse)\n",
        "  print(\"Mean Absolute Error (MAE): \", mae)\n",
        "  print(\"Residual Standard Error (RSE): \", rse)\n",
        "  print(\"R-Squared Score (R^2): \", r2)\n",
        "  print()"
      ],
      "metadata": {
        "colab": {
          "base_uri": "https://localhost:8080/"
        },
        "id": "djyQAXLJLJH6",
        "outputId": "98d7fd34-0c4e-477b-bc53-1cee33606664"
      },
      "execution_count": 191,
      "outputs": [
        {
          "output_type": "stream",
          "name": "stdout",
          "text": [
            "Linear Regression Evaluation Results for tolerance 0:\n",
            "Coefficients: [ 5.85095958e+00  2.46123142e-02 -1.87401658e-01 -5.37056786e-03\n",
            "  3.39603728e-01  5.66019242e-05  8.08059372e-02 -1.22635683e-02\n",
            " -3.48770485e-01  9.66288724e-02  9.35895414e-02  2.98529893e-01]:\n",
            "Mean Squared Error (MSE):  0.5677050014813234\n",
            "Mean Absolute Error (MAE):  0.5862311840832916\n",
            "Residual Standard Error (RSE):  0.7537698603021095\n",
            "R-Squared Score (R^2):  0.26315145246171334\n",
            "\n",
            "Linear Regression Evaluation Results for tolerance 0.1:\n",
            "Convergence at step 52: 0.09831284378833516\n",
            "Coefficients: [ 5.85095958e+00 -1.27948826e-03 -1.91144470e-01 -6.02942532e-03\n",
            "  2.63710901e-01 -2.44258279e-03  8.86132778e-02 -1.40302513e-02\n",
            " -2.26987242e-01  7.27921479e-02  8.70955421e-02  3.48762450e-01]:\n",
            "Mean Squared Error (MSE):  0.5699381775373634\n",
            "Mean Absolute Error (MAE):  0.587298923465002\n",
            "Residual Standard Error (RSE):  0.7552509540488819\n",
            "R-Squared Score (R^2):  0.26025291796052574\n",
            "\n",
            "Linear Regression Evaluation Results for tolerance 0.01:\n",
            "Convergence at step 104: 0.009724192150997624\n",
            "Coefficients: [ 5.85095958e+00  1.25182465e-02 -1.89121742e-01 -6.12024868e-03\n",
            "  3.04282282e-01 -1.67664401e-03  8.34345218e-02 -1.42459462e-02\n",
            " -2.95520722e-01  8.62826612e-02  9.05269024e-02  3.22341891e-01]:\n",
            "Mean Squared Error (MSE):  0.5686415532684432\n",
            "Mean Absolute Error (MAE):  0.5866861432698762\n",
            "Residual Standard Error (RSE):  0.7543913570265515\n",
            "R-Squared Score (R^2):  0.26193586193100993\n",
            "\n",
            "Linear Regression Evaluation Results for tolerance 0.001:\n",
            "Convergence at step 178: 0.0009851098616309173\n",
            "Coefficients: [ 5.85095958e+00  2.07222912e-02 -1.87953893e-01 -5.62750091e-03\n",
            "  3.28247223e-01 -5.21130826e-04  8.16150569e-02 -1.29426377e-02\n",
            " -3.31772779e-01  9.33292176e-02  9.26034063e-02  3.06201412e-01]:\n",
            "Mean Squared Error (MSE):  0.5679916856098586\n",
            "Mean Absolute Error (MAE):  0.5863700842361879\n",
            "Residual Standard Error (RSE):  0.7539601585914024\n",
            "R-Squared Score (R^2):  0.2627793528973935\n",
            "\n",
            "Linear Regression Evaluation Results for tolerance 0.0001:\n",
            "Convergence at step 253: 9.800779980650987e-05\n",
            "Coefficients: [ 5.85095958e+00  2.33854034e-02 -1.87575818e-01 -5.45183166e-03\n",
            "  3.36021959e-01 -1.25905749e-04  8.10606100e-02 -1.24783425e-02\n",
            " -3.43411288e-01  9.55885687e-02  9.32785000e-02  3.00949664e-01]:\n",
            "Mean Squared Error (MSE):  0.567793796100173\n",
            "Mean Absolute Error (MAE):  0.5862735956448332\n",
            "Residual Standard Error (RSE):  0.7538288064892325\n",
            "R-Squared Score (R^2):  0.263036202136707\n",
            "\n",
            "Linear Regression Evaluation Results for tolerance 1e-05:\n",
            "Convergence at step 328: 9.762203490026877e-06\n",
            "Coefficients: [ 5.85095958e+00  2.42254346e-02 -1.87456576e-01 -5.39618974e-03\n",
            "  3.38474294e-01 -9.44186128e-07  8.08862494e-02 -1.23312851e-02\n",
            " -3.47080555e-01  9.63008301e-02  9.34914615e-02  2.99292913e-01]:\n",
            "Mean Squared Error (MSE):  0.567732836787557\n",
            "Mean Absolute Error (MAE):  0.5862437809827505\n",
            "Residual Standard Error (RSE):  0.7537883392283617\n",
            "R-Squared Score (R^2):  0.2631153238299152\n",
            "\n",
            "Linear Regression Evaluation Results for tolerance 1e-06:\n",
            "Convergence at step 403: 9.759419299371075e-07\n",
            "Coefficients: [ 5.85095958e+00  2.44903250e-02 -1.87418974e-01 -5.37864688e-03\n",
            "  3.39247600e-01  3.84566810e-05  8.08312608e-02 -1.22849205e-02\n",
            " -3.48237624e-01  9.65254356e-02  9.35586153e-02  2.98770485e-01]:\n",
            "Mean Squared Error (MSE):  0.5677137621024503\n",
            "Mean Absolute Error (MAE):  0.5862351460636402\n",
            "Residual Standard Error (RSE):  0.7537756762335088\n",
            "R-Squared Score (R^2):  0.2631400816777041\n",
            "\n",
            "Linear Regression Evaluation Results for tolerance 1e-07:\n",
            "Convergence at step 478: 9.868790584732778e-08\n",
            "Coefficients: [ 5.85095958e+00  2.45738550e-02 -1.87407117e-01 -5.37311491e-03\n",
            "  3.39491452e-01  5.08813165e-05  8.08139209e-02 -1.22703000e-02\n",
            " -3.48602491e-01  9.65962621e-02  9.35797914e-02  2.98605744e-01]:\n",
            "Mean Squared Error (MSE):  0.5677077618019516\n",
            "Mean Absolute Error (MAE):  0.5862324331674724\n",
            "Residual Standard Error (RSE):  0.7537716928066317\n",
            "R-Squared Score (R^2):  0.2631478697237768\n",
            "\n",
            "Linear Regression Evaluation Results for tolerance 1e-08:\n",
            "Convergence at step 555: 9.736822903505526e-09\n",
            "Coefficients: [ 5.85095958e+00  2.46005628e-02 -1.87403326e-01 -5.37134613e-03\n",
            "  3.39569422e-01  5.48539629e-05  8.08083767e-02 -1.22656252e-02\n",
            " -3.48719153e-01  9.66189082e-02  9.35865623e-02  2.98553069e-01]:\n",
            "Mean Squared Error (MSE):  0.5677058447533309\n",
            "Mean Absolute Error (MAE):  0.5862315657474311\n",
            "Residual Standard Error (RSE):  0.7537704201287672\n",
            "R-Squared Score (R^2):  0.26315035794298935\n",
            "\n",
            "Linear Regression Evaluation Results for tolerance 1e-09:\n",
            "Convergence at step 635: 9.81799530563876e-10\n",
            "Coefficients: [ 5.85095958e+00  2.46088918e-02 -1.87402144e-01 -5.37079452e-03\n",
            "  3.39593737e-01  5.60928606e-05  8.08066477e-02 -1.22641673e-02\n",
            " -3.48755535e-01  9.66259705e-02  9.35886738e-02  2.98536642e-01]:\n",
            "Mean Squared Error (MSE):  0.5677052470553585\n",
            "Mean Absolute Error (MAE):  0.5862312952363806\n",
            "Residual Standard Error (RSE):  0.7537700233324558\n",
            "R-Squared Score (R^2):  0.26315113372069365\n",
            "\n",
            "Linear Regression Evaluation Results for tolerance 1e-10:\n",
            "Convergence at step 726: 9.958966984413564e-11\n",
            "Coefficients: [ 5.85095958e+00  2.46114800e-02 -1.87401776e-01 -5.37062311e-03\n",
            "  3.39601293e-01  5.64778310e-05  8.08061104e-02 -1.22637143e-02\n",
            " -3.48766841e-01  9.66281650e-02  9.35893299e-02  2.98531538e-01]:\n",
            "Mean Squared Error (MSE):  0.5677050613432153\n",
            "Mean Absolute Error (MAE):  0.5862312111788077\n",
            "Residual Standard Error (RSE):  0.7537699000428978\n",
            "R-Squared Score (R^2):  0.2631513747644093\n",
            "\n"
          ]
        }
      ]
    },
    {
      "cell_type": "markdown",
      "source": [
        "We can see that using all the 1000 iterations gives us the very similar results as for example using the tolerance **0.0001**, which converges on step 253 or the tolerance **0.001**, which converges on step 178. We will choose to use the tolerance 0.001 since it converges fast and gives us pretty similar results to the one we get after going thru all the iterations."
      ],
      "metadata": {
        "id": "gCNF7e5aNDPj"
      }
    },
    {
      "cell_type": "markdown",
      "source": [
        "Now let's go thru the same steps for the SGD ridge regression."
      ],
      "metadata": {
        "id": "CqXA7Ls41Q1X"
      }
    },
    {
      "cell_type": "code",
      "source": [
        "# Define the best score that we want to maximize or minimize\n",
        "best_score_mse, best_score_mae, best_score_rse, best_score_r2  = None, None, None, None\n",
        "best_params_mse, best_params_mae, best_params_rse, best_params_r2  = {}, {}, {}, {}\n",
        "scores_mse, scores_mae, scores_rse, scores_r2  = [], [], [], []\n",
        "\n",
        "for lr in tqdm(learning_rates, desc='Learning Rates'):\n",
        "  for reg in reg_lvls:\n",
        "    # Initialize the RidgeRegressionGD with current set of hyperparameters\n",
        "    model = RidgeRegressionSGD(learning_rate=lr, n_epochs=50, reg_lvl=reg)\n",
        "\n",
        "    # Fit the model on training data\n",
        "    model.fit(X_train, y_train)\n",
        "\n",
        "    # Predict on test data\n",
        "    y_pred = model.predict(X_test)\n",
        "\n",
        "    # Evaluate the model using MSE\n",
        "    mse, mae, rse, r2 = model.evaluate(y_test, y_pred)\n",
        "\n",
        "    scores_mse.append(mse)\n",
        "    scores_mae.append(mae)\n",
        "    scores_rse.append(rse)\n",
        "    scores_r2.append(r2)\n",
        "\n",
        "    # If the score is better, update the best score and parameters\n",
        "    if best_score_mse is None or mse < best_score_mse:\n",
        "        best_score_mse = mse\n",
        "        best_params_mse = {'learning_rate': lr, 'reg_lvl': reg}\n",
        "    if best_score_mae is None or mae < best_score_mae:\n",
        "        best_score_mae = mae\n",
        "        best_params_mae = {'learning_rate': lr, 'reg_lvl': reg}\n",
        "    if best_score_rse is None or rse < best_score_rse:\n",
        "        best_score_rse = rse\n",
        "        best_params_rse = {'learning_rate': lr, 'reg_lvl': reg}\n",
        "    if best_score_r2 is None or r2 > best_score_r2:\n",
        "        best_score_r2 = r2\n",
        "        best_params_r2 = {'learning_rate': lr, 'reg_lvl': reg}\n",
        "\n",
        "\n",
        "# After the grid search\n",
        "print()\n",
        "print(f\"Best Parameters (MSE): {best_params_mse}\")\n",
        "print(f\"Best Score (MSE): {best_score_mse}\")\n",
        "print(f\"Best Parameters (MAE): {best_params_mae}\")\n",
        "print(f\"Best Score (MAE): {best_score_mae}\")\n",
        "print(f\"Best Parameters (RSE): {best_params_rse}\")\n",
        "print(f\"Best Score (RSE): {best_score_rse}\")\n",
        "print(f\"Best Parameters (R2): {best_params_r2}\")\n",
        "print(f\"Best Score (R2): {best_score_r2}\")"
      ],
      "metadata": {
        "colab": {
          "base_uri": "https://localhost:8080/"
        },
        "id": "mV10NzZaOTSG",
        "outputId": "e12efaf3-61e7-45fe-aab9-02b380623fa7"
      },
      "execution_count": 192,
      "outputs": [
        {
          "output_type": "stream",
          "name": "stderr",
          "text": [
            "\rLearning Rates:   0%|          | 0/10 [00:00<?, ?it/s]"
          ]
        },
        {
          "output_type": "stream",
          "name": "stdout",
          "text": [
            "Convergence at epoch 4 and sample 496: 9.479044411344836e-07\n",
            "Convergence at epoch 10 and sample 82: 3.816541128994217e-09\n",
            "Convergence at epoch 3 and sample 91: 2.598840895084824e-07\n",
            "Convergence at epoch 43 and sample 1581: 4.6831971717717016e-07\n"
          ]
        },
        {
          "output_type": "stream",
          "name": "stderr",
          "text": [
            "\rLearning Rates:  10%|█         | 1/10 [00:27<04:04, 27.16s/it]"
          ]
        },
        {
          "output_type": "stream",
          "name": "stdout",
          "text": [
            "Convergence at epoch 15 and sample 2107: 4.5135456268139286e-07\n",
            "Convergence at epoch 14 and sample 392: 2.6102037833236613e-07\n",
            "Convergence at epoch 17 and sample 35: 2.1847793529364325e-07\n",
            "Convergence at epoch 44 and sample 1675: 8.142963465579822e-07\n",
            "Convergence at epoch 28 and sample 1881: 1.2375741044387816e-07\n",
            "Convergence at epoch 9 and sample 1178: 3.575942908451424e-07\n",
            "Convergence at epoch 38 and sample 644: 1.0055007976239594e-07\n",
            "Convergence at epoch 16 and sample 534: 3.565800053562107e-07\n"
          ]
        },
        {
          "output_type": "stream",
          "name": "stderr",
          "text": [
            "\rLearning Rates:  20%|██        | 2/10 [00:46<03:02, 22.78s/it]"
          ]
        },
        {
          "output_type": "stream",
          "name": "stdout",
          "text": [
            "Convergence at epoch 18 and sample 2150: 3.577941385321526e-07\n",
            "Convergence at epoch 4 and sample 1611: 2.1850833464842623e-07\n",
            "Convergence at epoch 11 and sample 938: 5.640170451421606e-08\n",
            "Convergence at epoch 8 and sample 439: 5.343271009659476e-07\n",
            "Convergence at epoch 6 and sample 1909: 9.085396719052397e-07\n",
            "Convergence at epoch 10 and sample 1024: 4.497240148547115e-08\n",
            "Convergence at epoch 15 and sample 2045: 3.385495720989966e-07\n",
            "Convergence at epoch 50 and sample 207: 7.891955315733092e-07\n"
          ]
        },
        {
          "output_type": "stream",
          "name": "stderr",
          "text": [
            "\rLearning Rates:  30%|███       | 3/10 [01:01<02:12, 18.88s/it]"
          ]
        },
        {
          "output_type": "stream",
          "name": "stdout",
          "text": [
            "Convergence at epoch 15 and sample 331: 5.926147233397197e-07\n",
            "Convergence at epoch 13 and sample 1818: 3.7955314464697986e-07\n",
            "Convergence at epoch 27 and sample 380: 6.495482493693022e-07\n",
            "Convergence at epoch 16 and sample 990: 1.2753350129515977e-07\n",
            "Convergence at epoch 13 and sample 288: 7.931781281014118e-07\n",
            "Convergence at epoch 4 and sample 192: 2.4361427470090662e-08\n",
            "Convergence at epoch 7 and sample 1518: 5.713049769603112e-07\n"
          ]
        },
        {
          "output_type": "stream",
          "name": "stderr",
          "text": [
            "\rLearning Rates:  40%|████      | 4/10 [01:18<01:49, 18.33s/it]"
          ]
        },
        {
          "output_type": "stream",
          "name": "stdout",
          "text": [
            "Convergence at epoch 23 and sample 1397: 5.239895564277883e-07\n",
            "Convergence at epoch 1 and sample 180: 1.586055913921857e-07\n",
            "Convergence at epoch 4 and sample 845: 3.9881085227268053e-07\n",
            "Convergence at epoch 8 and sample 1888: 2.9806753251259566e-08\n",
            "Convergence at epoch 2 and sample 2343: 3.3449456782208044e-07\n",
            "Convergence at epoch 15 and sample 70: 3.586566323334259e-07\n",
            "Convergence at epoch 2 and sample 1838: 8.573172077063963e-07\n",
            "Convergence at epoch 1 and sample 1184: 1.2315625915944626e-07\n"
          ]
        },
        {
          "output_type": "stream",
          "name": "stderr",
          "text": [
            "\rLearning Rates:  50%|█████     | 5/10 [01:21<01:03, 12.64s/it]"
          ]
        },
        {
          "output_type": "stream",
          "name": "stdout",
          "text": [
            "Convergence at epoch 8 and sample 394: 1.9142500538661924e-07\n",
            "Convergence at epoch 1 and sample 1915: 3.1737343821839487e-07\n",
            "Convergence at epoch 2 and sample 1398: 9.655129771684082e-07\n",
            "Convergence at epoch 4 and sample 1146: 7.085935605507026e-07\n",
            "Convergence at epoch 4 and sample 1146: 1.4162084940821258e-08\n",
            "Convergence at epoch 2 and sample 748: 4.3654222956463174e-07\n",
            "Convergence at epoch 4 and sample 1332: 3.128066223087898e-07\n",
            "Convergence at epoch 18 and sample 2403: 3.89596538993277e-07\n",
            "Convergence at epoch 5 and sample 287: 5.446731085542378e-07\n",
            "Convergence at epoch 5 and sample 1138: 8.372223393244469e-07\n",
            "Convergence at epoch 1 and sample 1985: 8.190978029003204e-08\n",
            "Convergence at epoch 16 and sample 620: 6.587179301193857e-07\n"
          ]
        },
        {
          "output_type": "stream",
          "name": "stderr",
          "text": [
            "\rLearning Rates:  60%|██████    | 6/10 [01:24<00:38,  9.63s/it]"
          ]
        },
        {
          "output_type": "stream",
          "name": "stdout",
          "text": [
            "Convergence at epoch 4 and sample 1839: 4.067382108421686e-07\n"
          ]
        },
        {
          "output_type": "stream",
          "name": "stderr",
          "text": [
            "<ipython-input-180-40192569a152>:43: RuntimeWarning: overflow encountered in square\n",
            "  curr_cost = np.square(np.subtract(y_random, y_pred)).sum()\n",
            "<ipython-input-180-40192569a152>:45: RuntimeWarning: invalid value encountered in double_scalars\n",
            "  if last_cost != None and abs(last_cost - curr_cost) < self.tolerance:\n",
            "<ipython-input-180-40192569a152>:40: RuntimeWarning: invalid value encountered in subtract\n",
            "  self.coefficients -= self.learning_rate * gradients\n",
            "<ipython-input-180-40192569a152>:39: RuntimeWarning: overflow encountered in multiply\n",
            "  gradients = -2 * X_random.T.dot(residuals) + 2 * self.reg_lvl * np.hstack((0, self.coefficients[1:]))\n",
            "Learning Rates:  80%|████████  | 8/10 [02:32<00:45, 22.57s/it]<ipython-input-180-40192569a152>:39: RuntimeWarning: overflow encountered in add\n",
            "  gradients = -2 * X_random.T.dot(residuals) + 2 * self.reg_lvl * np.hstack((0, self.coefficients[1:]))\n",
            "Learning Rates:  90%|█████████ | 9/10 [03:04<00:25, 25.68s/it]<ipython-input-180-40192569a152>:40: RuntimeWarning: overflow encountered in subtract\n",
            "  self.coefficients -= self.learning_rate * gradients\n",
            "<ipython-input-180-40192569a152>:39: RuntimeWarning: invalid value encountered in add\n",
            "  gradients = -2 * X_random.T.dot(residuals) + 2 * self.reg_lvl * np.hstack((0, self.coefficients[1:]))\n",
            "Learning Rates: 100%|██████████| 10/10 [03:40<00:00, 22.07s/it]"
          ]
        },
        {
          "output_type": "stream",
          "name": "stdout",
          "text": [
            "\n",
            "Best Parameters (MSE): {'learning_rate': 0.001, 'reg_lvl': 0.01}\n",
            "Best Score (MSE): 0.5681685326074587\n",
            "Best Parameters (MAE): {'learning_rate': 0.001, 'reg_lvl': 0.001}\n",
            "Best Score (MAE): 0.5860287828898174\n",
            "Best Parameters (RSE): {'learning_rate': 0.001, 'reg_lvl': 0.01}\n",
            "Best Score (RSE): 0.7540775240535014\n",
            "Best Parameters (R2): {'learning_rate': 0.001, 'reg_lvl': 0.01}\n",
            "Best Score (R2): 0.26254981563247937\n"
          ]
        },
        {
          "output_type": "stream",
          "name": "stderr",
          "text": [
            "\n"
          ]
        }
      ]
    },
    {
      "cell_type": "code",
      "source": [
        "# Reshape scores to a matrix form\n",
        "scores_mse_matrix = np.array(scores_mse).reshape(len(learning_rates), len(reg_lvls))\n",
        "scores_mae_matrix = np.array(scores_mae).reshape(len(learning_rates), len(reg_lvls))\n",
        "scores_rse_matrix = np.array(scores_rse).reshape(len(learning_rates), len(reg_lvls))\n",
        "scores_r2_matrix = np.array(scores_r2).reshape(len(learning_rates), len(reg_lvls))\n",
        "\n",
        "scores_matrices = [scores_mse_matrix, scores_mae_matrix, scores_rse_matrix, scores_r2_matrix]\n",
        "score_titles = ['MSE', 'MAE', 'RSE', 'R2']\n",
        "# Plotting\n",
        "fig, axes = plt.subplots(2, 2, figsize=(12, 12))\n",
        "fig.suptitle('Grid SGD Search Scores', fontsize=16)\n",
        "\n",
        "# Iterate over your axes and set the properties\n",
        "for i, ax in enumerate(axes.flatten()):\n",
        "    vmin = np.percentile(scores_matrices[i], 5)\n",
        "    vmax = np.percentile(scores_matrices[i], 95)\n",
        "    sns.heatmap(scores_matrices[i], ax=ax, annot=False, cmap='viridis', vmin=vmin, vmax=vmax, yticklabels=learning_rates)\n",
        "    ax.set_title(score_titles[i])\n",
        "    ax.set_xlabel('Regularization Level')\n",
        "    ax.set_ylabel('Learning Rate')\n",
        "    ax.set_xticklabels(reg_lvls, rotation=45, ha='right')\n",
        "\n",
        "plt.tight_layout()\n",
        "plt.show()"
      ],
      "metadata": {
        "colab": {
          "base_uri": "https://localhost:8080/",
          "height": 1000
        },
        "id": "ILL4F60a68NY",
        "outputId": "821e900d-7cbf-48f9-d395-c5a20fc32971"
      },
      "execution_count": 199,
      "outputs": [
        {
          "output_type": "display_data",
          "data": {
            "text/plain": [
              "<Figure size 1200x1200 with 8 Axes>"
            ],
            "image/png": "[encoded data removed]"
          },
          "metadata": {}
        }
      ]
    },
    {
      "cell_type": "markdown",
      "source": [
        "Also here we can see that the MSE, MAE and RSE have similar values, while the R2 seem to have also some worse values and again pretty bad for learning rate 0.03 forward. We can also see that the SGD has more unresolved scores for learning rates bigger that 0.1. Anyway, te best results seem to be for **learning rate** 0.001 and **regularization level** 0.01. Now let's train a model for these values and see what coefficients and scores we get."
      ],
      "metadata": {
        "id": "DJ7CASj2agUU"
      }
    },
    {
      "cell_type": "code",
      "source": [
        "regression_sgd = RidgeRegressionSGD(learning_rate=0.001, n_epochs=50, reg_lvl=0.01)\n",
        "regression_sgd.fit(X_train, y_train)"
      ],
      "metadata": {
        "colab": {
          "base_uri": "https://localhost:8080/"
        },
        "id": "9UHBTFuD1O1A",
        "outputId": "c40907ec-1c45-4a31-d5b0-08b2e1ace6f7"
      },
      "execution_count": 201,
      "outputs": [
        {
          "output_type": "stream",
          "name": "stdout",
          "text": [
            "Convergence at epoch 4 and sample 496: 9.479044411344836e-07\n"
          ]
        }
      ]
    },
    {
      "cell_type": "code",
      "source": [
        "y_pred_sgd = regression_sgd.predict(X_test)\n",
        "y_pred_sgd"
      ],
      "metadata": {
        "colab": {
          "base_uri": "https://localhost:8080/"
        },
        "id": "T_tDKM341deQ",
        "outputId": "31bf3354-4fac-400f-e3d5-f23e618c9467"
      },
      "execution_count": 202,
      "outputs": [
        {
          "output_type": "execute_result",
          "data": {
            "text/plain": [
              "array([6.33841393, 6.38711315, 6.36707093, ..., 6.63563389, 6.14074414,\n",
              "       6.63928008])"
            ]
          },
          "metadata": {},
          "execution_count": 202
        }
      ]
    },
    {
      "cell_type": "code",
      "source": [
        "y_test"
      ],
      "metadata": {
        "colab": {
          "base_uri": "https://localhost:8080/"
        },
        "id": "oC-elnsc5D_g",
        "outputId": "86559228-4fce-4973-c9ec-0adca062eaec"
      },
      "execution_count": 203,
      "outputs": [
        {
          "output_type": "execute_result",
          "data": {
            "text/plain": [
              "array([7, 8, 8, ..., 7, 6, 7])"
            ]
          },
          "metadata": {},
          "execution_count": 203
        }
      ]
    },
    {
      "cell_type": "code",
      "source": [
        "mse_sgd, mae_sgd, rse_sgd, r2_sgd = regression_sgd.evaluate(y_test, y_pred_sgd)\n",
        "print(\"Linear Regression Evaluation Results:\")\n",
        "print(\"Mean Squared Error (MSE): \", mse_sgd)\n",
        "print(\"Mean Absolute Error (MAE): \", mae_sgd)\n",
        "print(\"Residual Standard Error (RSE): \", rse_sgd)\n",
        "print(\"R-Squared Score (R^2): \", r2_sgd)"
      ],
      "metadata": {
        "colab": {
          "base_uri": "https://localhost:8080/"
        },
        "id": "-B5hsxhY5Bfx",
        "outputId": "d3c18e9b-22f7-492d-af22-57f882be0384"
      },
      "execution_count": 204,
      "outputs": [
        {
          "output_type": "stream",
          "name": "stdout",
          "text": [
            "Linear Regression Evaluation Results:\n",
            "Mean Squared Error (MSE):  0.5681685326074587\n",
            "Mean Absolute Error (MAE):  0.588295014326149\n",
            "Residual Standard Error (RSE):  0.7540775240535014\n",
            "R-Squared Score (R^2):  0.26254981563247937\n"
          ]
        }
      ]
    },
    {
      "cell_type": "markdown",
      "source": [
        "As we can see these are the results that we get for all 4 evaluation metrics. In this case we have convergence at epoch 1 step 1276, since we are using the default tolerance. Let's see how the results will change for different tolerances."
      ],
      "metadata": {
        "id": "lhfNpDUsawTB"
      }
    },
    {
      "cell_type": "code",
      "source": [
        "tolerances = [0, 1e-1, 1e-2, 1e-3, 1e-4, 1e-5, 1e-6, 1e-7, 1e-8, 1e-9, 1e-10]\n",
        "\n",
        "for tol in tolerances:\n",
        "  print(f\"Linear Regression Evaluation Results for tolerance {tol}:\")\n",
        "\n",
        "  # Initialize the RidgeRegressionGD with current set of hyperparameters\n",
        "  model = RidgeRegressionSGD(learning_rate=0.001, n_epochs=50, reg_lvl=0.01, tolerance=tol)\n",
        "\n",
        "  # Fit the model on training data\n",
        "  model.fit(X_train, y_train)\n",
        "\n",
        "  # Predict on test data\n",
        "  y_pred = model.predict(X_test)\n",
        "\n",
        "  # Evaluate the model using MSE\n",
        "  mse, mae, rse, r2 = model.evaluate(y_test, y_pred)\n",
        "\n",
        "  print(f\"Coefficients: {model.coefficients}:\")\n",
        "  print(\"Mean Squared Error (MSE): \", mse)\n",
        "  print(\"Mean Absolute Error (MAE): \", mae)\n",
        "  print(\"Residual Standard Error (RSE): \", rse)\n",
        "  print(\"R-Squared Score (R^2): \", r2)\n",
        "  print()"
      ],
      "metadata": {
        "colab": {
          "base_uri": "https://localhost:8080/"
        },
        "id": "EXdb7jgga3Dx",
        "outputId": "b4d6a4d3-7e5b-464c-c987-a3da1ae70625"
      },
      "execution_count": 205,
      "outputs": [
        {
          "output_type": "stream",
          "name": "stdout",
          "text": [
            "Linear Regression Evaluation Results for tolerance 0:\n",
            "Coefficients: [ 5.84762677e+00  3.13897293e-02 -2.25118725e-01  7.55160047e-03\n",
            "  2.94863903e-01 -3.31877492e-03  1.14623218e-01  5.04046073e-03\n",
            " -2.59283640e-01  6.73075913e-02  6.45111295e-02  3.25701753e-01]:\n",
            "Mean Squared Error (MSE):  0.5712013225387643\n",
            "Mean Absolute Error (MAE):  0.586538926124286\n",
            "Residual Standard Error (RSE):  0.7560874162397432\n",
            "R-Squared Score (R^2):  0.2586134281600416\n",
            "\n",
            "Linear Regression Evaluation Results for tolerance 0.1:\n",
            "Convergence at epoch 1 and sample 906: 0.08670984693493988\n",
            "Coefficients: [ 2.63857053 -0.13716325  0.02621416 -0.09951901  0.00776365 -0.10334285\n",
            " -0.09277123 -0.09382105 -0.09242406  0.15282338  0.02957446  0.13826427]:\n",
            "Mean Squared Error (MSE):  11.509444632597567\n",
            "Mean Absolute Error (MAE):  3.27771545438921\n",
            "Residual Standard Error (RSE):  3.3939433725917403\n",
            "R-Squared Score (R^2):  -13.938599340102606\n",
            "\n",
            "Linear Regression Evaluation Results for tolerance 0.01:\n",
            "Convergence at epoch 1 and sample 2073: 0.00012619108061051598\n",
            "Coefficients: [ 4.69182712 -0.12478954 -0.12490537  0.03806138  0.04271456 -0.00824269\n",
            "  0.0778166  -0.00823841 -0.13751219  0.188749    0.12057707  0.27006205]:\n",
            "Mean Squared Error (MSE):  2.1231473539558703\n",
            "Mean Absolute Error (MAE):  1.2601151510288022\n",
            "Residual Standard Error (RSE):  1.4576977259823989\n",
            "R-Squared Score (R^2):  -1.7557235534124622\n",
            "\n",
            "Linear Regression Evaluation Results for tolerance 0.001:\n",
            "Convergence at epoch 1 and sample 2073: 0.00012619108061051598\n",
            "Coefficients: [ 4.69182712 -0.12478954 -0.12490537  0.03806138  0.04271456 -0.00824269\n",
            "  0.0778166  -0.00823841 -0.13751219  0.188749    0.12057707  0.27006205]:\n",
            "Mean Squared Error (MSE):  2.1231473539558703\n",
            "Mean Absolute Error (MAE):  1.2601151510288022\n",
            "Residual Standard Error (RSE):  1.4576977259823989\n",
            "R-Squared Score (R^2):  -1.7557235534124622\n",
            "\n",
            "Linear Regression Evaluation Results for tolerance 0.0001:\n",
            "Convergence at epoch 1 and sample 2027: 2.4953749114764445e-05\n",
            "Coefficients: [ 5.34414920e+00 -8.26696859e-02 -1.54888040e-01  2.31843227e-03\n",
            "  1.22020796e-01 -3.41275861e-02  9.23608495e-02  3.36276468e-02\n",
            " -1.03574948e-01  7.80797486e-02  9.29733810e-02  2.67276877e-01]:\n",
            "Mean Squared Error (MSE):  0.9101819667912635\n",
            "Mean Absolute Error (MAE):  0.7451846095491297\n",
            "Residual Standard Error (RSE):  0.9544243728010787\n",
            "R-Squared Score (R^2):  -0.18136401559912518\n",
            "\n",
            "Linear Regression Evaluation Results for tolerance 1e-05:\n",
            "Convergence at epoch 3 and sample 1859: 3.888749986159644e-06\n",
            "Coefficients: [ 5.85828654 -0.00948074 -0.1869045  -0.03347481  0.23190674  0.0108567\n",
            "  0.07571892 -0.02182434 -0.13737501  0.04380942  0.08803176  0.35748716]:\n",
            "Mean Squared Error (MSE):  0.5725531662101526\n",
            "Mean Absolute Error (MAE):  0.58974563085507\n",
            "Residual Standard Error (RSE):  0.7569815912994651\n",
            "R-Squared Score (R^2):  0.25685881257067367\n",
            "\n",
            "Linear Regression Evaluation Results for tolerance 1e-06:\n",
            "Convergence at epoch 4 and sample 496: 9.479044411344836e-07\n",
            "Coefficients: [ 5.85925806e+00 -2.09163659e-02 -1.86581167e-01  6.23470042e-03\n",
            "  2.47185039e-01  1.27815494e-02  6.81286660e-02 -5.62673628e-03\n",
            " -1.62015582e-01  5.16269107e-02  6.28776169e-02  3.75948520e-01]:\n",
            "Mean Squared Error (MSE):  0.5681685326074587\n",
            "Mean Absolute Error (MAE):  0.588295014326149\n",
            "Residual Standard Error (RSE):  0.7540775240535014\n",
            "R-Squared Score (R^2):  0.26254981563247937\n",
            "\n",
            "Linear Regression Evaluation Results for tolerance 1e-07:\n",
            "Coefficients: [ 5.84762677e+00  3.13897293e-02 -2.25118725e-01  7.55160047e-03\n",
            "  2.94863903e-01 -3.31877492e-03  1.14623218e-01  5.04046073e-03\n",
            " -2.59283640e-01  6.73075913e-02  6.45111295e-02  3.25701753e-01]:\n",
            "Mean Squared Error (MSE):  0.5712013225387643\n",
            "Mean Absolute Error (MAE):  0.586538926124286\n",
            "Residual Standard Error (RSE):  0.7560874162397432\n",
            "R-Squared Score (R^2):  0.2586134281600416\n",
            "\n",
            "Linear Regression Evaluation Results for tolerance 1e-08:\n",
            "Coefficients: [ 5.84762677e+00  3.13897293e-02 -2.25118725e-01  7.55160047e-03\n",
            "  2.94863903e-01 -3.31877492e-03  1.14623218e-01  5.04046073e-03\n",
            " -2.59283640e-01  6.73075913e-02  6.45111295e-02  3.25701753e-01]:\n",
            "Mean Squared Error (MSE):  0.5712013225387643\n",
            "Mean Absolute Error (MAE):  0.586538926124286\n",
            "Residual Standard Error (RSE):  0.7560874162397432\n",
            "R-Squared Score (R^2):  0.2586134281600416\n",
            "\n",
            "Linear Regression Evaluation Results for tolerance 1e-09:\n",
            "Coefficients: [ 5.84762677e+00  3.13897293e-02 -2.25118725e-01  7.55160047e-03\n",
            "  2.94863903e-01 -3.31877492e-03  1.14623218e-01  5.04046073e-03\n",
            " -2.59283640e-01  6.73075913e-02  6.45111295e-02  3.25701753e-01]:\n",
            "Mean Squared Error (MSE):  0.5712013225387643\n",
            "Mean Absolute Error (MAE):  0.586538926124286\n",
            "Residual Standard Error (RSE):  0.7560874162397432\n",
            "R-Squared Score (R^2):  0.2586134281600416\n",
            "\n",
            "Linear Regression Evaluation Results for tolerance 1e-10:\n",
            "Coefficients: [ 5.84762677e+00  3.13897293e-02 -2.25118725e-01  7.55160047e-03\n",
            "  2.94863903e-01 -3.31877492e-03  1.14623218e-01  5.04046073e-03\n",
            " -2.59283640e-01  6.73075913e-02  6.45111295e-02  3.25701753e-01]:\n",
            "Mean Squared Error (MSE):  0.5712013225387643\n",
            "Mean Absolute Error (MAE):  0.586538926124286\n",
            "Residual Standard Error (RSE):  0.7560874162397432\n",
            "R-Squared Score (R^2):  0.2586134281600416\n",
            "\n"
          ]
        }
      ]
    },
    {
      "cell_type": "markdown",
      "source": [
        "In this case we see that goind thru all epochs don't give us the best result. In most of the cases there is no convergence. The best result seem to be, when using tolerance of **1e-06** and is with convergence at epoch 4, sample 496. There is one pretty close result for the tolerance **1e-05** and with convergence at epoch 3, sample 1859, but let's use the first one."
      ],
      "metadata": {
        "id": "SY9dN_SJbGsy"
      }
    },
    {
      "cell_type": "markdown",
      "source": [
        "Let's compare the scores from these two implementation with the one from the Scikit-Learn library using the best hyperparams that we found."
      ],
      "metadata": {
        "id": "gwTkgKfBpUSX"
      }
    },
    {
      "cell_type": "code",
      "source": [
        "ridge_gd = RidgeRegressionGD(learning_rate=0.3, n_iterations=1000, reg_lvl=0.001, tolerance=0.001)\n",
        "ridge_gd.fit(X_train, y_train)"
      ],
      "metadata": {
        "colab": {
          "base_uri": "https://localhost:8080/"
        },
        "id": "zQVcOI0ajKhZ",
        "outputId": "19f48820-2117-49e4-844c-07fb8ce612c2"
      },
      "execution_count": 206,
      "outputs": [
        {
          "output_type": "stream",
          "name": "stdout",
          "text": [
            "Convergence at step 178: 0.0009851098616309173\n"
          ]
        }
      ]
    },
    {
      "cell_type": "code",
      "source": [
        "y_pred_gd = ridge_gd.predict(X_test)\n",
        "y_pred_gd"
      ],
      "metadata": {
        "colab": {
          "base_uri": "https://localhost:8080/"
        },
        "id": "v1KOcWdujbmR",
        "outputId": "26432652-c35e-472c-8b10-5429956565aa"
      },
      "execution_count": 207,
      "outputs": [
        {
          "output_type": "execute_result",
          "data": {
            "text/plain": [
              "array([6.35448583, 6.43367963, 6.3950709 , ..., 6.70327743, 6.15176598,\n",
              "       6.72745488])"
            ]
          },
          "metadata": {},
          "execution_count": 207
        }
      ]
    },
    {
      "cell_type": "code",
      "source": [
        "mse_gd, mae_gd, rse_gd, r2_gd = ridge_gd.evaluate(y_test, y_pred_gd)"
      ],
      "metadata": {
        "id": "s8ep2I-tjo3j"
      },
      "execution_count": 208,
      "outputs": []
    },
    {
      "cell_type": "code",
      "source": [
        "ridge_sgd = RidgeRegressionSGD(learning_rate=0.001, n_epochs=50, reg_lvl=0.01, tolerance=1e-06)\n",
        "ridge_sgd.fit(X_train, y_train)"
      ],
      "metadata": {
        "colab": {
          "base_uri": "https://localhost:8080/"
        },
        "id": "CDqAGJ9akdFa",
        "outputId": "360700f0-7040-40f3-8a44-6213b63f2092"
      },
      "execution_count": 210,
      "outputs": [
        {
          "output_type": "stream",
          "name": "stdout",
          "text": [
            "Convergence at epoch 4 and sample 496: 9.479044411344836e-07\n"
          ]
        }
      ]
    },
    {
      "cell_type": "code",
      "source": [
        "y_pred_sgd = ridge_sgd.predict(X_test)\n",
        "y_pred_sgd"
      ],
      "metadata": {
        "colab": {
          "base_uri": "https://localhost:8080/"
        },
        "id": "3gH7QyLHlsVi",
        "outputId": "089a1c90-627c-4d66-c7a3-521d3212c47d"
      },
      "execution_count": 211,
      "outputs": [
        {
          "output_type": "execute_result",
          "data": {
            "text/plain": [
              "array([6.33841393, 6.38711315, 6.36707093, ..., 6.63563389, 6.14074414,\n",
              "       6.63928008])"
            ]
          },
          "metadata": {},
          "execution_count": 211
        }
      ]
    },
    {
      "cell_type": "code",
      "source": [
        "mse_sgd, mae_sgd, rse_sgd, r2_sgd = ridge_sgd.evaluate(y_test, y_pred_sgd)"
      ],
      "metadata": {
        "id": "SI0PWqkElt3C"
      },
      "execution_count": 212,
      "outputs": []
    },
    {
      "cell_type": "markdown",
      "source": [
        "Find also the best values for the Scikit ridge function and the wine dataset"
      ],
      "metadata": {
        "id": "px3QLTh1Dn_L"
      }
    },
    {
      "cell_type": "code",
      "source": [
        "# Define the best score that we want to maximize or minimize\n",
        "best_score_mse, best_score_mae, best_score_rse, best_score_r2  = None, None, None, None\n",
        "best_param_mse, best_param_mae, best_param_rse, best_param_r2  = {}, {}, {}, {}\n",
        "\n",
        "for reg in tqdm(reg_lvls, desc='Regularization levels'):\n",
        "  # Initialize the RidgeRegressionGD with current set of hyperparameters\n",
        "  model = Ridge(alpha=reg, max_iter=1000)\n",
        "\n",
        "  # Fit the model on training data\n",
        "  model.fit(X_train, y_train)\n",
        "\n",
        "  # Predict on test data\n",
        "  y_pred = model.predict(X_test)\n",
        "\n",
        "  # Calculate the MSE\n",
        "  mse = np.square(np.subtract(y_test, y_pred)).mean()\n",
        "  # Calculate the MAE\n",
        "  mae = np.abs(np.subtract(y_test, y_pred)).mean()\n",
        "  # Calculate the RSE\n",
        "  rse = np.sqrt(mse)\n",
        "  # Calculate the R^2\n",
        "  rss = np.square(np.subtract(y_test, y_pred)).sum()\n",
        "  tss = np.square(np.subtract(y_test, y_test.mean())).sum()\n",
        "  r2 = 1 - np.divide(rss, tss)\n",
        "\n",
        "  # If the score is better, update the best score and parameters\n",
        "  if best_score_mse is None or mse < best_score_mse:\n",
        "      best_score_mse = mse\n",
        "      best_params_mse = {'reg_lvl': reg}\n",
        "  if best_score_mae is None or mae < best_score_mae:\n",
        "      best_score_mae = mae\n",
        "      best_params_mae = {'reg_lvl': reg}\n",
        "  if best_score_rse is None or rse < best_score_rse:\n",
        "      best_score_rse = rse\n",
        "      best_params_rse = {'reg_lvl': reg}\n",
        "  if best_score_r2 is None or r2 > best_score_r2:\n",
        "      best_score_r2 = r2\n",
        "      best_params_r2 = {'reg_lvl': reg}\n",
        "\n",
        "\n",
        "# After the grid search\n",
        "print()\n",
        "print(f\"Best Parameters (MSE): {best_params_mse}\")\n",
        "print(f\"Best Score (MSE): {best_score_mse}\")\n",
        "print(f\"Best Parameters (MAE): {best_params_mae}\")\n",
        "print(f\"Best Score (MAE): {best_score_mae}\")\n",
        "print(f\"Best Parameters (RSE): {best_params_rse}\")\n",
        "print(f\"Best Score (RSE): {best_score_rse}\")\n",
        "print(f\"Best Parameters (R2): {best_params_r2}\")\n",
        "print(f\"Best Score (R2): {best_score_r2}\")"
      ],
      "metadata": {
        "colab": {
          "base_uri": "https://localhost:8080/"
        },
        "id": "xapzpMHklyhq",
        "outputId": "143f74d3-819d-441a-b130-45dbce06539b"
      },
      "execution_count": 213,
      "outputs": [
        {
          "output_type": "stream",
          "name": "stderr",
          "text": [
            "Regularization levels: 100%|██████████| 10/10 [00:00<00:00, 149.98it/s]"
          ]
        },
        {
          "output_type": "stream",
          "name": "stdout",
          "text": [
            "\n",
            "Best Parameters (MSE): {'reg_lvl': 0.001}\n",
            "Best Score (MSE): 0.5710850162060709\n",
            "Best Parameters (MAE): {'reg_lvl': 0.001}\n",
            "Best Score (MAE): 0.5878719167806858\n",
            "Best Parameters (RSE): {'reg_lvl': 0.001}\n",
            "Best Score (RSE): 0.7557016714326301\n",
            "Best Parameters (R2): {'reg_lvl': 0.001}\n",
            "Best Score (R2): 0.25876438711247474\n"
          ]
        },
        {
          "output_type": "stream",
          "name": "stderr",
          "text": [
            "\n"
          ]
        }
      ]
    },
    {
      "cell_type": "code",
      "source": [
        "ridge = Ridge(alpha=0.001, max_iter=1000)\n",
        "ridge.fit(X_train, y_train)"
      ],
      "metadata": {
        "colab": {
          "base_uri": "https://localhost:8080/",
          "height": 75
        },
        "id": "Y_shODa8l-Oy",
        "outputId": "d541c771-a4e4-49ca-ef42-04b57c3e06c6"
      },
      "execution_count": 214,
      "outputs": [
        {
          "output_type": "execute_result",
          "data": {
            "text/plain": [
              "Ridge(alpha=0.001, max_iter=1000)"
            ],
            "text/html": [
              "<style>#sk-container-id-7 {color: black;background-color: white;}#sk-container-id-7 pre{padding: 0;}#sk-container-id-7 div.sk-toggleable {background-color: white;}#sk-container-id-7 label.sk-toggleable__label {cursor: pointer;display: block;width: 100%;margin-bottom: 0;padding: 0.3em;box-sizing: border-box;text-align: center;}#sk-container-id-7 label.sk-toggleable__label-arrow:before {content: \"▸\";float: left;margin-right: 0.25em;color: #696969;}#sk-container-id-7 label.sk-toggleable__label-arrow:hover:before {color: black;}#sk-container-id-7 div.sk-estimator:hover label.sk-toggleable__label-arrow:before {color: black;}#sk-container-id-7 div.sk-toggleable__content {max-height: 0;max-width: 0;overflow: hidden;text-align: left;background-color: #f0f8ff;}#sk-container-id-7 div.sk-toggleable__content pre {margin: 0.2em;color: black;border-radius: 0.25em;background-color: #f0f8ff;}#sk-container-id-7 input.sk-toggleable__control:checked~div.sk-toggleable__content {max-height: 200px;max-width: 100%;overflow: auto;}#sk-container-id-7 input.sk-toggleable__control:checked~label.sk-toggleable__label-arrow:before {content: \"▾\";}#sk-container-id-7 div.sk-estimator input.sk-toggleable__control:checked~label.sk-toggleable__label {background-color: #d4ebff;}#sk-container-id-7 div.sk-label input.sk-toggleable__control:checked~label.sk-toggleable__label {background-color: #d4ebff;}#sk-container-id-7 input.sk-hidden--visually {border: 0;clip: rect(1px 1px 1px 1px);clip: rect(1px, 1px, 1px, 1px);height: 1px;margin: -1px;overflow: hidden;padding: 0;position: absolute;width: 1px;}#sk-container-id-7 div.sk-estimator {font-family: monospace;background-color: #f0f8ff;border: 1px dotted black;border-radius: 0.25em;box-sizing: border-box;margin-bottom: 0.5em;}#sk-container-id-7 div.sk-estimator:hover {background-color: #d4ebff;}#sk-container-id-7 div.sk-parallel-item::after {content: \"\";width: 100%;border-bottom: 1px solid gray;flex-grow: 1;}#sk-container-id-7 div.sk-label:hover label.sk-toggleable__label {background-color: #d4ebff;}#sk-container-id-7 div.sk-serial::before {content: \"\";position: absolute;border-left: 1px solid gray;box-sizing: border-box;top: 0;bottom: 0;left: 50%;z-index: 0;}#sk-container-id-7 div.sk-serial {display: flex;flex-direction: column;align-items: center;background-color: white;padding-right: 0.2em;padding-left: 0.2em;position: relative;}#sk-container-id-7 div.sk-item {position: relative;z-index: 1;}#sk-container-id-7 div.sk-parallel {display: flex;align-items: stretch;justify-content: center;background-color: white;position: relative;}#sk-container-id-7 div.sk-item::before, #sk-container-id-7 div.sk-parallel-item::before {content: \"\";position: absolute;border-left: 1px solid gray;box-sizing: border-box;top: 0;bottom: 0;left: 50%;z-index: -1;}#sk-container-id-7 div.sk-parallel-item {display: flex;flex-direction: column;z-index: 1;position: relative;background-color: white;}#sk-container-id-7 div.sk-parallel-item:first-child::after {align-self: flex-end;width: 50%;}#sk-container-id-7 div.sk-parallel-item:last-child::after {align-self: flex-start;width: 50%;}#sk-container-id-7 div.sk-parallel-item:only-child::after {width: 0;}#sk-container-id-7 div.sk-dashed-wrapped {border: 1px dashed gray;margin: 0 0.4em 0.5em 0.4em;box-sizing: border-box;padding-bottom: 0.4em;background-color: white;}#sk-container-id-7 div.sk-label label {font-family: monospace;font-weight: bold;display: inline-block;line-height: 1.2em;}#sk-container-id-7 div.sk-label-container {text-align: center;}#sk-container-id-7 div.sk-container {/* jupyter's `normalize.less` sets `[hidden] { display: none; }` but bootstrap.min.css set `[hidden] { display: none !important; }` so we also need the `!important` here to be able to override the default hidden behavior on the sphinx rendered scikit-learn.org. See: https://github.com/scikit-learn/scikit-learn/issues/21755 */display: inline-block !important;position: relative;}#sk-container-id-7 div.sk-text-repr-fallback {display: none;}</style><div id=\"sk-container-id-7\" class=\"sk-top-container\"><div class=\"sk-text-repr-fallback\"><pre>Ridge(alpha=0.001, max_iter=1000)</pre><b>In a Jupyter environment, please rerun this cell to show the HTML representation or trust the notebook. <br />On GitHub, the HTML representation is unable to render, please try loading this page with nbviewer.org.</b></div><div class=\"sk-container\" hidden><div class=\"sk-item\"><div class=\"sk-estimator sk-toggleable\"><input class=\"sk-toggleable__control sk-hidden--visually\" id=\"sk-estimator-id-7\" type=\"checkbox\" checked><label for=\"sk-estimator-id-7\" class=\"sk-toggleable__label sk-toggleable__label-arrow\">Ridge</label><div class=\"sk-toggleable__content\"><pre>Ridge(alpha=0.001, max_iter=1000)</pre></div></div></div></div></div>"
            ]
          },
          "metadata": {},
          "execution_count": 214
        }
      ]
    },
    {
      "cell_type": "code",
      "source": [
        "y_pred = ridge.predict(X_test)\n",
        "y_pred"
      ],
      "metadata": {
        "colab": {
          "base_uri": "https://localhost:8080/"
        },
        "id": "xwrAsVc5mHj5",
        "outputId": "28745cd8-868e-4ddc-e5a4-aced85c93947"
      },
      "execution_count": 215,
      "outputs": [
        {
          "output_type": "execute_result",
          "data": {
            "text/plain": [
              "array([6.32491353, 6.42699814, 6.39022147, ..., 6.67207703, 6.16448858,\n",
              "       6.72580563])"
            ]
          },
          "metadata": {},
          "execution_count": 215
        }
      ]
    },
    {
      "cell_type": "code",
      "source": [
        "# Calculate the MSE\n",
        "mse = np.square(np.subtract(y_test, y_pred)).mean()\n",
        "# Calculate the MAE\n",
        "mae = np.abs(np.subtract(y_test, y_pred)).mean()\n",
        "# Calculate the RSE\n",
        "rse = np.sqrt(mse)\n",
        "# Calculate the R^2\n",
        "rss = np.square(np.subtract(y_test, y_pred)).sum()\n",
        "tss = np.square(np.subtract(y_test, y_test.mean())).sum()\n",
        "r2 = 1 - np.divide(rss, tss)"
      ],
      "metadata": {
        "id": "JZYEDxLjmPYr"
      },
      "execution_count": 216,
      "outputs": []
    },
    {
      "cell_type": "code",
      "source": [
        "# Metrics\n",
        "metrics = ['MSE', 'MAE', 'RSE', 'R2 Score']\n",
        "\n",
        "# Values\n",
        "gd_scores = [mse_gd, mae_gd, rse_gd, r2_gd]\n",
        "sgd_scores = [mse_sgd, mae_sgd, rse_sgd, r2_sgd]\n",
        "scores = [mse, mae, rse, r2]\n",
        "\n",
        "# Set position of bar on X axis\n",
        "bar_width = 0.2\n",
        "r1 = np.arange(len(metrics))\n",
        "r2 = [x + bar_width for x in r1]\n",
        "r3 = [x + bar_width for x in r2]\n",
        "\n",
        "# Plot the figure\n",
        "plt.figure(figsize=(12, 6))\n",
        "\n",
        "# Draw the plot\n",
        "plt.bar(r1, gd_scores, color='#003f5c', width=bar_width, edgecolor='grey', label='Ridge GD')\n",
        "plt.bar(r2, sgd_scores, color='#bc5090', width=bar_width, edgecolor='grey', label='Ridge SGD')\n",
        "plt.bar(r3, scores, color='#ffa600', width=bar_width, edgecolor='grey', label='Ridge Scikit')\n",
        "\n",
        "# Add xticks on the middle of the group bars\n",
        "plt.xlabel('Metrics', fontweight='bold', fontsize=14)\n",
        "plt.xticks([r + bar_width for r in range(len(metrics))], metrics, fontsize=12)\n",
        "\n",
        "# Adding the scores on top of the bars\n",
        "for i in range(len(gd_scores)):\n",
        "    plt.text(r1[i], gd_scores[i] + 0.01, f'{gd_scores[i]:.3f}', ha='center', va='center', fontsize=8, fontweight='bold')\n",
        "    plt.text(r2[i], sgd_scores[i] + 0.01, f'{sgd_scores[i]:.3f}', ha='center', va='center', fontsize=8, fontweight='bold')\n",
        "    plt.text(r3[i], scores[i] + 0.01, f'{scores[i]:.3f}', ha='center', va='center', fontsize=8, fontweight='bold')\n",
        "\n",
        "# Adjust the y-axis limit\n",
        "plt.ylim(0, 1)\n",
        "\n",
        "# Add title and legend\n",
        "plt.title('Comparison of Ridge Regression Metrics', fontweight='bold', fontsize=16)\n",
        "plt.legend(fontsize=12)\n",
        "\n",
        "# Show the plot\n",
        "plt.tight_layout()\n",
        "plt.show()"
      ],
      "metadata": {
        "colab": {
          "base_uri": "https://localhost:8080/",
          "height": 607
        },
        "id": "NARkoqCZmVez",
        "outputId": "b77ce372-7775-4df0-8f08-39c3a1d7a736"
      },
      "execution_count": 217,
      "outputs": [
        {
          "output_type": "display_data",
          "data": {
            "text/plain": [
              "<Figure size 1200x600 with 1 Axes>"
            ],
            "image/png": "[encoded data removed]"
          },
          "metadata": {}
        }
      ]
    },
    {
      "cell_type": "markdown",
      "source": [
        "As we can see our implementations of Ridge GD and Ridge SGD seem to give better scores than the Ridge function from the Scikit library. They both seem to also have similar scores."
      ],
      "metadata": {
        "id": "grsd2TWjngka"
      }
    },
    {
      "cell_type": "markdown",
      "source": [
        "Let's also examine the coeffiients that were calculated with these 3 models."
      ],
      "metadata": {
        "id": "Q0psopMVnwy0"
      }
    },
    {
      "cell_type": "code",
      "source": [
        "# Extract coefficients\n",
        "coefficients_model1 = ridge_gd.coefficients[1:]\n",
        "coefficients_model2 = ridge_sgd.coefficients[1:]\n",
        "coefficients_model3 = ridge.coef_\n",
        "\n",
        "# Create a list of feature names\n",
        "feature_names = wine_quality_white.iloc[:, :-1].columns\n",
        "\n",
        "df_coeffs = pd.DataFrame(\n",
        "    {'Ridge GD': coefficients_model1,\n",
        "     'Ridge SGD': coefficients_model2,\n",
        "     'Ridge Scikit': coefficients_model3},\n",
        "    index=feature_names\n",
        ")\n",
        "df_coeffs"
      ],
      "metadata": {
        "colab": {
          "base_uri": "https://localhost:8080/",
          "height": 394
        },
        "id": "6w-moZSrnvRy",
        "outputId": "6cbe4785-0546-4a25-c658-f1056bd22b60"
      },
      "execution_count": 218,
      "outputs": [
        {
          "output_type": "execute_result",
          "data": {
            "text/plain": [
              "                      Ridge GD  Ridge SGD  Ridge Scikit\n",
              "fixed acidity         0.020722  -0.020916     -0.015607\n",
              "volatile acidity     -0.187954  -0.186581     -1.873983\n",
              "citric acid          -0.005628   0.006235     -0.067259\n",
              "residual sugar        0.328247   0.247185      0.043959\n",
              "chlorides            -0.000521   0.012782     -0.285019\n",
              "free sulfur dioxide   0.081615   0.068129      0.005308\n",
              "total sulfur dioxide -0.012943  -0.005627     -0.000499\n",
              "density              -0.331773  -0.162016    -57.231984\n",
              "pH                    0.093329   0.051627      0.431521\n",
              "sulphates             0.092603   0.062878      0.746410\n",
              "alcohol               0.306201   0.375949      0.305563"
            ],
            "text/html": [
              "\n",
              "  <div id=\"df-44e930c4-f26d-40e4-868b-9a8049d1bda6\" class=\"colab-df-container\">\n",
              "    <div>\n",
              "<style scoped>\n",
              "    .dataframe tbody tr th:only-of-type {\n",
              "        vertical-align: middle;\n",
              "    }\n",
              "\n",
              "    .dataframe tbody tr th {\n",
              "        vertical-align: top;\n",
              "    }\n",
              "\n",
              "    .dataframe thead th {\n",
              "        text-align: right;\n",
              "    }\n",
              "</style>\n",
              "<table border=\"1\" class=\"dataframe\">\n",
              "  <thead>\n",
              "    <tr style=\"text-align: right;\">\n",
              "      <th></th>\n",
              "      <th>Ridge GD</th>\n",
              "      <th>Ridge SGD</th>\n",
              "      <th>Ridge Scikit</th>\n",
              "    </tr>\n",
              "  </thead>\n",
              "  <tbody>\n",
              "    <tr>\n",
              "      <th>fixed acidity</th>\n",
              "      <td>0.020722</td>\n",
              "      <td>-0.020916</td>\n",
              "      <td>-0.015607</td>\n",
              "    </tr>\n",
              "    <tr>\n",
              "      <th>volatile acidity</th>\n",
              "      <td>-0.187954</td>\n",
              "      <td>-0.186581</td>\n",
              "      <td>-1.873983</td>\n",
              "    </tr>\n",
              "    <tr>\n",
              "      <th>citric acid</th>\n",
              "      <td>-0.005628</td>\n",
              "      <td>0.006235</td>\n",
              "      <td>-0.067259</td>\n",
              "    </tr>\n",
              "    <tr>\n",
              "      <th>residual sugar</th>\n",
              "      <td>0.328247</td>\n",
              "      <td>0.247185</td>\n",
              "      <td>0.043959</td>\n",
              "    </tr>\n",
              "    <tr>\n",
              "      <th>chlorides</th>\n",
              "      <td>-0.000521</td>\n",
              "      <td>0.012782</td>\n",
              "      <td>-0.285019</td>\n",
              "    </tr>\n",
              "    <tr>\n",
              "      <th>free sulfur dioxide</th>\n",
              "      <td>0.081615</td>\n",
              "      <td>0.068129</td>\n",
              "      <td>0.005308</td>\n",
              "    </tr>\n",
              "    <tr>\n",
              "      <th>total sulfur dioxide</th>\n",
              "      <td>-0.012943</td>\n",
              "      <td>-0.005627</td>\n",
              "      <td>-0.000499</td>\n",
              "    </tr>\n",
              "    <tr>\n",
              "      <th>density</th>\n",
              "      <td>-0.331773</td>\n",
              "      <td>-0.162016</td>\n",
              "      <td>-57.231984</td>\n",
              "    </tr>\n",
              "    <tr>\n",
              "      <th>pH</th>\n",
              "      <td>0.093329</td>\n",
              "      <td>0.051627</td>\n",
              "      <td>0.431521</td>\n",
              "    </tr>\n",
              "    <tr>\n",
              "      <th>sulphates</th>\n",
              "      <td>0.092603</td>\n",
              "      <td>0.062878</td>\n",
              "      <td>0.746410</td>\n",
              "    </tr>\n",
              "    <tr>\n",
              "      <th>alcohol</th>\n",
              "      <td>0.306201</td>\n",
              "      <td>0.375949</td>\n",
              "      <td>0.305563</td>\n",
              "    </tr>\n",
              "  </tbody>\n",
              "</table>\n",
              "</div>\n",
              "    <div class=\"colab-df-buttons\">\n",
              "\n",
              "  <div class=\"colab-df-container\">\n",
              "    <button class=\"colab-df-convert\" onclick=\"convertToInteractive('df-44e930c4-f26d-40e4-868b-9a8049d1bda6')\"\n",
              "            title=\"Convert this dataframe to an interactive table.\"\n",
              "            style=\"display:none;\">\n",
              "\n",
              "  <svg xmlns=\"http://www.w3.org/2000/svg\" height=\"24px\" viewBox=\"0 -960 960 960\">\n",
              "    <path d=\"M120-120v-720h720v720H120Zm60-500h600v-160H180v160Zm220 220h160v-160H400v160Zm0 220h160v-160H400v160ZM180-400h160v-160H180v160Zm440 0h160v-160H620v160ZM180-180h160v-160H180v160Zm440 0h160v-160H620v160Z\"/>\n",
              "  </svg>\n",
              "    </button>\n",
              "\n",
              "  <style>\n",
              "    .colab-df-container {\n",
              "      display:flex;\n",
              "      gap: 12px;\n",
              "    }\n",
              "\n",
              "    .colab-df-convert {\n",
              "      background-color: #E8F0FE;\n",
              "      border: none;\n",
              "      border-radius: 50%;\n",
              "      cursor: pointer;\n",
              "      display: none;\n",
              "      fill: #1967D2;\n",
              "      height: 32px;\n",
              "      padding: 0 0 0 0;\n",
              "      width: 32px;\n",
              "    }\n",
              "\n",
              "    .colab-df-convert:hover {\n",
              "      background-color: #E2EBFA;\n",
              "      box-shadow: 0px 1px 2px rgba(60, 64, 67, 0.3), 0px 1px 3px 1px rgba(60, 64, 67, 0.15);\n",
              "      fill: #174EA6;\n",
              "    }\n",
              "\n",
              "    .colab-df-buttons div {\n",
              "      margin-bottom: 4px;\n",
              "    }\n",
              "\n",
              "    [theme=dark] .colab-df-convert {\n",
              "      background-color: #3B4455;\n",
              "      fill: #D2E3FC;\n",
              "    }\n",
              "\n",
              "    [theme=dark] .colab-df-convert:hover {\n",
              "      background-color: #434B5C;\n",
              "      box-shadow: 0px 1px 3px 1px rgba(0, 0, 0, 0.15);\n",
              "      filter: drop-shadow(0px 1px 2px rgba(0, 0, 0, 0.3));\n",
              "      fill: #FFFFFF;\n",
              "    }\n",
              "  </style>\n",
              "\n",
              "    <script>\n",
              "      const buttonEl =\n",
              "        document.querySelector('#df-44e930c4-f26d-40e4-868b-9a8049d1bda6 button.colab-df-convert');\n",
              "      buttonEl.style.display =\n",
              "        google.colab.kernel.accessAllowed ? 'block' : 'none';\n",
              "\n",
              "      async function convertToInteractive(key) {\n",
              "        const element = document.querySelector('#df-44e930c4-f26d-40e4-868b-9a8049d1bda6');\n",
              "        const dataTable =\n",
              "          await google.colab.kernel.invokeFunction('convertToInteractive',\n",
              "                                                    [key], {});\n",
              "        if (!dataTable) return;\n",
              "\n",
              "        const docLinkHtml = 'Like what you see? Visit the ' +\n",
              "          '<a target=\"_blank\" href=https://colab.research.google.com/notebooks/data_table.ipynb>data table notebook</a>'\n",
              "          + ' to learn more about interactive tables.';\n",
              "        element.innerHTML = '';\n",
              "        dataTable['output_type'] = 'display_data';\n",
              "        await google.colab.output.renderOutput(dataTable, element);\n",
              "        const docLink = document.createElement('div');\n",
              "        docLink.innerHTML = docLinkHtml;\n",
              "        element.appendChild(docLink);\n",
              "      }\n",
              "    </script>\n",
              "  </div>\n",
              "\n",
              "\n",
              "<div id=\"df-a2ee9c86-7ec3-40ff-9f92-94051f0ffda3\">\n",
              "  <button class=\"colab-df-quickchart\" onclick=\"quickchart('df-a2ee9c86-7ec3-40ff-9f92-94051f0ffda3')\"\n",
              "            title=\"Suggest charts\"\n",
              "            style=\"display:none;\">\n",
              "\n",
              "<svg xmlns=\"http://www.w3.org/2000/svg\" height=\"24px\"viewBox=\"0 0 24 24\"\n",
              "     width=\"24px\">\n",
              "    <g>\n",
              "        <path d=\"M19 3H5c-1.1 0-2 .9-2 2v14c0 1.1.9 2 2 2h14c1.1 0 2-.9 2-2V5c0-1.1-.9-2-2-2zM9 17H7v-7h2v7zm4 0h-2V7h2v10zm4 0h-2v-4h2v4z\"/>\n",
              "    </g>\n",
              "</svg>\n",
              "  </button>\n",
              "\n",
              "<style>\n",
              "  .colab-df-quickchart {\n",
              "      --bg-color: #E8F0FE;\n",
              "      --fill-color: #1967D2;\n",
              "      --hover-bg-color: #E2EBFA;\n",
              "      --hover-fill-color: #174EA6;\n",
              "      --disabled-fill-color: #AAA;\n",
              "      --disabled-bg-color: #DDD;\n",
              "  }\n",
              "\n",
              "  [theme=dark] .colab-df-quickchart {\n",
              "      --bg-color: #3B4455;\n",
              "      --fill-color: #D2E3FC;\n",
              "      --hover-bg-color: #434B5C;\n",
              "      --hover-fill-color: #FFFFFF;\n",
              "      --disabled-bg-color: #3B4455;\n",
              "      --disabled-fill-color: #666;\n",
              "  }\n",
              "\n",
              "  .colab-df-quickchart {\n",
              "    background-color: var(--bg-color);\n",
              "    border: none;\n",
              "    border-radius: 50%;\n",
              "    cursor: pointer;\n",
              "    display: none;\n",
              "    fill: var(--fill-color);\n",
              "    height: 32px;\n",
              "    padding: 0;\n",
              "    width: 32px;\n",
              "  }\n",
              "\n",
              "  .colab-df-quickchart:hover {\n",
              "    background-color: var(--hover-bg-color);\n",
              "    box-shadow: 0 1px 2px rgba(60, 64, 67, 0.3), 0 1px 3px 1px rgba(60, 64, 67, 0.15);\n",
              "    fill: var(--button-hover-fill-color);\n",
              "  }\n",
              "\n",
              "  .colab-df-quickchart-complete:disabled,\n",
              "  .colab-df-quickchart-complete:disabled:hover {\n",
              "    background-color: var(--disabled-bg-color);\n",
              "    fill: var(--disabled-fill-color);\n",
              "    box-shadow: none;\n",
              "  }\n",
              "\n",
              "  .colab-df-spinner {\n",
              "    border: 2px solid var(--fill-color);\n",
              "    border-color: transparent;\n",
              "    border-bottom-color: var(--fill-color);\n",
              "    animation:\n",
              "      spin 1s steps(1) infinite;\n",
              "  }\n",
              "\n",
              "  @keyframes spin {\n",
              "    0% {\n",
              "      border-color: transparent;\n",
              "      border-bottom-color: var(--fill-color);\n",
              "      border-left-color: var(--fill-color);\n",
              "    }\n",
              "    20% {\n",
              "      border-color: transparent;\n",
              "      border-left-color: var(--fill-color);\n",
              "      border-top-color: var(--fill-color);\n",
              "    }\n",
              "    30% {\n",
              "      border-color: transparent;\n",
              "      border-left-color: var(--fill-color);\n",
              "      border-top-color: var(--fill-color);\n",
              "      border-right-color: var(--fill-color);\n",
              "    }\n",
              "    40% {\n",
              "      border-color: transparent;\n",
              "      border-right-color: var(--fill-color);\n",
              "      border-top-color: var(--fill-color);\n",
              "    }\n",
              "    60% {\n",
              "      border-color: transparent;\n",
              "      border-right-color: var(--fill-color);\n",
              "    }\n",
              "    80% {\n",
              "      border-color: transparent;\n",
              "      border-right-color: var(--fill-color);\n",
              "      border-bottom-color: var(--fill-color);\n",
              "    }\n",
              "    90% {\n",
              "      border-color: transparent;\n",
              "      border-bottom-color: var(--fill-color);\n",
              "    }\n",
              "  }\n",
              "</style>\n",
              "\n",
              "  <script>\n",
              "    async function quickchart(key) {\n",
              "      const quickchartButtonEl =\n",
              "        document.querySelector('#' + key + ' button');\n",
              "      quickchartButtonEl.disabled = true;  // To prevent multiple clicks.\n",
              "      quickchartButtonEl.classList.add('colab-df-spinner');\n",
              "      try {\n",
              "        const charts = await google.colab.kernel.invokeFunction(\n",
              "            'suggestCharts', [key], {});\n",
              "      } catch (error) {\n",
              "        console.error('Error during call to suggestCharts:', error);\n",
              "      }\n",
              "      quickchartButtonEl.classList.remove('colab-df-spinner');\n",
              "      quickchartButtonEl.classList.add('colab-df-quickchart-complete');\n",
              "    }\n",
              "    (() => {\n",
              "      let quickchartButtonEl =\n",
              "        document.querySelector('#df-a2ee9c86-7ec3-40ff-9f92-94051f0ffda3 button');\n",
              "      quickchartButtonEl.style.display =\n",
              "        google.colab.kernel.accessAllowed ? 'block' : 'none';\n",
              "    })();\n",
              "  </script>\n",
              "</div>\n",
              "    </div>\n",
              "  </div>\n"
            ]
          },
          "metadata": {},
          "execution_count": 218
        }
      ]
    },
    {
      "cell_type": "markdown",
      "source": [
        "We can see that the coefficients slightly differ. For example the **fixed acidity**, **citric acid** and **chlorides** have different signs for GD and SGD Ridge, but the difference is not very big. We can see a big difference for the attribute **residual sugar**, **free sulfur dioxide**, **pH**, and **sulphates** between the Scikit version of Ridge and the other two. An extreme difference is visible for the attribute **density** for which the coeeficient of Ridge Scikit is more than 50 times bigger."
      ],
      "metadata": {
        "id": "lE7sSFnlpotM"
      }
    },
    {
      "cell_type": "code",
      "source": [
        "# Visualize the coefficients with a bar plot\n",
        "df_coeffs.plot(kind='bar', figsize=(15, 7))\n",
        "plt.title('Comparison of Ridge Regression Model Coefficients')\n",
        "plt.ylabel('Coefficient Value')\n",
        "plt.xlabel('Features')\n",
        "plt.axhline(y=0, linestyle='--', color='black', linewidth=1)\n",
        "plt.legend(loc='best')\n",
        "plt.tight_layout()\n",
        "plt.show()"
      ],
      "metadata": {
        "colab": {
          "base_uri": "https://localhost:8080/",
          "height": 707
        },
        "id": "K2si7s8VorJF",
        "outputId": "a8d004cf-4515-498f-d531-41e0c55bd811"
      },
      "execution_count": 219,
      "outputs": [
        {
          "output_type": "display_data",
          "data": {
            "text/plain": [
              "<Figure size 1500x700 with 1 Axes>"
            ],
            "image/png": "[encoded data removed]"
          },
          "metadata": {}
        }
      ]
    },
    {
      "cell_type": "markdown",
      "source": [
        "For most of the attributes we got similar coefficients from each model, but still there are some attributes that have pretty big difference in their value or sign. Since the GD and SGD ridge regressions give better scores, we could say that their coefficients are more valid. So let's only compare their coefficients."
      ],
      "metadata": {
        "id": "_zdxkvU9qZ3K"
      }
    },
    {
      "cell_type": "code",
      "source": [
        "df_coeffs = pd.DataFrame(\n",
        "    {'Ridge GD': coefficients_model1,\n",
        "     'Ridge SGD': coefficients_model2},\n",
        "    index=feature_names\n",
        ")\n",
        "df_coeffs"
      ],
      "metadata": {
        "colab": {
          "base_uri": "https://localhost:8080/",
          "height": 394
        },
        "id": "Z5odAqwPFYQK",
        "outputId": "79bc75da-4268-46b8-e939-c83487cc9a88"
      },
      "execution_count": 220,
      "outputs": [
        {
          "output_type": "execute_result",
          "data": {
            "text/plain": [
              "                      Ridge GD  Ridge SGD\n",
              "fixed acidity         0.020722  -0.020916\n",
              "volatile acidity     -0.187954  -0.186581\n",
              "citric acid          -0.005628   0.006235\n",
              "residual sugar        0.328247   0.247185\n",
              "chlorides            -0.000521   0.012782\n",
              "free sulfur dioxide   0.081615   0.068129\n",
              "total sulfur dioxide -0.012943  -0.005627\n",
              "density              -0.331773  -0.162016\n",
              "pH                    0.093329   0.051627\n",
              "sulphates             0.092603   0.062878\n",
              "alcohol               0.306201   0.375949"
            ],
            "text/html": [
              "\n",
              "  <div id=\"df-49f87711-82a8-4a5e-974a-11201761d861\" class=\"colab-df-container\">\n",
              "    <div>\n",
              "<style scoped>\n",
              "    .dataframe tbody tr th:only-of-type {\n",
              "        vertical-align: middle;\n",
              "    }\n",
              "\n",
              "    .dataframe tbody tr th {\n",
              "        vertical-align: top;\n",
              "    }\n",
              "\n",
              "    .dataframe thead th {\n",
              "        text-align: right;\n",
              "    }\n",
              "</style>\n",
              "<table border=\"1\" class=\"dataframe\">\n",
              "  <thead>\n",
              "    <tr style=\"text-align: right;\">\n",
              "      <th></th>\n",
              "      <th>Ridge GD</th>\n",
              "      <th>Ridge SGD</th>\n",
              "    </tr>\n",
              "  </thead>\n",
              "  <tbody>\n",
              "    <tr>\n",
              "      <th>fixed acidity</th>\n",
              "      <td>0.020722</td>\n",
              "      <td>-0.020916</td>\n",
              "    </tr>\n",
              "    <tr>\n",
              "      <th>volatile acidity</th>\n",
              "      <td>-0.187954</td>\n",
              "      <td>-0.186581</td>\n",
              "    </tr>\n",
              "    <tr>\n",
              "      <th>citric acid</th>\n",
              "      <td>-0.005628</td>\n",
              "      <td>0.006235</td>\n",
              "    </tr>\n",
              "    <tr>\n",
              "      <th>residual sugar</th>\n",
              "      <td>0.328247</td>\n",
              "      <td>0.247185</td>\n",
              "    </tr>\n",
              "    <tr>\n",
              "      <th>chlorides</th>\n",
              "      <td>-0.000521</td>\n",
              "      <td>0.012782</td>\n",
              "    </tr>\n",
              "    <tr>\n",
              "      <th>free sulfur dioxide</th>\n",
              "      <td>0.081615</td>\n",
              "      <td>0.068129</td>\n",
              "    </tr>\n",
              "    <tr>\n",
              "      <th>total sulfur dioxide</th>\n",
              "      <td>-0.012943</td>\n",
              "      <td>-0.005627</td>\n",
              "    </tr>\n",
              "    <tr>\n",
              "      <th>density</th>\n",
              "      <td>-0.331773</td>\n",
              "      <td>-0.162016</td>\n",
              "    </tr>\n",
              "    <tr>\n",
              "      <th>pH</th>\n",
              "      <td>0.093329</td>\n",
              "      <td>0.051627</td>\n",
              "    </tr>\n",
              "    <tr>\n",
              "      <th>sulphates</th>\n",
              "      <td>0.092603</td>\n",
              "      <td>0.062878</td>\n",
              "    </tr>\n",
              "    <tr>\n",
              "      <th>alcohol</th>\n",
              "      <td>0.306201</td>\n",
              "      <td>0.375949</td>\n",
              "    </tr>\n",
              "  </tbody>\n",
              "</table>\n",
              "</div>\n",
              "    <div class=\"colab-df-buttons\">\n",
              "\n",
              "  <div class=\"colab-df-container\">\n",
              "    <button class=\"colab-df-convert\" onclick=\"convertToInteractive('df-49f87711-82a8-4a5e-974a-11201761d861')\"\n",
              "            title=\"Convert this dataframe to an interactive table.\"\n",
              "            style=\"display:none;\">\n",
              "\n",
              "  <svg xmlns=\"http://www.w3.org/2000/svg\" height=\"24px\" viewBox=\"0 -960 960 960\">\n",
              "    <path d=\"M120-120v-720h720v720H120Zm60-500h600v-160H180v160Zm220 220h160v-160H400v160Zm0 220h160v-160H400v160ZM180-400h160v-160H180v160Zm440 0h160v-160H620v160ZM180-180h160v-160H180v160Zm440 0h160v-160H620v160Z\"/>\n",
              "  </svg>\n",
              "    </button>\n",
              "\n",
              "  <style>\n",
              "    .colab-df-container {\n",
              "      display:flex;\n",
              "      gap: 12px;\n",
              "    }\n",
              "\n",
              "    .colab-df-convert {\n",
              "      background-color: #E8F0FE;\n",
              "      border: none;\n",
              "      border-radius: 50%;\n",
              "      cursor: pointer;\n",
              "      display: none;\n",
              "      fill: #1967D2;\n",
              "      height: 32px;\n",
              "      padding: 0 0 0 0;\n",
              "      width: 32px;\n",
              "    }\n",
              "\n",
              "    .colab-df-convert:hover {\n",
              "      background-color: #E2EBFA;\n",
              "      box-shadow: 0px 1px 2px rgba(60, 64, 67, 0.3), 0px 1px 3px 1px rgba(60, 64, 67, 0.15);\n",
              "      fill: #174EA6;\n",
              "    }\n",
              "\n",
              "    .colab-df-buttons div {\n",
              "      margin-bottom: 4px;\n",
              "    }\n",
              "\n",
              "    [theme=dark] .colab-df-convert {\n",
              "      background-color: #3B4455;\n",
              "      fill: #D2E3FC;\n",
              "    }\n",
              "\n",
              "    [theme=dark] .colab-df-convert:hover {\n",
              "      background-color: #434B5C;\n",
              "      box-shadow: 0px 1px 3px 1px rgba(0, 0, 0, 0.15);\n",
              "      filter: drop-shadow(0px 1px 2px rgba(0, 0, 0, 0.3));\n",
              "      fill: #FFFFFF;\n",
              "    }\n",
              "  </style>\n",
              "\n",
              "    <script>\n",
              "      const buttonEl =\n",
              "        document.querySelector('#df-49f87711-82a8-4a5e-974a-11201761d861 button.colab-df-convert');\n",
              "      buttonEl.style.display =\n",
              "        google.colab.kernel.accessAllowed ? 'block' : 'none';\n",
              "\n",
              "      async function convertToInteractive(key) {\n",
              "        const element = document.querySelector('#df-49f87711-82a8-4a5e-974a-11201761d861');\n",
              "        const dataTable =\n",
              "          await google.colab.kernel.invokeFunction('convertToInteractive',\n",
              "                                                    [key], {});\n",
              "        if (!dataTable) return;\n",
              "\n",
              "        const docLinkHtml = 'Like what you see? Visit the ' +\n",
              "          '<a target=\"_blank\" href=https://colab.research.google.com/notebooks/data_table.ipynb>data table notebook</a>'\n",
              "          + ' to learn more about interactive tables.';\n",
              "        element.innerHTML = '';\n",
              "        dataTable['output_type'] = 'display_data';\n",
              "        await google.colab.output.renderOutput(dataTable, element);\n",
              "        const docLink = document.createElement('div');\n",
              "        docLink.innerHTML = docLinkHtml;\n",
              "        element.appendChild(docLink);\n",
              "      }\n",
              "    </script>\n",
              "  </div>\n",
              "\n",
              "\n",
              "<div id=\"df-4819f05c-fb22-47ac-a5b7-92a1ec0e299a\">\n",
              "  <button class=\"colab-df-quickchart\" onclick=\"quickchart('df-4819f05c-fb22-47ac-a5b7-92a1ec0e299a')\"\n",
              "            title=\"Suggest charts\"\n",
              "            style=\"display:none;\">\n",
              "\n",
              "<svg xmlns=\"http://www.w3.org/2000/svg\" height=\"24px\"viewBox=\"0 0 24 24\"\n",
              "     width=\"24px\">\n",
              "    <g>\n",
              "        <path d=\"M19 3H5c-1.1 0-2 .9-2 2v14c0 1.1.9 2 2 2h14c1.1 0 2-.9 2-2V5c0-1.1-.9-2-2-2zM9 17H7v-7h2v7zm4 0h-2V7h2v10zm4 0h-2v-4h2v4z\"/>\n",
              "    </g>\n",
              "</svg>\n",
              "  </button>\n",
              "\n",
              "<style>\n",
              "  .colab-df-quickchart {\n",
              "      --bg-color: #E8F0FE;\n",
              "      --fill-color: #1967D2;\n",
              "      --hover-bg-color: #E2EBFA;\n",
              "      --hover-fill-color: #174EA6;\n",
              "      --disabled-fill-color: #AAA;\n",
              "      --disabled-bg-color: #DDD;\n",
              "  }\n",
              "\n",
              "  [theme=dark] .colab-df-quickchart {\n",
              "      --bg-color: #3B4455;\n",
              "      --fill-color: #D2E3FC;\n",
              "      --hover-bg-color: #434B5C;\n",
              "      --hover-fill-color: #FFFFFF;\n",
              "      --disabled-bg-color: #3B4455;\n",
              "      --disabled-fill-color: #666;\n",
              "  }\n",
              "\n",
              "  .colab-df-quickchart {\n",
              "    background-color: var(--bg-color);\n",
              "    border: none;\n",
              "    border-radius: 50%;\n",
              "    cursor: pointer;\n",
              "    display: none;\n",
              "    fill: var(--fill-color);\n",
              "    height: 32px;\n",
              "    padding: 0;\n",
              "    width: 32px;\n",
              "  }\n",
              "\n",
              "  .colab-df-quickchart:hover {\n",
              "    background-color: var(--hover-bg-color);\n",
              "    box-shadow: 0 1px 2px rgba(60, 64, 67, 0.3), 0 1px 3px 1px rgba(60, 64, 67, 0.15);\n",
              "    fill: var(--button-hover-fill-color);\n",
              "  }\n",
              "\n",
              "  .colab-df-quickchart-complete:disabled,\n",
              "  .colab-df-quickchart-complete:disabled:hover {\n",
              "    background-color: var(--disabled-bg-color);\n",
              "    fill: var(--disabled-fill-color);\n",
              "    box-shadow: none;\n",
              "  }\n",
              "\n",
              "  .colab-df-spinner {\n",
              "    border: 2px solid var(--fill-color);\n",
              "    border-color: transparent;\n",
              "    border-bottom-color: var(--fill-color);\n",
              "    animation:\n",
              "      spin 1s steps(1) infinite;\n",
              "  }\n",
              "\n",
              "  @keyframes spin {\n",
              "    0% {\n",
              "      border-color: transparent;\n",
              "      border-bottom-color: var(--fill-color);\n",
              "      border-left-color: var(--fill-color);\n",
              "    }\n",
              "    20% {\n",
              "      border-color: transparent;\n",
              "      border-left-color: var(--fill-color);\n",
              "      border-top-color: var(--fill-color);\n",
              "    }\n",
              "    30% {\n",
              "      border-color: transparent;\n",
              "      border-left-color: var(--fill-color);\n",
              "      border-top-color: var(--fill-color);\n",
              "      border-right-color: var(--fill-color);\n",
              "    }\n",
              "    40% {\n",
              "      border-color: transparent;\n",
              "      border-right-color: var(--fill-color);\n",
              "      border-top-color: var(--fill-color);\n",
              "    }\n",
              "    60% {\n",
              "      border-color: transparent;\n",
              "      border-right-color: var(--fill-color);\n",
              "    }\n",
              "    80% {\n",
              "      border-color: transparent;\n",
              "      border-right-color: var(--fill-color);\n",
              "      border-bottom-color: var(--fill-color);\n",
              "    }\n",
              "    90% {\n",
              "      border-color: transparent;\n",
              "      border-bottom-color: var(--fill-color);\n",
              "    }\n",
              "  }\n",
              "</style>\n",
              "\n",
              "  <script>\n",
              "    async function quickchart(key) {\n",
              "      const quickchartButtonEl =\n",
              "        document.querySelector('#' + key + ' button');\n",
              "      quickchartButtonEl.disabled = true;  // To prevent multiple clicks.\n",
              "      quickchartButtonEl.classList.add('colab-df-spinner');\n",
              "      try {\n",
              "        const charts = await google.colab.kernel.invokeFunction(\n",
              "            'suggestCharts', [key], {});\n",
              "      } catch (error) {\n",
              "        console.error('Error during call to suggestCharts:', error);\n",
              "      }\n",
              "      quickchartButtonEl.classList.remove('colab-df-spinner');\n",
              "      quickchartButtonEl.classList.add('colab-df-quickchart-complete');\n",
              "    }\n",
              "    (() => {\n",
              "      let quickchartButtonEl =\n",
              "        document.querySelector('#df-4819f05c-fb22-47ac-a5b7-92a1ec0e299a button');\n",
              "      quickchartButtonEl.style.display =\n",
              "        google.colab.kernel.accessAllowed ? 'block' : 'none';\n",
              "    })();\n",
              "  </script>\n",
              "</div>\n",
              "    </div>\n",
              "  </div>\n"
            ]
          },
          "metadata": {},
          "execution_count": 220
        }
      ]
    },
    {
      "cell_type": "code",
      "source": [
        "# Visualize the coefficients with a bar plot\n",
        "df_coeffs.plot(kind='bar', figsize=(15, 7))\n",
        "plt.title('Comparison of Ridge Regression Model Coefficients')\n",
        "plt.ylabel('Coefficient Value')\n",
        "plt.xlabel('Features')\n",
        "plt.axhline(y=0, linestyle='--', color='black', linewidth=1)\n",
        "plt.legend(loc='best')\n",
        "plt.tight_layout()\n",
        "plt.show()"
      ],
      "metadata": {
        "colab": {
          "base_uri": "https://localhost:8080/",
          "height": 707
        },
        "id": "7rJ8O4jJFheK",
        "outputId": "b988319a-6b4e-46af-b246-b7a020456abb"
      },
      "execution_count": 221,
      "outputs": [
        {
          "output_type": "display_data",
          "data": {
            "text/plain": [
              "<Figure size 1500x700 with 1 Axes>"
            ],
            "image/png": "[encoded data removed]"
          },
          "metadata": {}
        }
      ]
    },
    {
      "cell_type": "markdown",
      "source": [
        "Here we can clearly see how important are different attributes for the prediction in both Ridge implementations."
      ],
      "metadata": {
        "id": "rv6AO4MwFmTS"
      }
    }
  ]
}